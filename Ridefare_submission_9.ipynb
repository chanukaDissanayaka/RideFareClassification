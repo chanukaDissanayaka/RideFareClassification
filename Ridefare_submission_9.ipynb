{
  "nbformat": 4,
  "nbformat_minor": 0,
  "metadata": {
    "colab": {
      "name": "Ridefare_submission_9.ipynb",
      "provenance": [],
      "collapsed_sections": [],
      "authorship_tag": "ABX9TyPu7gOwmexJtjdcVWpdrwc+",
      "include_colab_link": true
    },
    "kernelspec": {
      "name": "python3",
      "display_name": "Python 3"
    }
  },
  "cells": [
    {
      "cell_type": "markdown",
      "metadata": {
        "id": "view-in-github",
        "colab_type": "text"
      },
      "source": [
        "<a href=\"https://colab.research.google.com/github/chanukaDissanayaka/RideFareClassification/blob/master/Ridefare_submission_9.ipynb\" target=\"_parent\"><img src=\"https://colab.research.google.com/assets/colab-badge.svg\" alt=\"Open In Colab\"/></a>"
      ]
    },
    {
      "cell_type": "code",
      "metadata": {
        "id": "JNd9bnpB9S9w",
        "colab_type": "code",
        "colab": {}
      },
      "source": [
        "#imports\n",
        "\n",
        "import pandas as pd\n",
        "from keras.models import Sequential\n",
        "from keras.layers import Dense\n",
        "from keras.wrappers.scikit_learn import KerasClassifier\n",
        "from sklearn.model_selection import cross_val_score\n",
        "from sklearn.preprocessing import LabelEncoder\n",
        "from sklearn.model_selection import StratifiedKFold\n",
        "from sklearn.preprocessing import StandardScaler\n",
        "from sklearn.pipeline import Pipeline\n",
        "from sklearn.metrics import f1_score\n",
        "from sklearn.preprocessing import MinMaxScaler\n",
        "from sklearn.preprocessing import MaxAbsScaler\n",
        "from sklearn.compose import ColumnTransformer\n",
        "from sklearn.preprocessing import OrdinalEncoder\n",
        "from sklearn.preprocessing import StandardScaler, OneHotEncoder\n",
        "\n",
        "from datetime import datetime, timedelta\n",
        "from pandas import DataFrame\n",
        "\n",
        "from sklearn.pipeline import Pipeline\n",
        "\n",
        "from sklearn.model_selection import train_test_split\n",
        "from sklearn.impute import SimpleImputer\n",
        "from sklearn.compose import ColumnTransformer\n",
        "from sklearn.naive_bayes import GaussianNB\n",
        "from sklearn.metrics import accuracy_score\n",
        "\n",
        "from sklearn.ensemble import RandomForestClassifier\n",
        "\n",
        "import numpy as np\n",
        "\n",
        "RANDOM_SEED = 4"
      ],
      "execution_count": 0,
      "outputs": []
    },
    {
      "cell_type": "code",
      "metadata": {
        "id": "mIIBYr6M9aVi",
        "colab_type": "code",
        "colab": {}
      },
      "source": [
        "dataframe = pd.read_csv(\"/content/train.csv\")\n",
        "test = pd.read_csv(\"/content/test.csv\")\n",
        "\n",
        "dataframe.isna().sum(axis = 0)\n",
        "#dataframe = dataframe.fillna(method='ffill')\n",
        "dataframe = dataframe.dropna()"
      ],
      "execution_count": 0,
      "outputs": []
    },
    {
      "cell_type": "code",
      "metadata": {
        "id": "v40LrekZ9joQ",
        "colab_type": "code",
        "colab": {}
      },
      "source": [
        "def preprocess_train_data(dataframe):\n",
        "  feature_set = dataframe.iloc[:,1:13]\n",
        "\n",
        "  features = feature_set\n",
        "\n",
        "  features['pickup_time'] = pd.to_datetime(features['pickup_time'], format=\"%m/%d/%Y %H:%M\")\n",
        "  features['drop_time'] = pd.to_datetime(features['drop_time'], format=\"%m/%d/%Y %H:%M\")\n",
        "\n",
        "  td = features\n",
        "\n",
        "  td['pickup_time_year'] = td['pickup_time'].dt.year\n",
        "  td['pickup_time_month'] = td['pickup_time'].dt.month\n",
        "  td['pickup_time_day'] = td['pickup_time'].dt.day\n",
        "  td['pickup_time_hour'] = td['pickup_time'].dt.hour\n",
        "  td['pickup_time_minute'] = td['pickup_time'].dt.minute\n",
        "\n",
        "  td['drop_time_year'] = td['drop_time'].dt.year\n",
        "  td['drop_time_month'] = td['drop_time'].dt.month\n",
        "  td['drop_time_day'] = td['drop_time'].dt.day\n",
        "  td['drop_time_hour'] = td['drop_time'].dt.hour\n",
        "  td['drop_time_minute'] = td['drop_time'].dt.minute\n",
        "\n",
        "  td = td.drop('pickup_time',1)\n",
        "  td = td.drop('drop_time',1)\n",
        "\n",
        "  return td\n",
        "\n",
        "def get_labels(dataframe):\n",
        "  label_set = dataframe.iloc[:, 13:14]\n",
        "\n",
        "  rev_label_set = label_set.replace({'correct':'incorrect', 'incorrect':'correct'})\n",
        "\n",
        "  encoder = LabelEncoder()\n",
        "  encoder.fit(rev_label_set)\n",
        "  labels = encoder.transform(rev_label_set)\n",
        "  return labels\n",
        "\n",
        "def set_time_of_the_day(cleaned_train_set):\n",
        "  cleaned_train_set.head()\n",
        "  newFrame = cleaned_train_set\n",
        "  tt = newFrame\n",
        "\n",
        "  d0_index = newFrame[(newFrame['pickup_time_hour']>=0) & (newFrame['pickup_time_hour'] < 6 )].index\n",
        "  tt.loc[d0_index,'time_of_day']=0\n",
        "\n",
        "  d1_index = newFrame[(newFrame['pickup_time_hour']>=6) & (newFrame['pickup_time_hour'] < 12 )].index\n",
        "  tt.loc[d1_index,'time_of_day']=1\n",
        "\n",
        "  d2_index = newFrame[(newFrame['pickup_time_hour']>=12) & (newFrame['pickup_time_hour'] < 18 )].index\n",
        "  tt.loc[d2_index,'time_of_day']=2\n",
        "\n",
        "  d3_index = newFrame[(newFrame['pickup_time_hour']>=18) & (newFrame['pickup_time_hour'] < 24 )].index\n",
        "  tt.loc[d3_index,'time_of_day']=3\n",
        "\n",
        "  return tt"
      ],
      "execution_count": 0,
      "outputs": []
    },
    {
      "cell_type": "code",
      "metadata": {
        "id": "WVuT2T4a99Oy",
        "colab_type": "code",
        "outputId": "2c9f23e3-ebd3-4d29-f4d8-52ef5c6a1ad9",
        "colab": {
          "base_uri": "https://localhost:8080/",
          "height": 110
        }
      },
      "source": [
        "cleaned_train_set = preprocess_train_data(dataframe)\n",
        "labels = get_labels(dataframe)"
      ],
      "execution_count": 5,
      "outputs": [
        {
          "output_type": "stream",
          "text": [
            "/usr/local/lib/python3.6/dist-packages/sklearn/preprocessing/_label.py:235: DataConversionWarning: A column-vector y was passed when a 1d array was expected. Please change the shape of y to (n_samples, ), for example using ravel().\n",
            "  y = column_or_1d(y, warn=True)\n",
            "/usr/local/lib/python3.6/dist-packages/sklearn/preprocessing/_label.py:268: DataConversionWarning: A column-vector y was passed when a 1d array was expected. Please change the shape of y to (n_samples, ), for example using ravel().\n",
            "  y = column_or_1d(y, warn=True)\n"
          ],
          "name": "stderr"
        }
      ]
    },
    {
      "cell_type": "code",
      "metadata": {
        "id": "2bvV0Z2m-TM8",
        "colab_type": "code",
        "colab": {}
      },
      "source": [
        "cleaned_train_set = cleaned_train_set.drop('pickup_time_year',1)\n",
        "cleaned_train_set = cleaned_train_set.drop('pickup_time_month',1)\n",
        "cleaned_train_set = cleaned_train_set.drop('pickup_time_day',1)\n",
        "cleaned_train_set = cleaned_train_set.drop('pickup_time_minute',1)\n",
        "cleaned_train_set = cleaned_train_set.drop('drop_time_year',1)\n",
        "cleaned_train_set = cleaned_train_set.drop('drop_time_month',1)\n",
        "cleaned_train_set = cleaned_train_set.drop('drop_time_day',1)\n",
        "cleaned_train_set = cleaned_train_set.drop('drop_time_minute',1)\n",
        "#cleaned_train_set = set_time_of_the_day(cleaned_train_set)"
      ],
      "execution_count": 0,
      "outputs": []
    },
    {
      "cell_type": "code",
      "metadata": {
        "id": "kwfkZo6O-WKr",
        "colab_type": "code",
        "outputId": "3c7d4da5-b53d-4d05-e68c-7f5b410e8a50",
        "colab": {
          "base_uri": "https://localhost:8080/",
          "height": 226
        }
      },
      "source": [
        "cleaned_train_set.head()"
      ],
      "execution_count": 0,
      "outputs": [
        {
          "output_type": "execute_result",
          "data": {
            "text/html": [
              "<div>\n",
              "<style scoped>\n",
              "    .dataframe tbody tr th:only-of-type {\n",
              "        vertical-align: middle;\n",
              "    }\n",
              "\n",
              "    .dataframe tbody tr th {\n",
              "        vertical-align: top;\n",
              "    }\n",
              "\n",
              "    .dataframe thead th {\n",
              "        text-align: right;\n",
              "    }\n",
              "</style>\n",
              "<table border=\"1\" class=\"dataframe\">\n",
              "  <thead>\n",
              "    <tr style=\"text-align: right;\">\n",
              "      <th></th>\n",
              "      <th>additional_fare</th>\n",
              "      <th>duration</th>\n",
              "      <th>meter_waiting</th>\n",
              "      <th>meter_waiting_fare</th>\n",
              "      <th>meter_waiting_till_pickup</th>\n",
              "      <th>pick_lat</th>\n",
              "      <th>pick_lon</th>\n",
              "      <th>drop_lat</th>\n",
              "      <th>drop_lon</th>\n",
              "      <th>fare</th>\n",
              "      <th>pickup_time_hour</th>\n",
              "      <th>drop_time_hour</th>\n",
              "    </tr>\n",
              "  </thead>\n",
              "  <tbody>\n",
              "    <tr>\n",
              "      <th>0</th>\n",
              "      <td>10.5</td>\n",
              "      <td>834.0</td>\n",
              "      <td>56.0</td>\n",
              "      <td>0.0000</td>\n",
              "      <td>64.0</td>\n",
              "      <td>6.86252</td>\n",
              "      <td>79.8993</td>\n",
              "      <td>6.90330</td>\n",
              "      <td>79.8783</td>\n",
              "      <td>270.32</td>\n",
              "      <td>0</td>\n",
              "      <td>0</td>\n",
              "    </tr>\n",
              "    <tr>\n",
              "      <th>1</th>\n",
              "      <td>10.5</td>\n",
              "      <td>791.0</td>\n",
              "      <td>47.0</td>\n",
              "      <td>0.0000</td>\n",
              "      <td>134.0</td>\n",
              "      <td>6.88589</td>\n",
              "      <td>79.8984</td>\n",
              "      <td>6.91373</td>\n",
              "      <td>79.8923</td>\n",
              "      <td>197.85</td>\n",
              "      <td>0</td>\n",
              "      <td>1</td>\n",
              "    </tr>\n",
              "    <tr>\n",
              "      <th>2</th>\n",
              "      <td>10.5</td>\n",
              "      <td>1087.0</td>\n",
              "      <td>80.0</td>\n",
              "      <td>0.0000</td>\n",
              "      <td>61.0</td>\n",
              "      <td>6.90839</td>\n",
              "      <td>79.8651</td>\n",
              "      <td>6.93669</td>\n",
              "      <td>79.9146</td>\n",
              "      <td>301.64</td>\n",
              "      <td>1</td>\n",
              "      <td>1</td>\n",
              "    </tr>\n",
              "    <tr>\n",
              "      <th>3</th>\n",
              "      <td>10.5</td>\n",
              "      <td>598.0</td>\n",
              "      <td>271.0</td>\n",
              "      <td>15.6638</td>\n",
              "      <td>68.0</td>\n",
              "      <td>6.92570</td>\n",
              "      <td>79.8895</td>\n",
              "      <td>6.92748</td>\n",
              "      <td>79.8971</td>\n",
              "      <td>82.30</td>\n",
              "      <td>2</td>\n",
              "      <td>2</td>\n",
              "    </tr>\n",
              "    <tr>\n",
              "      <th>5</th>\n",
              "      <td>10.5</td>\n",
              "      <td>3407.0</td>\n",
              "      <td>182.0</td>\n",
              "      <td>0.0000</td>\n",
              "      <td>112.0</td>\n",
              "      <td>7.13402</td>\n",
              "      <td>79.8969</td>\n",
              "      <td>6.91865</td>\n",
              "      <td>79.8649</td>\n",
              "      <td>1065.02</td>\n",
              "      <td>5</td>\n",
              "      <td>6</td>\n",
              "    </tr>\n",
              "  </tbody>\n",
              "</table>\n",
              "</div>"
            ],
            "text/plain": [
              "   additional_fare  duration  ...  pickup_time_hour  drop_time_hour\n",
              "0             10.5     834.0  ...                 0               0\n",
              "1             10.5     791.0  ...                 0               1\n",
              "2             10.5    1087.0  ...                 1               1\n",
              "3             10.5     598.0  ...                 2               2\n",
              "5             10.5    3407.0  ...                 5               6\n",
              "\n",
              "[5 rows x 12 columns]"
            ]
          },
          "metadata": {
            "tags": []
          },
          "execution_count": 77
        }
      ]
    },
    {
      "cell_type": "code",
      "metadata": {
        "id": "4jd0tdno-ftT",
        "colab_type": "code",
        "colab": {}
      },
      "source": [
        "numeric_cols = ['meter_waiting','meter_waiting_fare','meter_waiting_till_pickup',\n",
        "               'additional_fare','duration','pick_lat','pick_lon','drop_lat','drop_lon',\n",
        "               'fare','pickup_time_day','pickup_time_hour','pickup_time_minute']\n",
        "numeric_cols = ['meter_waiting','meter_waiting_fare','meter_waiting_till_pickup',\n",
        "               'additional_fare','duration','pick_lat','pick_lon','drop_lat','drop_lon',\n",
        "               'fare','pickup_time_hour']\n",
        "#categorical_cols = ['time_of_day']"
      ],
      "execution_count": 0,
      "outputs": []
    },
    {
      "cell_type": "code",
      "metadata": {
        "id": "QmqIt916-xHd",
        "colab_type": "code",
        "colab": {}
      },
      "source": [
        "X_train, X_eval, Y_train, Y_eval = train_test_split(\n",
        "    cleaned_train_set,\n",
        "    labels,\n",
        "    test_size=0.20,\n",
        "    shuffle=True,\n",
        "    stratify=labels,\n",
        "    random_state=RANDOM_SEED\n",
        ")"
      ],
      "execution_count": 0,
      "outputs": []
    },
    {
      "cell_type": "code",
      "metadata": {
        "id": "y6Jrsx7j_EcW",
        "colab_type": "code",
        "colab": {}
      },
      "source": [
        "numeric_preprocessing_steps = Pipeline([\n",
        "    ('minmax_scaler', MinMaxScaler())\n",
        "])\n",
        "\n",
        "categorical_transformer = Pipeline(steps=[\n",
        "    ('onehot', OneHotEncoder(handle_unknown='ignore'))\n",
        "    ])\n",
        "\n",
        "\n",
        "preprocessor = ColumnTransformer(\n",
        "    transformers = [\n",
        "        (\"numeric\", numeric_preprocessing_steps, numeric_cols),\n",
        "        #(\"categorical\", categorical_transformer, categorical_cols)\n",
        "    ],\n",
        "    remainder = \"drop\"\n",
        ")"
      ],
      "execution_count": 0,
      "outputs": []
    },
    {
      "cell_type": "code",
      "metadata": {
        "id": "OKkm4KpE_lVV",
        "colab_type": "code",
        "colab": {}
      },
      "source": [
        "data_pipeline = Pipeline([\n",
        "    (\"preprocessor\", preprocessor)\n",
        "])"
      ],
      "execution_count": 0,
      "outputs": []
    },
    {
      "cell_type": "code",
      "metadata": {
        "id": "b0v5DTk2_qFs",
        "colab_type": "code",
        "colab": {}
      },
      "source": [
        "data_pipeline.fit(X_train)\n",
        "d_train = data_pipeline.transform(X_train)\n",
        "d_eval = data_pipeline.transform(X_eval)"
      ],
      "execution_count": 0,
      "outputs": []
    },
    {
      "cell_type": "code",
      "metadata": {
        "id": "_T_zbihj_rvM",
        "colab_type": "code",
        "outputId": "1d87691d-df11-4340-bdee-81ca9c10ea38",
        "colab": {
          "base_uri": "https://localhost:8080/",
          "height": 35
        }
      },
      "source": [
        "d_train.shape"
      ],
      "execution_count": 0,
      "outputs": [
        {
          "output_type": "execute_result",
          "data": {
            "text/plain": [
              "(13574, 11)"
            ]
          },
          "metadata": {
            "tags": []
          },
          "execution_count": 87
        }
      ]
    },
    {
      "cell_type": "code",
      "metadata": {
        "id": "YF0SyMzo_uw8",
        "colab_type": "code",
        "outputId": "ee16196b-b7b8-41e6-dced-7cc92fdfb52a",
        "colab": {
          "base_uri": "https://localhost:8080/",
          "height": 54
        }
      },
      "source": [
        "d_train[0]"
      ],
      "execution_count": 0,
      "outputs": [
        {
          "output_type": "execute_result",
          "data": {
            "text/plain": [
              "array([2.138e-04, 0.000e+00, 2.067e-03, 8.206e-04, 1.333e-03, 4.629e-01,\n",
              "       2.780e-02, 2.283e-02, 9.676e-01, 5.276e-03, 4.783e-01])"
            ]
          },
          "metadata": {
            "tags": []
          },
          "execution_count": 88
        }
      ]
    },
    {
      "cell_type": "code",
      "metadata": {
        "id": "1Q9kmLCh_4Bs",
        "colab_type": "code",
        "colab": {}
      },
      "source": [
        "from sklearn.utils.class_weight import compute_sample_weight\n",
        "sample_w = compute_sample_weight(class_weight={0:5, 1:1}, y=Y_train)"
      ],
      "execution_count": 0,
      "outputs": []
    },
    {
      "cell_type": "code",
      "metadata": {
        "id": "xe6fugdL_9mT",
        "colab_type": "code",
        "outputId": "87261fed-34c3-406b-81d5-12f6007506ea",
        "colab": {
          "base_uri": "https://localhost:8080/",
          "height": 35
        }
      },
      "source": [
        "from sklearn.ensemble import GradientBoostingClassifier\n",
        "\n",
        "gbclf = GradientBoostingClassifier(random_state=0, n_estimators = 800, max_depth =10, subsample = 1.0)\n",
        "gbclf.fit(d_train, Y_train, sample_w)\n",
        "gbclf.score(d_eval, Y_eval)"
      ],
      "execution_count": 0,
      "outputs": [
        {
          "output_type": "execute_result",
          "data": {
            "text/plain": [
              "0.9490276959340012"
            ]
          },
          "metadata": {
            "tags": []
          },
          "execution_count": 127
        }
      ]
    },
    {
      "cell_type": "code",
      "metadata": {
        "id": "r3USS1n7TE_1",
        "colab_type": "code",
        "colab": {}
      },
      "source": [
        ""
      ],
      "execution_count": 0,
      "outputs": []
    },
    {
      "cell_type": "code",
      "metadata": {
        "id": "W7tbXRtIS9Te",
        "colab_type": "code",
        "colab": {}
      },
      "source": [
        "cleaned_test_data = preprocess_train_data(test)\n",
        "\n",
        "cleaned_test_data = cleaned_test_data.drop('pickup_time_year',1)\n",
        "cleaned_test_data = cleaned_test_data.drop('pickup_time_month',1)\n",
        "cleaned_test_data = cleaned_test_data.drop('pickup_time_day',1)\n",
        "cleaned_test_data = cleaned_test_data.drop('pickup_time_minute',1)\n",
        "cleaned_test_data = cleaned_test_data.drop('drop_time_year',1)\n",
        "cleaned_test_data = cleaned_test_data.drop('drop_time_month',1)\n",
        "cleaned_test_data = cleaned_test_data.drop('drop_time_day',1)\n",
        "cleaned_test_data = cleaned_test_data.drop('drop_time_minute',1)\n",
        "\n",
        "test_set = data_pipeline.transform(cleaned_test_data)"
      ],
      "execution_count": 0,
      "outputs": []
    },
    {
      "cell_type": "code",
      "metadata": {
        "id": "0TB6w3_RS9bj",
        "colab_type": "code",
        "outputId": "589ad57d-2101-4e4e-e2d2-971a980d7efd",
        "colab": {
          "base_uri": "https://localhost:8080/",
          "height": 35
        }
      },
      "source": [
        "test_set.shape"
      ],
      "execution_count": 0,
      "outputs": [
        {
          "output_type": "execute_result",
          "data": {
            "text/plain": [
              "(8576, 11)"
            ]
          },
          "metadata": {
            "tags": []
          },
          "execution_count": 140
        }
      ]
    },
    {
      "cell_type": "code",
      "metadata": {
        "id": "gFOunosbS9o-",
        "colab_type": "code",
        "outputId": "dd7a17ec-7281-4902-8219-7efb330cdc99",
        "colab": {
          "base_uri": "https://localhost:8080/",
          "height": 35
        }
      },
      "source": [
        "preds = gbclf.predict(test_set)\n",
        "print(preds)"
      ],
      "execution_count": 0,
      "outputs": [
        {
          "output_type": "stream",
          "text": [
            "[1 1 1 ... 1 1 1]\n"
          ],
          "name": "stdout"
        }
      ]
    },
    {
      "cell_type": "code",
      "metadata": {
        "id": "MFLGfZrdT7tN",
        "colab_type": "code",
        "outputId": "b53cc8e5-5627-4d2b-f592-449c62315906",
        "colab": {
          "base_uri": "https://localhost:8080/",
          "height": 35
        }
      },
      "source": [
        "preds.shape"
      ],
      "execution_count": 0,
      "outputs": [
        {
          "output_type": "execute_result",
          "data": {
            "text/plain": [
              "(8576,)"
            ]
          },
          "metadata": {
            "tags": []
          },
          "execution_count": 142
        }
      ]
    },
    {
      "cell_type": "code",
      "metadata": {
        "id": "xZFn05nyS9mA",
        "colab_type": "code",
        "outputId": "888a5381-41cb-40cb-e193-6d0f83cca396",
        "colab": {
          "base_uri": "https://localhost:8080/",
          "height": 206
        }
      },
      "source": [
        "output = pd.DataFrame(test,columns=['tripid'])\n",
        "output['prediction'] = preds\n",
        "output.head()"
      ],
      "execution_count": 0,
      "outputs": [
        {
          "output_type": "execute_result",
          "data": {
            "text/html": [
              "<div>\n",
              "<style scoped>\n",
              "    .dataframe tbody tr th:only-of-type {\n",
              "        vertical-align: middle;\n",
              "    }\n",
              "\n",
              "    .dataframe tbody tr th {\n",
              "        vertical-align: top;\n",
              "    }\n",
              "\n",
              "    .dataframe thead th {\n",
              "        text-align: right;\n",
              "    }\n",
              "</style>\n",
              "<table border=\"1\" class=\"dataframe\">\n",
              "  <thead>\n",
              "    <tr style=\"text-align: right;\">\n",
              "      <th></th>\n",
              "      <th>tripid</th>\n",
              "      <th>prediction</th>\n",
              "    </tr>\n",
              "  </thead>\n",
              "  <tbody>\n",
              "    <tr>\n",
              "      <th>0</th>\n",
              "      <td>213284604</td>\n",
              "      <td>1</td>\n",
              "    </tr>\n",
              "    <tr>\n",
              "      <th>1</th>\n",
              "      <td>213286352</td>\n",
              "      <td>1</td>\n",
              "    </tr>\n",
              "    <tr>\n",
              "      <th>2</th>\n",
              "      <td>213293973</td>\n",
              "      <td>1</td>\n",
              "    </tr>\n",
              "    <tr>\n",
              "      <th>3</th>\n",
              "      <td>213294622</td>\n",
              "      <td>1</td>\n",
              "    </tr>\n",
              "    <tr>\n",
              "      <th>4</th>\n",
              "      <td>213298687</td>\n",
              "      <td>1</td>\n",
              "    </tr>\n",
              "  </tbody>\n",
              "</table>\n",
              "</div>"
            ],
            "text/plain": [
              "      tripid  prediction\n",
              "0  213284604           1\n",
              "1  213286352           1\n",
              "2  213293973           1\n",
              "3  213294622           1\n",
              "4  213298687           1"
            ]
          },
          "metadata": {
            "tags": []
          },
          "execution_count": 143
        }
      ]
    },
    {
      "cell_type": "code",
      "metadata": {
        "id": "7VuFuEg2S9j9",
        "colab_type": "code",
        "colab": {}
      },
      "source": [
        "output.to_csv('/content/Ridefare_submission_9.csv',index=False)"
      ],
      "execution_count": 0,
      "outputs": []
    },
    {
      "cell_type": "code",
      "metadata": {
        "id": "TRsHj6uRS9ia",
        "colab_type": "code",
        "colab": {}
      },
      "source": [
        ""
      ],
      "execution_count": 0,
      "outputs": []
    },
    {
      "cell_type": "code",
      "metadata": {
        "id": "kqhEaHO1S9hT",
        "colab_type": "code",
        "colab": {}
      },
      "source": [
        ""
      ],
      "execution_count": 0,
      "outputs": []
    },
    {
      "cell_type": "code",
      "metadata": {
        "id": "xNcwLagxS9ZP",
        "colab_type": "code",
        "colab": {}
      },
      "source": [
        ""
      ],
      "execution_count": 0,
      "outputs": []
    },
    {
      "cell_type": "code",
      "metadata": {
        "id": "jjA5UqQkS9Xe",
        "colab_type": "code",
        "colab": {}
      },
      "source": [
        ""
      ],
      "execution_count": 0,
      "outputs": []
    },
    {
      "cell_type": "code",
      "metadata": {
        "id": "XBOtAcelPh8n",
        "colab_type": "code",
        "outputId": "d790b299-ab63-4e12-f16e-1ce7c58f105b",
        "colab": {
          "base_uri": "https://localhost:8080/",
          "height": 72
        }
      },
      "source": [
        "base = gbclf.predict(d_eval)\n",
        "#print(\"keras\", f1_score(Y_eval, eval_predict, average='micro'))\n",
        "print(\"base\", f1_score(Y_eval, base, average='micro'))\n",
        "\n",
        "from sklearn.metrics import confusion_matrix\n",
        "\n",
        "results = gbclf.predict(d_eval)\n",
        "confusion_matrix(Y_eval, results)"
      ],
      "execution_count": 0,
      "outputs": [
        {
          "output_type": "stream",
          "text": [
            "base 0.9490276959340012\n"
          ],
          "name": "stdout"
        },
        {
          "output_type": "execute_result",
          "data": {
            "text/plain": [
              "array([[ 170,  135],\n",
              "       [  38, 3051]])"
            ]
          },
          "metadata": {
            "tags": []
          },
          "execution_count": 96
        }
      ]
    },
    {
      "cell_type": "code",
      "metadata": {
        "id": "C8gPj4ccQojb",
        "colab_type": "code",
        "colab": {}
      },
      "source": [
        "k =0\n",
        "for i in pred_proba:\n",
        "  print(\"%0.5f\"%i[0],\"%0.4f\"%i[1], Y_eval[k])\n",
        "  k = k+1"
      ],
      "execution_count": 0,
      "outputs": []
    },
    {
      "cell_type": "code",
      "metadata": {
        "id": "zFlcRmBkQifC",
        "colab_type": "code",
        "colab": {}
      },
      "source": [
        "pred_proba = gbclf.predict_proba(d_eval)\n",
        "\n",
        "threshold = 0.3\n",
        "\n",
        "preds = (pred_proba [:,1] >= threshold).astype('int')"
      ],
      "execution_count": 0,
      "outputs": []
    },
    {
      "cell_type": "code",
      "metadata": {
        "id": "wY7H5ZKePh_o",
        "colab_type": "code",
        "colab": {}
      },
      "source": [
        "base = gbclf.predict(d_eval)\n",
        "#print(\"keras\", f1_score(Y_eval, eval_predict, average='micro'))\n",
        "print(\"base\", f1_score(Y_eval, base, average='micro'))\n",
        "\n",
        "from sklearn.metrics import confusion_matrix\n",
        "\n",
        "results = gbclf.predict(d_eval)\n",
        "confusion_matrix(Y_eval, results)"
      ],
      "execution_count": 0,
      "outputs": []
    },
    {
      "cell_type": "code",
      "metadata": {
        "id": "OykrxU3zPiHS",
        "colab_type": "code",
        "colab": {}
      },
      "source": [
        "pred_proba = gbclf.predict_proba(d_eval)\n",
        "\n",
        "threshold = 0.05\n",
        "\n",
        "preds = (pred_proba [:,0] <= threshold).astype('int')"
      ],
      "execution_count": 0,
      "outputs": []
    },
    {
      "cell_type": "code",
      "metadata": {
        "id": "4iONkQRCSA5S",
        "colab_type": "code",
        "outputId": "160cefbc-b1c0-4ae1-91b8-f70579ecfbb3",
        "colab": {
          "base_uri": "https://localhost:8080/",
          "height": 90
        }
      },
      "source": [
        "print(preds)\n",
        "print(\"base\", f1_score(Y_eval, preds, average='micro'))\n",
        "confusion_matrix(Y_eval, preds)"
      ],
      "execution_count": 0,
      "outputs": [
        {
          "output_type": "stream",
          "text": [
            "[1 0 1 ... 1 1 1]\n",
            "base 0.940777843252799\n"
          ],
          "name": "stdout"
        },
        {
          "output_type": "execute_result",
          "data": {
            "text/plain": [
              "array([[ 200,  105],\n",
              "       [  96, 2993]])"
            ]
          },
          "metadata": {
            "tags": []
          },
          "execution_count": 126
        }
      ]
    },
    {
      "cell_type": "code",
      "metadata": {
        "id": "5iURbY29PiLL",
        "colab_type": "code",
        "colab": {}
      },
      "source": [
        ""
      ],
      "execution_count": 0,
      "outputs": []
    },
    {
      "cell_type": "code",
      "metadata": {
        "id": "_dyPdaDXPiGH",
        "colab_type": "code",
        "colab": {}
      },
      "source": [
        ""
      ],
      "execution_count": 0,
      "outputs": []
    },
    {
      "cell_type": "code",
      "metadata": {
        "id": "kXNWZy5oPiEV",
        "colab_type": "code",
        "colab": {}
      },
      "source": [
        ""
      ],
      "execution_count": 0,
      "outputs": []
    },
    {
      "cell_type": "code",
      "metadata": {
        "id": "pBv4PDVYFHGZ",
        "colab_type": "code",
        "outputId": "273bc86e-7cd2-456e-cd48-b4d1a3a14e42",
        "colab": {
          "base_uri": "https://localhost:8080/",
          "height": 35
        }
      },
      "source": [
        "from sklearn.tree import DecisionTreeClassifier\n",
        "clf = DecisionTreeClassifier(random_state=0, class_weight={0:1, 1:8}, max_depth = 20)\n",
        "clf.fit(d_train, Y_train)\n",
        "clf.score(d_eval, Y_eval)"
      ],
      "execution_count": 0,
      "outputs": [
        {
          "output_type": "execute_result",
          "data": {
            "text/plain": [
              "0.9281084266352386"
            ]
          },
          "metadata": {
            "tags": []
          },
          "execution_count": 70
        }
      ]
    },
    {
      "cell_type": "code",
      "metadata": {
        "id": "4Qg6iZyiJwc-",
        "colab_type": "code",
        "outputId": "10ce7a23-d0f9-4aeb-cac8-f56553ad2bfd",
        "colab": {
          "base_uri": "https://localhost:8080/",
          "height": 384
        }
      },
      "source": [
        "from numpy import set_printoptions\n",
        "from sklearn.feature_selection import SelectKBest\n",
        "from sklearn.feature_selection import f_classif\n",
        "\n",
        "test = SelectKBest(score_func=f_classif, k=17)\n",
        "fit = test.fit(X_train, Y_train)\n",
        "# summarize scores\n",
        "set_printoptions(precision=3)\n",
        "print(fit.scores_)\n",
        "features_selected = fit.transform(cleaned_train_set)\n",
        "\n",
        "k = cleaned_train_set.keys()\n",
        "j =0\n",
        "for i in fit.scores_:\n",
        "  print (i, k[j])\n",
        "  j = j+1"
      ],
      "execution_count": 0,
      "outputs": [
        {
          "output_type": "stream",
          "text": [
            "[2.560e+01 1.501e+02 1.365e+02 1.262e+02 1.618e+01 4.756e+00 1.069e+01\n",
            " 4.670e-01 6.644e+00 4.090e+02 3.445e-01 1.521e-01 4.540e-01 2.967e-01\n",
            " 3.661e-01 9.497e-05 1.896e-01]\n",
            "25.601700516148178 additional_fare\n",
            "150.1423482323858 duration\n",
            "136.53814018608236 meter_waiting\n",
            "126.15291654442362 meter_waiting_fare\n",
            "16.176969168253855 meter_waiting_till_pickup\n",
            "4.755913729479669 pick_lat\n",
            "10.68640597221555 pick_lon\n",
            "0.46699771908048066 drop_lat\n",
            "6.644427453624097 drop_lon\n",
            "409.0290439880105 fare\n",
            "0.3444733818253683 pickup_time_day\n",
            "0.15214708901589488 pickup_time_hour\n",
            "0.45403506787917486 pickup_time_minute\n",
            "0.2967370493315319 drop_time_day\n",
            "0.3660508242748645 drop_time_hour\n",
            "9.497351291964044e-05 drop_time_minute\n",
            "0.18958475782896403 time_of_day\n"
          ],
          "name": "stdout"
        }
      ]
    }
  ]
}