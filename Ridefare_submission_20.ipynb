{
  "nbformat": 4,
  "nbformat_minor": 0,
  "metadata": {
    "colab": {
      "name": "Ridefare_submission_20.ipynb",
      "provenance": [],
      "collapsed_sections": [],
      "authorship_tag": "ABX9TyMY9ycLAupIFiEi5gyZM4zu",
      "include_colab_link": true
    },
    "kernelspec": {
      "name": "python3",
      "display_name": "Python 3"
    }
  },
  "cells": [
    {
      "cell_type": "markdown",
      "metadata": {
        "id": "view-in-github",
        "colab_type": "text"
      },
      "source": [
        "<a href=\"https://colab.research.google.com/github/chanukaDissanayaka/RideFareClassification/blob/master/Ridefare_submission_20.ipynb\" target=\"_parent\"><img src=\"https://colab.research.google.com/assets/colab-badge.svg\" alt=\"Open In Colab\"/></a>"
      ]
    },
    {
      "cell_type": "code",
      "metadata": {
        "id": "JNd9bnpB9S9w",
        "colab_type": "code",
        "colab": {
          "base_uri": "https://localhost:8080/",
          "height": 35
        },
        "outputId": "84d72632-fb31-453a-82de-c2d006f0ec86"
      },
      "source": [
        "#imports\n",
        "\n",
        "import pandas as pd\n",
        "from keras.models import Sequential\n",
        "from keras.layers import Dense\n",
        "from keras.wrappers.scikit_learn import KerasClassifier\n",
        "from sklearn.model_selection import cross_val_score\n",
        "from sklearn.preprocessing import LabelEncoder\n",
        "from sklearn.model_selection import StratifiedKFold\n",
        "from sklearn.preprocessing import StandardScaler\n",
        "from sklearn.pipeline import Pipeline\n",
        "from sklearn.metrics import f1_score\n",
        "from sklearn.preprocessing import MinMaxScaler\n",
        "from sklearn.preprocessing import MaxAbsScaler\n",
        "from sklearn.compose import ColumnTransformer\n",
        "from sklearn.preprocessing import OrdinalEncoder\n",
        "from sklearn.preprocessing import StandardScaler, OneHotEncoder\n",
        "\n",
        "from datetime import datetime, timedelta\n",
        "from pandas import DataFrame\n",
        "\n",
        "from sklearn.pipeline import Pipeline\n",
        "\n",
        "from sklearn.model_selection import train_test_split\n",
        "from sklearn.impute import SimpleImputer\n",
        "from sklearn.compose import ColumnTransformer\n",
        "from sklearn.naive_bayes import GaussianNB\n",
        "from sklearn.metrics import accuracy_score\n",
        "\n",
        "from sklearn.ensemble import RandomForestClassifier\n",
        "\n",
        "import numpy as np\n",
        "\n",
        "RANDOM_SEED = 4"
      ],
      "execution_count": null,
      "outputs": [
        {
          "output_type": "stream",
          "text": [
            "Using TensorFlow backend.\n"
          ],
          "name": "stderr"
        }
      ]
    },
    {
      "cell_type": "code",
      "metadata": {
        "id": "mIIBYr6M9aVi",
        "colab_type": "code",
        "colab": {}
      },
      "source": [
        "dataframe = pd.read_csv(\"/content/train.csv\")\n",
        "test = pd.read_csv(\"/content/test.csv\")\n",
        "\n",
        "dataframe.isna().sum(axis = 0)\n",
        "#dataframe = dataframe.fillna(method='ffill')\n",
        "dataframe = dataframe.dropna()"
      ],
      "execution_count": null,
      "outputs": []
    },
    {
      "cell_type": "code",
      "metadata": {
        "id": "v40LrekZ9joQ",
        "colab_type": "code",
        "colab": {}
      },
      "source": [
        "def preprocess_train_data(dataframe):\n",
        "  feature_set = dataframe.iloc[:,1:13]\n",
        "\n",
        "  features = feature_set\n",
        "\n",
        "  features['pickup_time'] = pd.to_datetime(features['pickup_time'], format=\"%m/%d/%Y %H:%M\")\n",
        "  features['drop_time'] = pd.to_datetime(features['drop_time'], format=\"%m/%d/%Y %H:%M\")\n",
        "\n",
        "  td = features\n",
        "\n",
        "  td['pickup_time_year'] = td['pickup_time'].dt.year\n",
        "  td['pickup_time_month'] = td['pickup_time'].dt.month\n",
        "  td['pickup_time_day'] = td['pickup_time'].dt.day\n",
        "  td['pickup_time_hour'] = td['pickup_time'].dt.hour\n",
        "  td['pickup_time_minute'] = td['pickup_time'].dt.minute\n",
        "\n",
        "  td['drop_time_year'] = td['drop_time'].dt.year\n",
        "  td['drop_time_month'] = td['drop_time'].dt.month\n",
        "  td['drop_time_day'] = td['drop_time'].dt.day\n",
        "  td['drop_time_hour'] = td['drop_time'].dt.hour\n",
        "  td['drop_time_minute'] = td['drop_time'].dt.minute\n",
        "\n",
        "  td['day_of_week'] = td['pickup_time'].dt.day_name()\n",
        "  td['day_of_week'] = OrdinalEncoder().fit_transform(td[['day_of_week']])\n",
        "\n",
        "  td['duration_calculated'] = td['drop_time'] - td['pickup_time']\n",
        "  td['duration_calculated'] = td['duration_calculated'].dt.total_seconds().astype(int)\n",
        "\n",
        "  td = td.drop('pickup_time',1)\n",
        "  td = td.drop('drop_time',1)\n",
        "\n",
        "  td = get_trip_distance_eucld(td)\n",
        "  td = get_X_distance(td)\n",
        "  td = get_Y_distance(td)\n",
        "  td = get_pick_XY(td)\n",
        "  td = get_drop_XY(td)\n",
        "  td = transform_hour(td)\n",
        "  td = set_fare_duration(td)\n",
        "  \n",
        "\n",
        "  return td\n",
        "\n",
        "def get_labels(dataframe):\n",
        "  label_set = dataframe.iloc[:, 13:14]\n",
        "  #rev_label_set = label_set\n",
        "  rev_label_set = label_set.replace({'correct':'incorrect', 'incorrect':'correct'})\n",
        "\n",
        "  encoder = LabelEncoder()\n",
        "  encoder.fit(rev_label_set)\n",
        "  labels = encoder.transform(rev_label_set)\n",
        "  return labels\n",
        "\n",
        "def set_time_of_the_day(cleaned_train_set):\n",
        "  cleaned_train_set.head()\n",
        "  newFrame = cleaned_train_set\n",
        "  tt = newFrame\n",
        "\n",
        "  d0_index = newFrame[(newFrame['pickup_time_hour']>=0) & (newFrame['pickup_time_hour'] < 6 )].index\n",
        "  tt.loc[d0_index,'time_of_day']=0\n",
        "\n",
        "  d1_index = newFrame[(newFrame['pickup_time_hour']>=6) & (newFrame['pickup_time_hour'] < 12 )].index\n",
        "  tt.loc[d1_index,'time_of_day']=1\n",
        "\n",
        "  d2_index = newFrame[(newFrame['pickup_time_hour']>=12) & (newFrame['pickup_time_hour'] < 18 )].index\n",
        "  tt.loc[d2_index,'time_of_day']=2\n",
        "\n",
        "  d3_index = newFrame[(newFrame['pickup_time_hour']>=18) & (newFrame['pickup_time_hour'] < 24 )].index\n",
        "  tt.loc[d3_index,'time_of_day']=3\n",
        "\n",
        "  return tt\n",
        "\n",
        "def haversine_distance(lat1, lon1, lat2, lon2):\n",
        "  r = 6371\n",
        "  phi1 = np.radians(lat1)\n",
        "  phi2 = np.radians(lat2)\n",
        "  d_phi = np.radians(lat2-lat1)\n",
        "  d_lambda = np.radians(lon2-lon1)\n",
        "\n",
        "  a = np.sin(d_phi /2)**2 + np.cos(phi1) * np.cos(phi2) * np.sin(d_lambda/2)**2\n",
        "  res = r*(2* np.arctan2(np.sqrt(a), np.sqrt(1-a)))\n",
        "\n",
        "  return np.round(res,2)\n",
        "  return res\n",
        "\n",
        "def get_trip_distance(frame):\n",
        "  newFrame = frame\n",
        "  newFrame[\"distance\"] = haversine_distance(frame['pick_lat'],frame['drop_lat'],frame['pick_lon'],frame['drop_lon'])\n",
        "  return newFrame\n",
        "\n",
        "def get_trip_distance_eucld(frame):\n",
        "  newFrame = frame\n",
        "  newFrame[\"distance\"] = (((frame['pick_lat']-frame['drop_lat'])**2)+((frame['pick_lon']-frame['drop_lon'])**2)**0.5)\n",
        "  return newFrame\n",
        "\n",
        "def get_X_distance(frame):\n",
        "  newFrame = frame\n",
        "  newFrame[\"distance_X\"] = ((frame['pick_lat']-frame['drop_lat']))\n",
        "  return newFrame\n",
        "\n",
        "def get_Y_distance(frame):\n",
        "  newFrame = frame\n",
        "  newFrame[\"distance_Y\"] = ((frame['pick_lon']-frame['drop_lon']))\n",
        "  return newFrame\n",
        "\n",
        "def get_pick_XY(frame):\n",
        "  newFrame = frame\n",
        "  newFrame[\"pick_X\"] = np.cos(frame['pick_lat'])* np.cos(frame['pick_lon'])\n",
        "  newFrame[\"pick_Y\"] = np.cos(frame['pick_lat'])* np.sin(frame['pick_lon'])\n",
        "  return newFrame\n",
        "\n",
        "def get_drop_XY(frame):\n",
        "  newFrame = frame\n",
        "  newFrame[\"drop_X\"] = np.cos(frame['drop_lat'])* np.cos(frame['drop_lon'])\n",
        "  newFrame[\"drop_Y\"] = np.cos(frame['drop_lat'])* np.sin(frame['drop_lon'])\n",
        "  return newFrame\n",
        "\n",
        "def transform_hour(frame):\n",
        "  newFrame = frame\n",
        "  newFrame[\"pick_hour_sin\"] = np.sin(np.radians(3*frame['pickup_time_hour']))\n",
        "  newFrame[\"drop_hour_sin\"] = np.sin(np.radians(3*frame['drop_time_hour']))\n",
        "\n",
        "  newFrame[\"pick_hour_cos\"] = np.cos(np.radians(3*frame['pickup_time_hour']))\n",
        "  newFrame[\"drop_hour_cos\"] = np.cos(np.radians(3*frame['drop_time_hour']))\n",
        "  return newFrame\n",
        "\n",
        "def set_fare_duration(imputed_train_set):\n",
        "  df = imputed_train_set\n",
        "\n",
        "  df['total_fare'] = ((df['fare']-df['fare'].mean())/df['fare'].std() +\n",
        "                      (df['additional_fare']-df['additional_fare'].mean())/df['additional_fare'].std()+ \n",
        "                      (df['meter_waiting_fare']-df['meter_waiting_fare'].mean())/df['meter_waiting_fare'].std())\n",
        "\n",
        "  df['total_fare'] =  df['fare'] + df['additional_fare'] + df['meter_waiting_fare']\n",
        "  df['total_additional_fare'] = df['additional_fare'] + df['meter_waiting_fare']\n",
        "  df['total_waiting_time'] = df['meter_waiting'] + df['meter_waiting_till_pickup']\n",
        "  df['total_time'] = df['total_waiting_time'] + df['duration']\n",
        "\n",
        "  df['waiting_factor'] = ((df['meter_waiting']-df['meter_waiting'].mean())/df['meter_waiting'].std() +\n",
        "                      (df['meter_waiting_fare']-df['meter_waiting_fare'].mean())/df['meter_waiting_fare'].std()+ \n",
        "                      (df['meter_waiting_till_pickup']-df['meter_waiting_till_pickup'].mean())/df['meter_waiting_till_pickup'].std())\n",
        "\n",
        "  return df"
      ],
      "execution_count": null,
      "outputs": []
    },
    {
      "cell_type": "code",
      "metadata": {
        "id": "KUHR69oraNiG",
        "colab_type": "code",
        "colab": {
          "base_uri": "https://localhost:8080/",
          "height": 72
        },
        "outputId": "e0259e22-5ca1-420b-aa6e-c887c31bda1e"
      },
      "source": [
        "print(dataframe.label.value_counts())"
      ],
      "execution_count": null,
      "outputs": [
        {
          "output_type": "stream",
          "text": [
            "correct      15442\n",
            "incorrect     1526\n",
            "Name: label, dtype: int64\n"
          ],
          "name": "stdout"
        }
      ]
    },
    {
      "cell_type": "code",
      "metadata": {
        "id": "UDru7N6xX5Yk",
        "colab_type": "code",
        "colab": {}
      },
      "source": [
        ""
      ],
      "execution_count": null,
      "outputs": []
    },
    {
      "cell_type": "code",
      "metadata": {
        "id": "8TovlVXvX5WQ",
        "colab_type": "code",
        "colab": {
          "base_uri": "https://localhost:8080/",
          "height": 300
        },
        "outputId": "72ee3f16-a3ad-45d6-87a1-6500b7e1eecf"
      },
      "source": [
        "cleaned_train_set = preprocess_train_data(dataframe)\n",
        "labels = get_labels(dataframe)\n",
        "cleaned_train_set.head()\n"
      ],
      "execution_count": null,
      "outputs": [
        {
          "output_type": "stream",
          "text": [
            "/usr/local/lib/python3.6/dist-packages/sklearn/preprocessing/_label.py:235: DataConversionWarning: A column-vector y was passed when a 1d array was expected. Please change the shape of y to (n_samples, ), for example using ravel().\n",
            "  y = column_or_1d(y, warn=True)\n",
            "/usr/local/lib/python3.6/dist-packages/sklearn/preprocessing/_label.py:268: DataConversionWarning: A column-vector y was passed when a 1d array was expected. Please change the shape of y to (n_samples, ), for example using ravel().\n",
            "  y = column_or_1d(y, warn=True)\n"
          ],
          "name": "stderr"
        },
        {
          "output_type": "execute_result",
          "data": {
            "text/html": [
              "<div>\n",
              "<style scoped>\n",
              "    .dataframe tbody tr th:only-of-type {\n",
              "        vertical-align: middle;\n",
              "    }\n",
              "\n",
              "    .dataframe tbody tr th {\n",
              "        vertical-align: top;\n",
              "    }\n",
              "\n",
              "    .dataframe thead th {\n",
              "        text-align: right;\n",
              "    }\n",
              "</style>\n",
              "<table border=\"1\" class=\"dataframe\">\n",
              "  <thead>\n",
              "    <tr style=\"text-align: right;\">\n",
              "      <th></th>\n",
              "      <th>additional_fare</th>\n",
              "      <th>duration</th>\n",
              "      <th>meter_waiting</th>\n",
              "      <th>meter_waiting_fare</th>\n",
              "      <th>meter_waiting_till_pickup</th>\n",
              "      <th>pick_lat</th>\n",
              "      <th>pick_lon</th>\n",
              "      <th>drop_lat</th>\n",
              "      <th>drop_lon</th>\n",
              "      <th>fare</th>\n",
              "      <th>pickup_time_year</th>\n",
              "      <th>pickup_time_month</th>\n",
              "      <th>pickup_time_day</th>\n",
              "      <th>pickup_time_hour</th>\n",
              "      <th>pickup_time_minute</th>\n",
              "      <th>drop_time_year</th>\n",
              "      <th>drop_time_month</th>\n",
              "      <th>drop_time_day</th>\n",
              "      <th>drop_time_hour</th>\n",
              "      <th>drop_time_minute</th>\n",
              "      <th>day_of_week</th>\n",
              "      <th>duration_calculated</th>\n",
              "      <th>distance</th>\n",
              "      <th>distance_X</th>\n",
              "      <th>distance_Y</th>\n",
              "      <th>pick_X</th>\n",
              "      <th>pick_Y</th>\n",
              "      <th>drop_X</th>\n",
              "      <th>drop_Y</th>\n",
              "      <th>pick_hour_sin</th>\n",
              "      <th>drop_hour_sin</th>\n",
              "      <th>pick_hour_cos</th>\n",
              "      <th>drop_hour_cos</th>\n",
              "      <th>total_fare</th>\n",
              "      <th>total_additional_fare</th>\n",
              "      <th>total_waiting_time</th>\n",
              "      <th>total_time</th>\n",
              "      <th>waiting_factor</th>\n",
              "    </tr>\n",
              "  </thead>\n",
              "  <tbody>\n",
              "    <tr>\n",
              "      <th>0</th>\n",
              "      <td>10.5</td>\n",
              "      <td>834.0</td>\n",
              "      <td>56.0</td>\n",
              "      <td>0.0000</td>\n",
              "      <td>64.0</td>\n",
              "      <td>6.86252</td>\n",
              "      <td>79.8993</td>\n",
              "      <td>6.90330</td>\n",
              "      <td>79.8783</td>\n",
              "      <td>270.32</td>\n",
              "      <td>2019</td>\n",
              "      <td>11</td>\n",
              "      <td>1</td>\n",
              "      <td>0</td>\n",
              "      <td>20</td>\n",
              "      <td>2019</td>\n",
              "      <td>11</td>\n",
              "      <td>1</td>\n",
              "      <td>0</td>\n",
              "      <td>34</td>\n",
              "      <td>0.0</td>\n",
              "      <td>840</td>\n",
              "      <td>0.022663</td>\n",
              "      <td>-0.04078</td>\n",
              "      <td>0.0210</td>\n",
              "      <td>-0.175519</td>\n",
              "      <td>-0.818213</td>\n",
              "      <td>-0.187363</td>\n",
              "      <td>-0.791950</td>\n",
              "      <td>0.000000</td>\n",
              "      <td>0.000000</td>\n",
              "      <td>1.000000</td>\n",
              "      <td>1.000000</td>\n",
              "      <td>280.8200</td>\n",
              "      <td>10.5000</td>\n",
              "      <td>120.0</td>\n",
              "      <td>954.0</td>\n",
              "      <td>-0.249539</td>\n",
              "    </tr>\n",
              "    <tr>\n",
              "      <th>1</th>\n",
              "      <td>10.5</td>\n",
              "      <td>791.0</td>\n",
              "      <td>47.0</td>\n",
              "      <td>0.0000</td>\n",
              "      <td>134.0</td>\n",
              "      <td>6.88589</td>\n",
              "      <td>79.8984</td>\n",
              "      <td>6.91373</td>\n",
              "      <td>79.8923</td>\n",
              "      <td>197.85</td>\n",
              "      <td>2019</td>\n",
              "      <td>11</td>\n",
              "      <td>1</td>\n",
              "      <td>0</td>\n",
              "      <td>56</td>\n",
              "      <td>2019</td>\n",
              "      <td>11</td>\n",
              "      <td>1</td>\n",
              "      <td>1</td>\n",
              "      <td>9</td>\n",
              "      <td>0.0</td>\n",
              "      <td>780</td>\n",
              "      <td>0.006875</td>\n",
              "      <td>-0.02784</td>\n",
              "      <td>0.0061</td>\n",
              "      <td>-0.173513</td>\n",
              "      <td>-0.805325</td>\n",
              "      <td>-0.174935</td>\n",
              "      <td>-0.788535</td>\n",
              "      <td>0.000000</td>\n",
              "      <td>0.052336</td>\n",
              "      <td>1.000000</td>\n",
              "      <td>0.998630</td>\n",
              "      <td>208.3500</td>\n",
              "      <td>10.5000</td>\n",
              "      <td>181.0</td>\n",
              "      <td>972.0</td>\n",
              "      <td>-0.092330</td>\n",
              "    </tr>\n",
              "    <tr>\n",
              "      <th>2</th>\n",
              "      <td>10.5</td>\n",
              "      <td>1087.0</td>\n",
              "      <td>80.0</td>\n",
              "      <td>0.0000</td>\n",
              "      <td>61.0</td>\n",
              "      <td>6.90839</td>\n",
              "      <td>79.8651</td>\n",
              "      <td>6.93669</td>\n",
              "      <td>79.9146</td>\n",
              "      <td>301.64</td>\n",
              "      <td>2019</td>\n",
              "      <td>11</td>\n",
              "      <td>1</td>\n",
              "      <td>1</td>\n",
              "      <td>8</td>\n",
              "      <td>2019</td>\n",
              "      <td>11</td>\n",
              "      <td>1</td>\n",
              "      <td>1</td>\n",
              "      <td>26</td>\n",
              "      <td>0.0</td>\n",
              "      <td>1080</td>\n",
              "      <td>0.050301</td>\n",
              "      <td>-0.02830</td>\n",
              "      <td>-0.0495</td>\n",
              "      <td>-0.197078</td>\n",
              "      <td>-0.786528</td>\n",
              "      <td>-0.154631</td>\n",
              "      <td>-0.778754</td>\n",
              "      <td>0.052336</td>\n",
              "      <td>0.052336</td>\n",
              "      <td>0.998630</td>\n",
              "      <td>0.998630</td>\n",
              "      <td>312.1400</td>\n",
              "      <td>10.5000</td>\n",
              "      <td>141.0</td>\n",
              "      <td>1228.0</td>\n",
              "      <td>-0.253348</td>\n",
              "    </tr>\n",
              "    <tr>\n",
              "      <th>3</th>\n",
              "      <td>10.5</td>\n",
              "      <td>598.0</td>\n",
              "      <td>271.0</td>\n",
              "      <td>15.6638</td>\n",
              "      <td>68.0</td>\n",
              "      <td>6.92570</td>\n",
              "      <td>79.8895</td>\n",
              "      <td>6.92748</td>\n",
              "      <td>79.8971</td>\n",
              "      <td>82.30</td>\n",
              "      <td>2019</td>\n",
              "      <td>11</td>\n",
              "      <td>1</td>\n",
              "      <td>2</td>\n",
              "      <td>27</td>\n",
              "      <td>2019</td>\n",
              "      <td>11</td>\n",
              "      <td>1</td>\n",
              "      <td>2</td>\n",
              "      <td>37</td>\n",
              "      <td>0.0</td>\n",
              "      <td>600</td>\n",
              "      <td>0.007603</td>\n",
              "      <td>-0.00178</td>\n",
              "      <td>-0.0076</td>\n",
              "      <td>-0.175582</td>\n",
              "      <td>-0.781100</td>\n",
              "      <td>-0.169414</td>\n",
              "      <td>-0.781369</td>\n",
              "      <td>0.104528</td>\n",
              "      <td>0.104528</td>\n",
              "      <td>0.994522</td>\n",
              "      <td>0.994522</td>\n",
              "      <td>108.4638</td>\n",
              "      <td>26.1638</td>\n",
              "      <td>339.0</td>\n",
              "      <td>937.0</td>\n",
              "      <td>-0.180187</td>\n",
              "    </tr>\n",
              "    <tr>\n",
              "      <th>5</th>\n",
              "      <td>10.5</td>\n",
              "      <td>3407.0</td>\n",
              "      <td>182.0</td>\n",
              "      <td>0.0000</td>\n",
              "      <td>112.0</td>\n",
              "      <td>7.13402</td>\n",
              "      <td>79.8969</td>\n",
              "      <td>6.91865</td>\n",
              "      <td>79.8649</td>\n",
              "      <td>1065.02</td>\n",
              "      <td>2019</td>\n",
              "      <td>11</td>\n",
              "      <td>1</td>\n",
              "      <td>5</td>\n",
              "      <td>38</td>\n",
              "      <td>2019</td>\n",
              "      <td>11</td>\n",
              "      <td>1</td>\n",
              "      <td>6</td>\n",
              "      <td>35</td>\n",
              "      <td>0.0</td>\n",
              "      <td>3420</td>\n",
              "      <td>0.078384</td>\n",
              "      <td>0.21537</td>\n",
              "      <td>0.0320</td>\n",
              "      <td>-0.139842</td>\n",
              "      <td>-0.644356</td>\n",
              "      <td>-0.195765</td>\n",
              "      <td>-0.780623</td>\n",
              "      <td>0.258819</td>\n",
              "      <td>0.309017</td>\n",
              "      <td>0.965926</td>\n",
              "      <td>0.951057</td>\n",
              "      <td>1075.5200</td>\n",
              "      <td>10.5000</td>\n",
              "      <td>294.0</td>\n",
              "      <td>3701.0</td>\n",
              "      <td>-0.125349</td>\n",
              "    </tr>\n",
              "  </tbody>\n",
              "</table>\n",
              "</div>"
            ],
            "text/plain": [
              "   additional_fare  duration  ...  total_time  waiting_factor\n",
              "0             10.5     834.0  ...       954.0       -0.249539\n",
              "1             10.5     791.0  ...       972.0       -0.092330\n",
              "2             10.5    1087.0  ...      1228.0       -0.253348\n",
              "3             10.5     598.0  ...       937.0       -0.180187\n",
              "5             10.5    3407.0  ...      3701.0       -0.125349\n",
              "\n",
              "[5 rows x 38 columns]"
            ]
          },
          "metadata": {
            "tags": []
          },
          "execution_count": 46
        }
      ]
    },
    {
      "cell_type": "code",
      "metadata": {
        "id": "_uhfnPStqVX2",
        "colab_type": "code",
        "colab": {
          "base_uri": "https://localhost:8080/",
          "height": 226
        },
        "outputId": "cb97d74e-498a-44d1-ff38-4e32d18efc8c"
      },
      "source": [
        "from sklearn.impute import SimpleImputer\n",
        "\n",
        "cleaned_train_set.duration.fillna(cleaned_train_set.duration_calculated, inplace=True)\n",
        "cleaned_train_set.head()\n",
        "\n",
        "imp_mean = SimpleImputer(missing_values=np.nan, strategy='median')\n",
        "dframe = imp_mean.fit_transform(cleaned_train_set)\n",
        "k = cleaned_train_set.keys()\n",
        "imputed_train_set = cleaned_train_set\n",
        "imputed_train_set[k] = dframe\n",
        "imputed_train_set.head()"
      ],
      "execution_count": null,
      "outputs": [
        {
          "output_type": "execute_result",
          "data": {
            "text/html": [
              "<div>\n",
              "<style scoped>\n",
              "    .dataframe tbody tr th:only-of-type {\n",
              "        vertical-align: middle;\n",
              "    }\n",
              "\n",
              "    .dataframe tbody tr th {\n",
              "        vertical-align: top;\n",
              "    }\n",
              "\n",
              "    .dataframe thead th {\n",
              "        text-align: right;\n",
              "    }\n",
              "</style>\n",
              "<table border=\"1\" class=\"dataframe\">\n",
              "  <thead>\n",
              "    <tr style=\"text-align: right;\">\n",
              "      <th></th>\n",
              "      <th>additional_fare</th>\n",
              "      <th>duration</th>\n",
              "      <th>meter_waiting</th>\n",
              "      <th>meter_waiting_fare</th>\n",
              "      <th>meter_waiting_till_pickup</th>\n",
              "      <th>pick_lat</th>\n",
              "      <th>pick_lon</th>\n",
              "      <th>drop_lat</th>\n",
              "      <th>drop_lon</th>\n",
              "      <th>fare</th>\n",
              "      <th>pickup_time_year</th>\n",
              "      <th>pickup_time_month</th>\n",
              "      <th>pickup_time_day</th>\n",
              "      <th>pickup_time_hour</th>\n",
              "      <th>pickup_time_minute</th>\n",
              "      <th>drop_time_year</th>\n",
              "      <th>drop_time_month</th>\n",
              "      <th>drop_time_day</th>\n",
              "      <th>drop_time_hour</th>\n",
              "      <th>drop_time_minute</th>\n",
              "      <th>day_of_week</th>\n",
              "      <th>duration_calculated</th>\n",
              "      <th>distance</th>\n",
              "      <th>distance_X</th>\n",
              "      <th>distance_Y</th>\n",
              "      <th>pick_X</th>\n",
              "      <th>pick_Y</th>\n",
              "      <th>drop_X</th>\n",
              "      <th>drop_Y</th>\n",
              "      <th>pick_hour_sin</th>\n",
              "      <th>drop_hour_sin</th>\n",
              "      <th>pick_hour_cos</th>\n",
              "      <th>drop_hour_cos</th>\n",
              "      <th>total_fare</th>\n",
              "      <th>total_additional_fare</th>\n",
              "      <th>total_waiting_time</th>\n",
              "      <th>total_time</th>\n",
              "      <th>waiting_factor</th>\n",
              "    </tr>\n",
              "  </thead>\n",
              "  <tbody>\n",
              "    <tr>\n",
              "      <th>0</th>\n",
              "      <td>10.5</td>\n",
              "      <td>834.0</td>\n",
              "      <td>56.0</td>\n",
              "      <td>0.0000</td>\n",
              "      <td>64.0</td>\n",
              "      <td>6.86252</td>\n",
              "      <td>79.8993</td>\n",
              "      <td>6.90330</td>\n",
              "      <td>79.8783</td>\n",
              "      <td>270.32</td>\n",
              "      <td>2019.0</td>\n",
              "      <td>11.0</td>\n",
              "      <td>1.0</td>\n",
              "      <td>0.0</td>\n",
              "      <td>20.0</td>\n",
              "      <td>2019.0</td>\n",
              "      <td>11.0</td>\n",
              "      <td>1.0</td>\n",
              "      <td>0.0</td>\n",
              "      <td>34.0</td>\n",
              "      <td>0.0</td>\n",
              "      <td>840.0</td>\n",
              "      <td>0.022663</td>\n",
              "      <td>-0.04078</td>\n",
              "      <td>0.0210</td>\n",
              "      <td>-0.175519</td>\n",
              "      <td>-0.818213</td>\n",
              "      <td>-0.187363</td>\n",
              "      <td>-0.791950</td>\n",
              "      <td>0.000000</td>\n",
              "      <td>0.000000</td>\n",
              "      <td>1.000000</td>\n",
              "      <td>1.000000</td>\n",
              "      <td>280.8200</td>\n",
              "      <td>10.5000</td>\n",
              "      <td>120.0</td>\n",
              "      <td>954.0</td>\n",
              "      <td>-0.249539</td>\n",
              "    </tr>\n",
              "    <tr>\n",
              "      <th>1</th>\n",
              "      <td>10.5</td>\n",
              "      <td>791.0</td>\n",
              "      <td>47.0</td>\n",
              "      <td>0.0000</td>\n",
              "      <td>134.0</td>\n",
              "      <td>6.88589</td>\n",
              "      <td>79.8984</td>\n",
              "      <td>6.91373</td>\n",
              "      <td>79.8923</td>\n",
              "      <td>197.85</td>\n",
              "      <td>2019.0</td>\n",
              "      <td>11.0</td>\n",
              "      <td>1.0</td>\n",
              "      <td>0.0</td>\n",
              "      <td>56.0</td>\n",
              "      <td>2019.0</td>\n",
              "      <td>11.0</td>\n",
              "      <td>1.0</td>\n",
              "      <td>1.0</td>\n",
              "      <td>9.0</td>\n",
              "      <td>0.0</td>\n",
              "      <td>780.0</td>\n",
              "      <td>0.006875</td>\n",
              "      <td>-0.02784</td>\n",
              "      <td>0.0061</td>\n",
              "      <td>-0.173513</td>\n",
              "      <td>-0.805325</td>\n",
              "      <td>-0.174935</td>\n",
              "      <td>-0.788535</td>\n",
              "      <td>0.000000</td>\n",
              "      <td>0.052336</td>\n",
              "      <td>1.000000</td>\n",
              "      <td>0.998630</td>\n",
              "      <td>208.3500</td>\n",
              "      <td>10.5000</td>\n",
              "      <td>181.0</td>\n",
              "      <td>972.0</td>\n",
              "      <td>-0.092330</td>\n",
              "    </tr>\n",
              "    <tr>\n",
              "      <th>2</th>\n",
              "      <td>10.5</td>\n",
              "      <td>1087.0</td>\n",
              "      <td>80.0</td>\n",
              "      <td>0.0000</td>\n",
              "      <td>61.0</td>\n",
              "      <td>6.90839</td>\n",
              "      <td>79.8651</td>\n",
              "      <td>6.93669</td>\n",
              "      <td>79.9146</td>\n",
              "      <td>301.64</td>\n",
              "      <td>2019.0</td>\n",
              "      <td>11.0</td>\n",
              "      <td>1.0</td>\n",
              "      <td>1.0</td>\n",
              "      <td>8.0</td>\n",
              "      <td>2019.0</td>\n",
              "      <td>11.0</td>\n",
              "      <td>1.0</td>\n",
              "      <td>1.0</td>\n",
              "      <td>26.0</td>\n",
              "      <td>0.0</td>\n",
              "      <td>1080.0</td>\n",
              "      <td>0.050301</td>\n",
              "      <td>-0.02830</td>\n",
              "      <td>-0.0495</td>\n",
              "      <td>-0.197078</td>\n",
              "      <td>-0.786528</td>\n",
              "      <td>-0.154631</td>\n",
              "      <td>-0.778754</td>\n",
              "      <td>0.052336</td>\n",
              "      <td>0.052336</td>\n",
              "      <td>0.998630</td>\n",
              "      <td>0.998630</td>\n",
              "      <td>312.1400</td>\n",
              "      <td>10.5000</td>\n",
              "      <td>141.0</td>\n",
              "      <td>1228.0</td>\n",
              "      <td>-0.253348</td>\n",
              "    </tr>\n",
              "    <tr>\n",
              "      <th>3</th>\n",
              "      <td>10.5</td>\n",
              "      <td>598.0</td>\n",
              "      <td>271.0</td>\n",
              "      <td>15.6638</td>\n",
              "      <td>68.0</td>\n",
              "      <td>6.92570</td>\n",
              "      <td>79.8895</td>\n",
              "      <td>6.92748</td>\n",
              "      <td>79.8971</td>\n",
              "      <td>82.30</td>\n",
              "      <td>2019.0</td>\n",
              "      <td>11.0</td>\n",
              "      <td>1.0</td>\n",
              "      <td>2.0</td>\n",
              "      <td>27.0</td>\n",
              "      <td>2019.0</td>\n",
              "      <td>11.0</td>\n",
              "      <td>1.0</td>\n",
              "      <td>2.0</td>\n",
              "      <td>37.0</td>\n",
              "      <td>0.0</td>\n",
              "      <td>600.0</td>\n",
              "      <td>0.007603</td>\n",
              "      <td>-0.00178</td>\n",
              "      <td>-0.0076</td>\n",
              "      <td>-0.175582</td>\n",
              "      <td>-0.781100</td>\n",
              "      <td>-0.169414</td>\n",
              "      <td>-0.781369</td>\n",
              "      <td>0.104528</td>\n",
              "      <td>0.104528</td>\n",
              "      <td>0.994522</td>\n",
              "      <td>0.994522</td>\n",
              "      <td>108.4638</td>\n",
              "      <td>26.1638</td>\n",
              "      <td>339.0</td>\n",
              "      <td>937.0</td>\n",
              "      <td>-0.180187</td>\n",
              "    </tr>\n",
              "    <tr>\n",
              "      <th>5</th>\n",
              "      <td>10.5</td>\n",
              "      <td>3407.0</td>\n",
              "      <td>182.0</td>\n",
              "      <td>0.0000</td>\n",
              "      <td>112.0</td>\n",
              "      <td>7.13402</td>\n",
              "      <td>79.8969</td>\n",
              "      <td>6.91865</td>\n",
              "      <td>79.8649</td>\n",
              "      <td>1065.02</td>\n",
              "      <td>2019.0</td>\n",
              "      <td>11.0</td>\n",
              "      <td>1.0</td>\n",
              "      <td>5.0</td>\n",
              "      <td>38.0</td>\n",
              "      <td>2019.0</td>\n",
              "      <td>11.0</td>\n",
              "      <td>1.0</td>\n",
              "      <td>6.0</td>\n",
              "      <td>35.0</td>\n",
              "      <td>0.0</td>\n",
              "      <td>3420.0</td>\n",
              "      <td>0.078384</td>\n",
              "      <td>0.21537</td>\n",
              "      <td>0.0320</td>\n",
              "      <td>-0.139842</td>\n",
              "      <td>-0.644356</td>\n",
              "      <td>-0.195765</td>\n",
              "      <td>-0.780623</td>\n",
              "      <td>0.258819</td>\n",
              "      <td>0.309017</td>\n",
              "      <td>0.965926</td>\n",
              "      <td>0.951057</td>\n",
              "      <td>1075.5200</td>\n",
              "      <td>10.5000</td>\n",
              "      <td>294.0</td>\n",
              "      <td>3701.0</td>\n",
              "      <td>-0.125349</td>\n",
              "    </tr>\n",
              "  </tbody>\n",
              "</table>\n",
              "</div>"
            ],
            "text/plain": [
              "   additional_fare  duration  ...  total_time  waiting_factor\n",
              "0             10.5     834.0  ...       954.0       -0.249539\n",
              "1             10.5     791.0  ...       972.0       -0.092330\n",
              "2             10.5    1087.0  ...      1228.0       -0.253348\n",
              "3             10.5     598.0  ...       937.0       -0.180187\n",
              "5             10.5    3407.0  ...      3701.0       -0.125349\n",
              "\n",
              "[5 rows x 38 columns]"
            ]
          },
          "metadata": {
            "tags": []
          },
          "execution_count": 47
        }
      ]
    },
    {
      "cell_type": "code",
      "metadata": {
        "id": "iLi6Uq8QPfKj",
        "colab_type": "code",
        "colab": {}
      },
      "source": [
        "def set_fare_duration(imputed_train_set):\n",
        "  df = imputed_train_set\n",
        "\n",
        "  df['total_fare'] = ((df['fare']-df['fare'].mean())/df['fare'].std() +\n",
        "                      (df['additional_fare']-df['additional_fare'].mean())/df['additional_fare'].std()+ \n",
        "                      (df['meter_waiting_fare']-df['meter_waiting_fare'].mean())/df['meter_waiting_fare'].std())\n",
        "\n",
        "  df['total_fare'] =  df['fare'] + df['additional_fare'] + df['meter_waiting_fare']\n",
        "  df['total_additional_fare'] = df['additional_fare'] + df['meter_waiting_fare']\n",
        "  df['total_waiting_time'] = df['meter_waiting'] + df['meter_waiting_till_pickup']\n",
        "  df['total_time'] = df['total_waiting_time'] + df['duration']\n",
        "\n",
        "  df['waiting_factor'] = ((df['meter_waiting']-df['meter_waiting'].mean())/df['meter_waiting'].std() +\n",
        "                      (df['meter_waiting_fare']-df['meter_waiting_fare'].mean())/df['meter_waiting_fare'].std()+ \n",
        "                      (df['meter_waiting_till_pickup']-df['meter_waiting_till_pickup'].mean())/df['meter_waiting_till_pickup'].std())\n",
        "\n",
        "  return df"
      ],
      "execution_count": null,
      "outputs": []
    },
    {
      "cell_type": "code",
      "metadata": {
        "id": "rwQ76NVHikjc",
        "colab_type": "code",
        "colab": {}
      },
      "source": [
        "from sklearn.cluster import KMeans\n",
        "\n",
        "def classes_fare_duration(imputed_train_set):\n",
        "  tt = imputed_train_set\n",
        "  tt['duration_type'] = 0\n",
        "  tt['fare_type'] = 0\n",
        "\n",
        "  d0_index = tt[(tt['duration'] <= 500) ].index\n",
        "  tt.loc[d0_index,'duration_type']=0\n",
        "\n",
        "  d1_index = tt[(tt['duration'] > 500) & (tt['duration'] <= 1000) ].index\n",
        "  tt.loc[d1_index,'duration_type']=1\n",
        "\n",
        "  d2_index = tt[(tt['duration'] > 1000)].index\n",
        "  tt.loc[d2_index,'duration_type']=2\n",
        "\n",
        "  d0_index = tt[(tt['fare'] <= 100) ].index\n",
        "  tt.loc[d0_index,'fare_type']=0\n",
        "\n",
        "  d1_index = tt[(tt['fare'] > 100) & (tt['fare'] <= 800) ].index\n",
        "  tt.loc[d1_index,'fare_type']=1\n",
        "\n",
        "  d2_index = tt[(tt['fare'] > 1000)].index\n",
        "  tt.loc[d2_index,'fare_type']=2\n",
        "\n",
        "  imputed_train_set = tt"
      ],
      "execution_count": null,
      "outputs": []
    },
    {
      "cell_type": "code",
      "metadata": {
        "id": "SVUkR2RQlemX",
        "colab_type": "code",
        "colab": {
          "base_uri": "https://localhost:8080/",
          "height": 226
        },
        "outputId": "3abd7e5f-41c8-4e3b-a35d-2d0ea89db87a"
      },
      "source": [
        "imputed_train_set.head()"
      ],
      "execution_count": null,
      "outputs": [
        {
          "output_type": "execute_result",
          "data": {
            "text/html": [
              "<div>\n",
              "<style scoped>\n",
              "    .dataframe tbody tr th:only-of-type {\n",
              "        vertical-align: middle;\n",
              "    }\n",
              "\n",
              "    .dataframe tbody tr th {\n",
              "        vertical-align: top;\n",
              "    }\n",
              "\n",
              "    .dataframe thead th {\n",
              "        text-align: right;\n",
              "    }\n",
              "</style>\n",
              "<table border=\"1\" class=\"dataframe\">\n",
              "  <thead>\n",
              "    <tr style=\"text-align: right;\">\n",
              "      <th></th>\n",
              "      <th>additional_fare</th>\n",
              "      <th>duration</th>\n",
              "      <th>meter_waiting</th>\n",
              "      <th>meter_waiting_fare</th>\n",
              "      <th>meter_waiting_till_pickup</th>\n",
              "      <th>pick_lat</th>\n",
              "      <th>pick_lon</th>\n",
              "      <th>drop_lat</th>\n",
              "      <th>drop_lon</th>\n",
              "      <th>fare</th>\n",
              "      <th>pickup_time_year</th>\n",
              "      <th>pickup_time_month</th>\n",
              "      <th>pickup_time_day</th>\n",
              "      <th>pickup_time_hour</th>\n",
              "      <th>pickup_time_minute</th>\n",
              "      <th>drop_time_year</th>\n",
              "      <th>drop_time_month</th>\n",
              "      <th>drop_time_day</th>\n",
              "      <th>drop_time_hour</th>\n",
              "      <th>drop_time_minute</th>\n",
              "      <th>day_of_week</th>\n",
              "      <th>duration_calculated</th>\n",
              "      <th>distance</th>\n",
              "      <th>distance_X</th>\n",
              "      <th>distance_Y</th>\n",
              "      <th>pick_X</th>\n",
              "      <th>pick_Y</th>\n",
              "      <th>drop_X</th>\n",
              "      <th>drop_Y</th>\n",
              "      <th>pick_hour_sin</th>\n",
              "      <th>drop_hour_sin</th>\n",
              "      <th>pick_hour_cos</th>\n",
              "      <th>drop_hour_cos</th>\n",
              "      <th>total_fare</th>\n",
              "      <th>total_additional_fare</th>\n",
              "      <th>total_waiting_time</th>\n",
              "      <th>total_time</th>\n",
              "      <th>waiting_factor</th>\n",
              "    </tr>\n",
              "  </thead>\n",
              "  <tbody>\n",
              "    <tr>\n",
              "      <th>0</th>\n",
              "      <td>10.5</td>\n",
              "      <td>834.0</td>\n",
              "      <td>56.0</td>\n",
              "      <td>0.0000</td>\n",
              "      <td>64.0</td>\n",
              "      <td>6.86252</td>\n",
              "      <td>79.8993</td>\n",
              "      <td>6.90330</td>\n",
              "      <td>79.8783</td>\n",
              "      <td>270.32</td>\n",
              "      <td>2019.0</td>\n",
              "      <td>11.0</td>\n",
              "      <td>1.0</td>\n",
              "      <td>0.0</td>\n",
              "      <td>20.0</td>\n",
              "      <td>2019.0</td>\n",
              "      <td>11.0</td>\n",
              "      <td>1.0</td>\n",
              "      <td>0.0</td>\n",
              "      <td>34.0</td>\n",
              "      <td>0.0</td>\n",
              "      <td>840.0</td>\n",
              "      <td>0.022663</td>\n",
              "      <td>-0.04078</td>\n",
              "      <td>0.0210</td>\n",
              "      <td>-0.175519</td>\n",
              "      <td>-0.818213</td>\n",
              "      <td>-0.187363</td>\n",
              "      <td>-0.791950</td>\n",
              "      <td>0.000000</td>\n",
              "      <td>0.000000</td>\n",
              "      <td>1.000000</td>\n",
              "      <td>1.000000</td>\n",
              "      <td>280.8200</td>\n",
              "      <td>10.5000</td>\n",
              "      <td>120.0</td>\n",
              "      <td>954.0</td>\n",
              "      <td>-0.249539</td>\n",
              "    </tr>\n",
              "    <tr>\n",
              "      <th>1</th>\n",
              "      <td>10.5</td>\n",
              "      <td>791.0</td>\n",
              "      <td>47.0</td>\n",
              "      <td>0.0000</td>\n",
              "      <td>134.0</td>\n",
              "      <td>6.88589</td>\n",
              "      <td>79.8984</td>\n",
              "      <td>6.91373</td>\n",
              "      <td>79.8923</td>\n",
              "      <td>197.85</td>\n",
              "      <td>2019.0</td>\n",
              "      <td>11.0</td>\n",
              "      <td>1.0</td>\n",
              "      <td>0.0</td>\n",
              "      <td>56.0</td>\n",
              "      <td>2019.0</td>\n",
              "      <td>11.0</td>\n",
              "      <td>1.0</td>\n",
              "      <td>1.0</td>\n",
              "      <td>9.0</td>\n",
              "      <td>0.0</td>\n",
              "      <td>780.0</td>\n",
              "      <td>0.006875</td>\n",
              "      <td>-0.02784</td>\n",
              "      <td>0.0061</td>\n",
              "      <td>-0.173513</td>\n",
              "      <td>-0.805325</td>\n",
              "      <td>-0.174935</td>\n",
              "      <td>-0.788535</td>\n",
              "      <td>0.000000</td>\n",
              "      <td>0.052336</td>\n",
              "      <td>1.000000</td>\n",
              "      <td>0.998630</td>\n",
              "      <td>208.3500</td>\n",
              "      <td>10.5000</td>\n",
              "      <td>181.0</td>\n",
              "      <td>972.0</td>\n",
              "      <td>-0.092330</td>\n",
              "    </tr>\n",
              "    <tr>\n",
              "      <th>2</th>\n",
              "      <td>10.5</td>\n",
              "      <td>1087.0</td>\n",
              "      <td>80.0</td>\n",
              "      <td>0.0000</td>\n",
              "      <td>61.0</td>\n",
              "      <td>6.90839</td>\n",
              "      <td>79.8651</td>\n",
              "      <td>6.93669</td>\n",
              "      <td>79.9146</td>\n",
              "      <td>301.64</td>\n",
              "      <td>2019.0</td>\n",
              "      <td>11.0</td>\n",
              "      <td>1.0</td>\n",
              "      <td>1.0</td>\n",
              "      <td>8.0</td>\n",
              "      <td>2019.0</td>\n",
              "      <td>11.0</td>\n",
              "      <td>1.0</td>\n",
              "      <td>1.0</td>\n",
              "      <td>26.0</td>\n",
              "      <td>0.0</td>\n",
              "      <td>1080.0</td>\n",
              "      <td>0.050301</td>\n",
              "      <td>-0.02830</td>\n",
              "      <td>-0.0495</td>\n",
              "      <td>-0.197078</td>\n",
              "      <td>-0.786528</td>\n",
              "      <td>-0.154631</td>\n",
              "      <td>-0.778754</td>\n",
              "      <td>0.052336</td>\n",
              "      <td>0.052336</td>\n",
              "      <td>0.998630</td>\n",
              "      <td>0.998630</td>\n",
              "      <td>312.1400</td>\n",
              "      <td>10.5000</td>\n",
              "      <td>141.0</td>\n",
              "      <td>1228.0</td>\n",
              "      <td>-0.253348</td>\n",
              "    </tr>\n",
              "    <tr>\n",
              "      <th>3</th>\n",
              "      <td>10.5</td>\n",
              "      <td>598.0</td>\n",
              "      <td>271.0</td>\n",
              "      <td>15.6638</td>\n",
              "      <td>68.0</td>\n",
              "      <td>6.92570</td>\n",
              "      <td>79.8895</td>\n",
              "      <td>6.92748</td>\n",
              "      <td>79.8971</td>\n",
              "      <td>82.30</td>\n",
              "      <td>2019.0</td>\n",
              "      <td>11.0</td>\n",
              "      <td>1.0</td>\n",
              "      <td>2.0</td>\n",
              "      <td>27.0</td>\n",
              "      <td>2019.0</td>\n",
              "      <td>11.0</td>\n",
              "      <td>1.0</td>\n",
              "      <td>2.0</td>\n",
              "      <td>37.0</td>\n",
              "      <td>0.0</td>\n",
              "      <td>600.0</td>\n",
              "      <td>0.007603</td>\n",
              "      <td>-0.00178</td>\n",
              "      <td>-0.0076</td>\n",
              "      <td>-0.175582</td>\n",
              "      <td>-0.781100</td>\n",
              "      <td>-0.169414</td>\n",
              "      <td>-0.781369</td>\n",
              "      <td>0.104528</td>\n",
              "      <td>0.104528</td>\n",
              "      <td>0.994522</td>\n",
              "      <td>0.994522</td>\n",
              "      <td>108.4638</td>\n",
              "      <td>26.1638</td>\n",
              "      <td>339.0</td>\n",
              "      <td>937.0</td>\n",
              "      <td>-0.180187</td>\n",
              "    </tr>\n",
              "    <tr>\n",
              "      <th>5</th>\n",
              "      <td>10.5</td>\n",
              "      <td>3407.0</td>\n",
              "      <td>182.0</td>\n",
              "      <td>0.0000</td>\n",
              "      <td>112.0</td>\n",
              "      <td>7.13402</td>\n",
              "      <td>79.8969</td>\n",
              "      <td>6.91865</td>\n",
              "      <td>79.8649</td>\n",
              "      <td>1065.02</td>\n",
              "      <td>2019.0</td>\n",
              "      <td>11.0</td>\n",
              "      <td>1.0</td>\n",
              "      <td>5.0</td>\n",
              "      <td>38.0</td>\n",
              "      <td>2019.0</td>\n",
              "      <td>11.0</td>\n",
              "      <td>1.0</td>\n",
              "      <td>6.0</td>\n",
              "      <td>35.0</td>\n",
              "      <td>0.0</td>\n",
              "      <td>3420.0</td>\n",
              "      <td>0.078384</td>\n",
              "      <td>0.21537</td>\n",
              "      <td>0.0320</td>\n",
              "      <td>-0.139842</td>\n",
              "      <td>-0.644356</td>\n",
              "      <td>-0.195765</td>\n",
              "      <td>-0.780623</td>\n",
              "      <td>0.258819</td>\n",
              "      <td>0.309017</td>\n",
              "      <td>0.965926</td>\n",
              "      <td>0.951057</td>\n",
              "      <td>1075.5200</td>\n",
              "      <td>10.5000</td>\n",
              "      <td>294.0</td>\n",
              "      <td>3701.0</td>\n",
              "      <td>-0.125349</td>\n",
              "    </tr>\n",
              "  </tbody>\n",
              "</table>\n",
              "</div>"
            ],
            "text/plain": [
              "   additional_fare  duration  ...  total_time  waiting_factor\n",
              "0             10.5     834.0  ...       954.0       -0.249539\n",
              "1             10.5     791.0  ...       972.0       -0.092330\n",
              "2             10.5    1087.0  ...      1228.0       -0.253348\n",
              "3             10.5     598.0  ...       937.0       -0.180187\n",
              "5             10.5    3407.0  ...      3701.0       -0.125349\n",
              "\n",
              "[5 rows x 38 columns]"
            ]
          },
          "metadata": {
            "tags": []
          },
          "execution_count": 119
        }
      ]
    },
    {
      "cell_type": "code",
      "metadata": {
        "id": "4jd0tdno-ftT",
        "colab_type": "code",
        "colab": {}
      },
      "source": [
        "numeric_cols = ['meter_waiting','meter_waiting_fare','meter_waiting_till_pickup',\n",
        "               'additional_fare','duration','pick_lat','pick_lon','drop_lat','drop_lon',\n",
        "               'fare','pickup_time_day','pickup_time_hour','pickup_time_minute']\n",
        "\n",
        "numeric_cols = ['meter_waiting','meter_waiting_fare','meter_waiting_till_pickup',\n",
        "               'additional_fare','duration','fare','distance','pickup_time_minute',\n",
        "                'distance_X', 'distance_Y']\n",
        "categorical_cols = ['pickup_time_hour',]\n",
        "\n"
      ],
      "execution_count": null,
      "outputs": []
    },
    {
      "cell_type": "code",
      "metadata": {
        "id": "MBtibq9gXvla",
        "colab_type": "code",
        "colab": {}
      },
      "source": [
        ""
      ],
      "execution_count": null,
      "outputs": []
    },
    {
      "cell_type": "code",
      "metadata": {
        "id": "fWpN_q3bXvqj",
        "colab_type": "code",
        "colab": {}
      },
      "source": [
        ""
      ],
      "execution_count": null,
      "outputs": []
    },
    {
      "cell_type": "code",
      "metadata": {
        "id": "2cTQzFOTXvpG",
        "colab_type": "code",
        "colab": {}
      },
      "source": [
        ""
      ],
      "execution_count": null,
      "outputs": []
    },
    {
      "cell_type": "code",
      "metadata": {
        "id": "QmqIt916-xHd",
        "colab_type": "code",
        "colab": {}
      },
      "source": [
        "X_train, X_eval, Y_train, Y_eval = train_test_split(\n",
        "    imputed_train_set,\n",
        "    labels,\n",
        "    test_size=0.20,\n",
        "    shuffle=True,\n",
        "    stratify=labels,\n",
        "    random_state=RANDOM_SEED\n",
        ")\n",
        "\n"
      ],
      "execution_count": null,
      "outputs": []
    },
    {
      "cell_type": "code",
      "metadata": {
        "id": "y6Jrsx7j_EcW",
        "colab_type": "code",
        "colab": {}
      },
      "source": [
        "numeric_preprocessing_steps = Pipeline([\n",
        "    ('minmax_scaler', MinMaxScaler())\n",
        "])\n",
        "\n",
        "categorical_transformer = Pipeline(steps=[\n",
        "    ('onehot', OrdinalEncoder())\n",
        "    ])\n",
        "\n",
        "\n",
        "preprocessor = ColumnTransformer(\n",
        "    transformers = [\n",
        "        (\"numeric\", numeric_preprocessing_steps, numeric_cols),\n",
        "        (\"categorical\", categorical_transformer, categorical_cols)\n",
        "    ],\n",
        "    remainder = \"drop\"\n",
        ")\n",
        "\n",
        "data_pipeline = Pipeline([\n",
        "    (\"preprocessor\", preprocessor)\n",
        "])\n"
      ],
      "execution_count": null,
      "outputs": []
    },
    {
      "cell_type": "code",
      "metadata": {
        "id": "OKkm4KpE_lVV",
        "colab_type": "code",
        "colab": {}
      },
      "source": [
        "data_pipeline.fit(X_train)\n",
        "d_train = data_pipeline.transform(X_train)\n",
        "d_eval = data_pipeline.transform(X_eval)"
      ],
      "execution_count": null,
      "outputs": []
    },
    {
      "cell_type": "code",
      "metadata": {
        "id": "b0v5DTk2_qFs",
        "colab_type": "code",
        "colab": {}
      },
      "source": [
        ""
      ],
      "execution_count": null,
      "outputs": []
    },
    {
      "cell_type": "code",
      "metadata": {
        "id": "_T_zbihj_rvM",
        "colab_type": "code",
        "colab": {
          "base_uri": "https://localhost:8080/",
          "height": 54
        },
        "outputId": "1a52c8e4-2856-47f6-f6da-5ff21275e5d8"
      },
      "source": [
        "print(d_train.shape, d_eval.shape)\n",
        "Y_train.shape"
      ],
      "execution_count": null,
      "outputs": [
        {
          "output_type": "stream",
          "text": [
            "(13574, 10) (3394, 10)\n"
          ],
          "name": "stdout"
        },
        {
          "output_type": "execute_result",
          "data": {
            "text/plain": [
              "(13574,)"
            ]
          },
          "metadata": {
            "tags": []
          },
          "execution_count": 70
        }
      ]
    },
    {
      "cell_type": "code",
      "metadata": {
        "id": "YF0SyMzo_uw8",
        "colab_type": "code",
        "colab": {
          "base_uri": "https://localhost:8080/",
          "height": 72
        },
        "outputId": "a133abb3-7ec4-49a2-a0cd-5bd2f61fbe26"
      },
      "source": [
        "d_train[0]"
      ],
      "execution_count": null,
      "outputs": [
        {
          "output_type": "execute_result",
          "data": {
            "text/plain": [
              "array([2.13821228e-04, 0.00000000e+00, 2.06676026e-03, 8.20631136e-04,\n",
              "       1.33297494e-03, 5.27573862e-03, 5.29539131e-07, 9.89144463e-01,\n",
              "       1.12277126e-02, 1.10000000e+01])"
            ]
          },
          "metadata": {
            "tags": []
          },
          "execution_count": 50
        }
      ]
    },
    {
      "cell_type": "code",
      "metadata": {
        "id": "2hOzKqs9SohQ",
        "colab_type": "code",
        "colab": {}
      },
      "source": [
        ""
      ],
      "execution_count": null,
      "outputs": []
    },
    {
      "cell_type": "code",
      "metadata": {
        "id": "SflTTNQuSoqQ",
        "colab_type": "code",
        "colab": {}
      },
      "source": [
        ""
      ],
      "execution_count": null,
      "outputs": []
    },
    {
      "cell_type": "code",
      "metadata": {
        "id": "1Q9kmLCh_4Bs",
        "colab_type": "code",
        "colab": {}
      },
      "source": [
        "from sklearn.utils.class_weight import compute_sample_weight\n",
        "sample_w = compute_sample_weight(class_weight={0:0.1, 1:0.90}, y=Y_train)"
      ],
      "execution_count": null,
      "outputs": []
    },
    {
      "cell_type": "code",
      "metadata": {
        "id": "cZQGwzGfiemE",
        "colab_type": "code",
        "colab": {}
      },
      "source": [
        "from sklearn.utils.class_weight import compute_sample_weight\n",
        "sample_w = compute_sample_weight(class_weight={0:10, 1:1}, y=Y_train)"
      ],
      "execution_count": null,
      "outputs": []
    },
    {
      "cell_type": "code",
      "metadata": {
        "id": "1tnCOXBj5xaV",
        "colab_type": "code",
        "colab": {
          "base_uri": "https://localhost:8080/",
          "height": 35
        },
        "outputId": "13a100dd-02a8-4c1f-b24f-e05aeb1506ea"
      },
      "source": [
        "sample_w"
      ],
      "execution_count": null,
      "outputs": [
        {
          "output_type": "execute_result",
          "data": {
            "text/plain": [
              "array([1., 1., 1., ..., 1., 1., 1.])"
            ]
          },
          "metadata": {
            "tags": []
          },
          "execution_count": 120
        }
      ]
    },
    {
      "cell_type": "code",
      "metadata": {
        "id": "76oLlFx5lM0O",
        "colab_type": "code",
        "colab": {
          "base_uri": "https://localhost:8080/",
          "height": 586
        },
        "outputId": "7377590d-930d-4b30-b67b-a34686cf4435"
      },
      "source": [
        "from sklearn.ensemble import GradientBoostingClassifier\n",
        "from sklearn.metrics import f1_score\n",
        "\n",
        "gbclf = GradientBoostingClassifier(random_state=2, n_estimators = 1200, max_depth =8, \n",
        "                                   subsample = 1.0, verbose = 1)\n",
        "gbclf.fit(d_train, Y_train, sample_w)\n",
        "print(gbclf.score(d_eval, Y_eval))\n",
        "pr = gbclf.predict(d_eval)\n",
        "f1_score(Y_eval, pr, average='macro')"
      ],
      "execution_count": null,
      "outputs": [
        {
          "output_type": "stream",
          "text": [
            "      Iter       Train Loss   Remaining Time \n",
            "         1           1.2881            1.90m\n",
            "         2           1.2064            1.91m\n",
            "         3           1.1329            1.91m\n",
            "         4           1.0667            1.90m\n",
            "         5           1.0071            1.90m\n",
            "         6           0.9562            1.90m\n",
            "         7           0.9160            1.90m\n",
            "         8           0.8765            1.90m\n",
            "         9           0.8389            1.91m\n",
            "        10           0.8073            1.91m\n",
            "        20           0.5645            1.89m\n",
            "        30           0.4258            1.88m\n",
            "        40           0.3456            1.86m\n",
            "        50           0.2767            1.84m\n",
            "        60           0.2323            1.83m\n",
            "        70           0.1959            1.82m\n",
            "        80           0.1713            1.80m\n",
            "        90           0.1505            1.78m\n",
            "       100           0.1335            1.76m\n",
            "       200           0.0426            1.60m\n",
            "       300           0.0153            1.44m\n",
            "       400           0.0059            1.27m\n",
            "       500           0.0022            1.11m\n",
            "       600           0.0009           57.06s\n",
            "       700           0.0004           47.17s\n",
            "       800           0.0003           36.45s\n",
            "       900           0.0003           24.35s\n",
            "      1000           0.0003           14.64s\n",
            "0.9516794342958161\n"
          ],
          "name": "stdout"
        },
        {
          "output_type": "execute_result",
          "data": {
            "text/plain": [
              "0.8267781030911409"
            ]
          },
          "metadata": {
            "tags": []
          },
          "execution_count": 86
        }
      ]
    },
    {
      "cell_type": "code",
      "metadata": {
        "id": "xe6fugdL_9mT",
        "colab_type": "code",
        "colab": {
          "base_uri": "https://localhost:8080/",
          "height": 35
        },
        "outputId": "7e129aaf-4dbb-4689-8d4c-65ecb53c56bf"
      },
      "source": [
        "from sklearn.ensemble import GradientBoostingClassifier\n",
        "\n",
        "gbclf = GradientBoostingClassifier(random_state=0, n_estimators = 850, max_depth =8, subsample = 1.0, loss ='exponential')\n",
        "#gbclf.fit(d_train, Y_train, sample_w)\n",
        "gbclf.fit(d_train, Y_train,sample_w)\n",
        "gbclf.score(d_eval, Y_eval)"
      ],
      "execution_count": null,
      "outputs": [
        {
          "output_type": "execute_result",
          "data": {
            "text/plain": [
              "0.9560989982321745"
            ]
          },
          "metadata": {
            "tags": []
          },
          "execution_count": 28
        }
      ]
    },
    {
      "cell_type": "code",
      "metadata": {
        "id": "zvtUiukenSOZ",
        "colab_type": "code",
        "colab": {}
      },
      "source": [
        ""
      ],
      "execution_count": null,
      "outputs": []
    },
    {
      "cell_type": "code",
      "metadata": {
        "id": "nw2E_4YDnSVS",
        "colab_type": "code",
        "colab": {}
      },
      "source": [
        ""
      ],
      "execution_count": null,
      "outputs": []
    },
    {
      "cell_type": "code",
      "metadata": {
        "id": "puRrtURpnSaY",
        "colab_type": "code",
        "colab": {}
      },
      "source": [
        ""
      ],
      "execution_count": null,
      "outputs": []
    },
    {
      "cell_type": "code",
      "metadata": {
        "id": "kcQXiHvYnSf6",
        "colab_type": "code",
        "colab": {}
      },
      "source": [
        ""
      ],
      "execution_count": null,
      "outputs": []
    },
    {
      "cell_type": "code",
      "metadata": {
        "id": "47ZX5CfqnSna",
        "colab_type": "code",
        "colab": {}
      },
      "source": [
        ""
      ],
      "execution_count": null,
      "outputs": []
    },
    {
      "cell_type": "code",
      "metadata": {
        "id": "XSVTe68onSlR",
        "colab_type": "code",
        "colab": {}
      },
      "source": [
        ""
      ],
      "execution_count": null,
      "outputs": []
    },
    {
      "cell_type": "code",
      "metadata": {
        "id": "O6V6Buku4_Cg",
        "colab_type": "code",
        "colab": {}
      },
      "source": [
        ""
      ],
      "execution_count": null,
      "outputs": []
    },
    {
      "cell_type": "code",
      "metadata": {
        "id": "r3USS1n7TE_1",
        "colab_type": "code",
        "colab": {
          "base_uri": "https://localhost:8080/",
          "height": 752
        },
        "outputId": "60611641-58ef-4b1b-e349-4505dab26d87"
      },
      "source": [
        "data_pipeline.fit(imputed_train_set)\n",
        "d_all = data_pipeline.transform(imputed_train_set)\n",
        "y_all = labels\n",
        "print(d_all.shape, y_all.shape)\n",
        "\n",
        "from sklearn.utils.class_weight import compute_sample_weight\n",
        "sample_w = compute_sample_weight(class_weight={0:10, 1:1}, y=y_all)\n",
        "\n",
        "gbclf.fit(d_all, y_all,sample_w)"
      ],
      "execution_count": null,
      "outputs": [
        {
          "output_type": "stream",
          "text": [
            "(16968, 11) (16968,)\n",
            "      Iter       Train Loss   Remaining Time \n",
            "         1           1.2885            2.38m\n",
            "         2           1.2084            2.37m\n",
            "         3           1.1429            2.35m\n",
            "         4           1.0794            2.36m\n",
            "         5           1.0248            2.36m\n",
            "         6           0.9757            2.36m\n",
            "         7           0.9314            2.37m\n",
            "         8           0.8919            2.37m\n",
            "         9           0.8568            2.37m\n",
            "        10           0.8242            2.37m\n",
            "        20           0.5989            2.35m\n",
            "        30           0.4702            2.33m\n",
            "        40           0.3914            2.32m\n",
            "        50           0.3324            2.30m\n",
            "        60           0.2880            2.27m\n",
            "        70           0.2468            2.25m\n",
            "        80           0.2165            2.23m\n",
            "        90           0.1904            2.21m\n",
            "       100           0.1671            2.19m\n",
            "       200           0.0644            1.98m\n",
            "       300           0.0278            1.78m\n",
            "       400           0.0120            1.58m\n",
            "       500           0.0052            1.38m\n",
            "       600           0.0024            1.18m\n",
            "       700           0.0011           59.12s\n",
            "       800           0.0005           47.08s\n",
            "       900           0.0004           34.94s\n",
            "      1000           0.0003           21.65s\n"
          ],
          "name": "stdout"
        },
        {
          "output_type": "execute_result",
          "data": {
            "text/plain": [
              "GradientBoostingClassifier(ccp_alpha=0.0, criterion='friedman_mse', init=None,\n",
              "                           learning_rate=0.1, loss='deviance', max_depth=8,\n",
              "                           max_features=None, max_leaf_nodes=None,\n",
              "                           min_impurity_decrease=0.0, min_impurity_split=None,\n",
              "                           min_samples_leaf=1, min_samples_split=2,\n",
              "                           min_weight_fraction_leaf=0.0, n_estimators=1200,\n",
              "                           n_iter_no_change=None, presort='deprecated',\n",
              "                           random_state=2, subsample=1.0, tol=0.0001,\n",
              "                           validation_fraction=0.1, verbose=1,\n",
              "                           warm_start=False)"
            ]
          },
          "metadata": {
            "tags": []
          },
          "execution_count": 87
        }
      ]
    },
    {
      "cell_type": "code",
      "metadata": {
        "id": "W7tbXRtIS9Te",
        "colab_type": "code",
        "colab": {}
      },
      "source": [
        "cleaned_test_data = preprocess_train_data(test)\n",
        "\n",
        "test_set = data_pipeline.transform(cleaned_test_data)"
      ],
      "execution_count": null,
      "outputs": []
    },
    {
      "cell_type": "code",
      "metadata": {
        "id": "0TB6w3_RS9bj",
        "colab_type": "code",
        "colab": {
          "base_uri": "https://localhost:8080/",
          "height": 35
        },
        "outputId": "63a0e728-a9c3-4964-b92e-5b860e17e180"
      },
      "source": [
        "test_set.shape"
      ],
      "execution_count": null,
      "outputs": [
        {
          "output_type": "execute_result",
          "data": {
            "text/plain": [
              "(8576, 11)"
            ]
          },
          "metadata": {
            "tags": []
          },
          "execution_count": 89
        }
      ]
    },
    {
      "cell_type": "code",
      "metadata": {
        "id": "gFOunosbS9o-",
        "colab_type": "code",
        "colab": {
          "base_uri": "https://localhost:8080/",
          "height": 35
        },
        "outputId": "9534f57b-339a-4825-f944-15b3f19cf586"
      },
      "source": [
        "preds = gbclf.predict(test_set)\n",
        "print(preds)"
      ],
      "execution_count": null,
      "outputs": [
        {
          "output_type": "stream",
          "text": [
            "[1 1 1 ... 1 1 1]\n"
          ],
          "name": "stdout"
        }
      ]
    },
    {
      "cell_type": "code",
      "metadata": {
        "id": "MFLGfZrdT7tN",
        "colab_type": "code",
        "colab": {
          "base_uri": "https://localhost:8080/",
          "height": 35
        },
        "outputId": "b65ef51e-2628-4221-9c90-af2fb6805129"
      },
      "source": [
        "preds.shape"
      ],
      "execution_count": null,
      "outputs": [
        {
          "output_type": "execute_result",
          "data": {
            "text/plain": [
              "(8576,)"
            ]
          },
          "metadata": {
            "tags": []
          },
          "execution_count": 91
        }
      ]
    },
    {
      "cell_type": "code",
      "metadata": {
        "id": "xZFn05nyS9mA",
        "colab_type": "code",
        "colab": {
          "base_uri": "https://localhost:8080/",
          "height": 206
        },
        "outputId": "83e08ddb-2527-4f85-aae6-5f36393c5a86"
      },
      "source": [
        "output = pd.DataFrame(test,columns=['tripid'])\n",
        "output['prediction'] = preds\n",
        "output.head()"
      ],
      "execution_count": null,
      "outputs": [
        {
          "output_type": "execute_result",
          "data": {
            "text/html": [
              "<div>\n",
              "<style scoped>\n",
              "    .dataframe tbody tr th:only-of-type {\n",
              "        vertical-align: middle;\n",
              "    }\n",
              "\n",
              "    .dataframe tbody tr th {\n",
              "        vertical-align: top;\n",
              "    }\n",
              "\n",
              "    .dataframe thead th {\n",
              "        text-align: right;\n",
              "    }\n",
              "</style>\n",
              "<table border=\"1\" class=\"dataframe\">\n",
              "  <thead>\n",
              "    <tr style=\"text-align: right;\">\n",
              "      <th></th>\n",
              "      <th>tripid</th>\n",
              "      <th>prediction</th>\n",
              "    </tr>\n",
              "  </thead>\n",
              "  <tbody>\n",
              "    <tr>\n",
              "      <th>0</th>\n",
              "      <td>213284604</td>\n",
              "      <td>1</td>\n",
              "    </tr>\n",
              "    <tr>\n",
              "      <th>1</th>\n",
              "      <td>213286352</td>\n",
              "      <td>1</td>\n",
              "    </tr>\n",
              "    <tr>\n",
              "      <th>2</th>\n",
              "      <td>213293973</td>\n",
              "      <td>1</td>\n",
              "    </tr>\n",
              "    <tr>\n",
              "      <th>3</th>\n",
              "      <td>213294622</td>\n",
              "      <td>1</td>\n",
              "    </tr>\n",
              "    <tr>\n",
              "      <th>4</th>\n",
              "      <td>213298687</td>\n",
              "      <td>1</td>\n",
              "    </tr>\n",
              "  </tbody>\n",
              "</table>\n",
              "</div>"
            ],
            "text/plain": [
              "      tripid  prediction\n",
              "0  213284604           1\n",
              "1  213286352           1\n",
              "2  213293973           1\n",
              "3  213294622           1\n",
              "4  213298687           1"
            ]
          },
          "metadata": {
            "tags": []
          },
          "execution_count": 92
        }
      ]
    },
    {
      "cell_type": "code",
      "metadata": {
        "id": "7VuFuEg2S9j9",
        "colab_type": "code",
        "colab": {}
      },
      "source": [
        "output.to_csv('/content/Ridefare_submission_20.csv',index=False)"
      ],
      "execution_count": null,
      "outputs": []
    },
    {
      "cell_type": "code",
      "metadata": {
        "id": "TRsHj6uRS9ia",
        "colab_type": "code",
        "colab": {}
      },
      "source": [
        ""
      ],
      "execution_count": null,
      "outputs": []
    },
    {
      "cell_type": "code",
      "metadata": {
        "id": "kqhEaHO1S9hT",
        "colab_type": "code",
        "colab": {}
      },
      "source": [
        ""
      ],
      "execution_count": null,
      "outputs": []
    },
    {
      "cell_type": "code",
      "metadata": {
        "id": "xNcwLagxS9ZP",
        "colab_type": "code",
        "colab": {}
      },
      "source": [
        ""
      ],
      "execution_count": null,
      "outputs": []
    },
    {
      "cell_type": "code",
      "metadata": {
        "id": "jjA5UqQkS9Xe",
        "colab_type": "code",
        "colab": {}
      },
      "source": [
        ""
      ],
      "execution_count": null,
      "outputs": []
    },
    {
      "cell_type": "code",
      "metadata": {
        "id": "_dyPdaDXPiGH",
        "colab_type": "code",
        "colab": {}
      },
      "source": [
        ""
      ],
      "execution_count": null,
      "outputs": []
    },
    {
      "cell_type": "code",
      "metadata": {
        "id": "kXNWZy5oPiEV",
        "colab_type": "code",
        "colab": {}
      },
      "source": [
        ""
      ],
      "execution_count": null,
      "outputs": []
    }
  ]
}