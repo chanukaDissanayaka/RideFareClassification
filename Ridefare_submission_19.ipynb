{
  "nbformat": 4,
  "nbformat_minor": 0,
  "metadata": {
    "colab": {
      "name": "Ridefare_submission_19.ipynb",
      "provenance": [],
      "collapsed_sections": [],
      "authorship_tag": "ABX9TyO5EzVEn6RagUut2zxLBjZz",
      "include_colab_link": true
    },
    "kernelspec": {
      "name": "python3",
      "display_name": "Python 3"
    }
  },
  "cells": [
    {
      "cell_type": "markdown",
      "metadata": {
        "id": "view-in-github",
        "colab_type": "text"
      },
      "source": [
        "<a href=\"https://colab.research.google.com/github/chanukaDissanayaka/RideFareClassification/blob/master/Ridefare_submission_19.ipynb\" target=\"_parent\"><img src=\"https://colab.research.google.com/assets/colab-badge.svg\" alt=\"Open In Colab\"/></a>"
      ]
    },
    {
      "cell_type": "code",
      "metadata": {
        "id": "JNd9bnpB9S9w",
        "colab_type": "code",
        "colab": {
          "base_uri": "https://localhost:8080/",
          "height": 35
        },
        "outputId": "84d72632-fb31-453a-82de-c2d006f0ec86"
      },
      "source": [
        "#imports\n",
        "\n",
        "import pandas as pd\n",
        "from keras.models import Sequential\n",
        "from keras.layers import Dense\n",
        "from keras.wrappers.scikit_learn import KerasClassifier\n",
        "from sklearn.model_selection import cross_val_score\n",
        "from sklearn.preprocessing import LabelEncoder\n",
        "from sklearn.model_selection import StratifiedKFold\n",
        "from sklearn.preprocessing import StandardScaler\n",
        "from sklearn.pipeline import Pipeline\n",
        "from sklearn.metrics import f1_score\n",
        "from sklearn.preprocessing import MinMaxScaler\n",
        "from sklearn.preprocessing import MaxAbsScaler\n",
        "from sklearn.compose import ColumnTransformer\n",
        "from sklearn.preprocessing import OrdinalEncoder\n",
        "from sklearn.preprocessing import StandardScaler, OneHotEncoder\n",
        "\n",
        "from datetime import datetime, timedelta\n",
        "from pandas import DataFrame\n",
        "\n",
        "from sklearn.pipeline import Pipeline\n",
        "\n",
        "from sklearn.model_selection import train_test_split\n",
        "from sklearn.impute import SimpleImputer\n",
        "from sklearn.compose import ColumnTransformer\n",
        "from sklearn.naive_bayes import GaussianNB\n",
        "from sklearn.metrics import accuracy_score\n",
        "\n",
        "from sklearn.ensemble import RandomForestClassifier\n",
        "\n",
        "import numpy as np\n",
        "\n",
        "RANDOM_SEED = 4"
      ],
      "execution_count": null,
      "outputs": [
        {
          "output_type": "stream",
          "text": [
            "Using TensorFlow backend.\n"
          ],
          "name": "stderr"
        }
      ]
    },
    {
      "cell_type": "code",
      "metadata": {
        "id": "mIIBYr6M9aVi",
        "colab_type": "code",
        "colab": {}
      },
      "source": [
        "dataframe = pd.read_csv(\"/content/train.csv\")\n",
        "test = pd.read_csv(\"/content/test.csv\")\n",
        "\n",
        "dataframe.isna().sum(axis = 0)\n",
        "#dataframe = dataframe.fillna(method='ffill')\n",
        "dataframe = dataframe.dropna()"
      ],
      "execution_count": null,
      "outputs": []
    },
    {
      "cell_type": "code",
      "metadata": {
        "id": "v40LrekZ9joQ",
        "colab_type": "code",
        "colab": {}
      },
      "source": [
        "def preprocess_train_data(dataframe):\n",
        "  feature_set = dataframe.iloc[:,1:13]\n",
        "\n",
        "  features = feature_set\n",
        "\n",
        "  features['pickup_time'] = pd.to_datetime(features['pickup_time'], format=\"%m/%d/%Y %H:%M\")\n",
        "  features['drop_time'] = pd.to_datetime(features['drop_time'], format=\"%m/%d/%Y %H:%M\")\n",
        "\n",
        "  td = features\n",
        "\n",
        "  td['pickup_time_year'] = td['pickup_time'].dt.year\n",
        "  td['pickup_time_month'] = td['pickup_time'].dt.month\n",
        "  td['pickup_time_day'] = td['pickup_time'].dt.day\n",
        "  td['pickup_time_hour'] = td['pickup_time'].dt.hour\n",
        "  td['pickup_time_minute'] = td['pickup_time'].dt.minute\n",
        "\n",
        "  td['drop_time_year'] = td['drop_time'].dt.year\n",
        "  td['drop_time_month'] = td['drop_time'].dt.month\n",
        "  td['drop_time_day'] = td['drop_time'].dt.day\n",
        "  td['drop_time_hour'] = td['drop_time'].dt.hour\n",
        "  td['drop_time_minute'] = td['drop_time'].dt.minute\n",
        "\n",
        "  td['day_of_week'] = td['pickup_time'].dt.day_name()\n",
        "  td['day_of_week'] = OrdinalEncoder().fit_transform(td[['day_of_week']])\n",
        "\n",
        "  td['duration_calculated'] = td['drop_time'] - td['pickup_time']\n",
        "  td['duration_calculated'] = td['duration_calculated'].dt.total_seconds().astype(int)\n",
        "\n",
        "  td = td.drop('pickup_time',1)\n",
        "  td = td.drop('drop_time',1)\n",
        "\n",
        "  td = get_trip_distance_eucld(td)\n",
        "  td = get_X_distance(td)\n",
        "  td = get_Y_distance(td)\n",
        "  td = get_pick_XY(td)\n",
        "  td = get_drop_XY(td)\n",
        "  td = transform_hour(td)\n",
        "  td = set_fare_duration(td)\n",
        "  \n",
        "\n",
        "  return td\n",
        "\n",
        "def get_labels(dataframe):\n",
        "  label_set = dataframe.iloc[:, 13:14]\n",
        "  #rev_label_set = label_set\n",
        "  rev_label_set = label_set.replace({'correct':'incorrect', 'incorrect':'correct'})\n",
        "\n",
        "  encoder = LabelEncoder()\n",
        "  encoder.fit(rev_label_set)\n",
        "  labels = encoder.transform(rev_label_set)\n",
        "  return labels\n",
        "\n",
        "def set_time_of_the_day(cleaned_train_set):\n",
        "  cleaned_train_set.head()\n",
        "  newFrame = cleaned_train_set\n",
        "  tt = newFrame\n",
        "\n",
        "  d0_index = newFrame[(newFrame['pickup_time_hour']>=0) & (newFrame['pickup_time_hour'] < 6 )].index\n",
        "  tt.loc[d0_index,'time_of_day']=0\n",
        "\n",
        "  d1_index = newFrame[(newFrame['pickup_time_hour']>=6) & (newFrame['pickup_time_hour'] < 12 )].index\n",
        "  tt.loc[d1_index,'time_of_day']=1\n",
        "\n",
        "  d2_index = newFrame[(newFrame['pickup_time_hour']>=12) & (newFrame['pickup_time_hour'] < 18 )].index\n",
        "  tt.loc[d2_index,'time_of_day']=2\n",
        "\n",
        "  d3_index = newFrame[(newFrame['pickup_time_hour']>=18) & (newFrame['pickup_time_hour'] < 24 )].index\n",
        "  tt.loc[d3_index,'time_of_day']=3\n",
        "\n",
        "  return tt\n",
        "\n",
        "def haversine_distance(lat1, lon1, lat2, lon2):\n",
        "  r = 6371\n",
        "  phi1 = np.radians(lat1)\n",
        "  phi2 = np.radians(lat2)\n",
        "  d_phi = np.radians(lat2-lat1)\n",
        "  d_lambda = np.radians(lon2-lon1)\n",
        "\n",
        "  a = np.sin(d_phi /2)**2 + np.cos(phi1) * np.cos(phi2) * np.sin(d_lambda/2)**2\n",
        "  res = r*(2* np.arctan2(np.sqrt(a), np.sqrt(1-a)))\n",
        "\n",
        "  return np.round(res,2)\n",
        "  return res\n",
        "\n",
        "def get_trip_distance(frame):\n",
        "  newFrame = frame\n",
        "  newFrame[\"distance\"] = haversine_distance(frame['pick_lat'],frame['drop_lat'],frame['pick_lon'],frame['drop_lon'])\n",
        "  return newFrame\n",
        "\n",
        "def get_trip_distance_eucld(frame):\n",
        "  newFrame = frame\n",
        "  newFrame[\"distance\"] = (((frame['pick_lat']-frame['drop_lat'])**2)+((frame['pick_lon']-frame['drop_lon'])**2)**0.5)\n",
        "  return newFrame\n",
        "\n",
        "def get_X_distance(frame):\n",
        "  newFrame = frame\n",
        "  newFrame[\"distance_X\"] = ((frame['pick_lat']-frame['drop_lat']))\n",
        "  return newFrame\n",
        "\n",
        "def get_Y_distance(frame):\n",
        "  newFrame = frame\n",
        "  newFrame[\"distance_Y\"] = ((frame['pick_lon']-frame['drop_lon']))\n",
        "  return newFrame\n",
        "\n",
        "def get_pick_XY(frame):\n",
        "  newFrame = frame\n",
        "  newFrame[\"pick_X\"] = np.cos(frame['pick_lat'])* np.cos(frame['pick_lon'])\n",
        "  newFrame[\"pick_Y\"] = np.cos(frame['pick_lat'])* np.sin(frame['pick_lon'])\n",
        "  return newFrame\n",
        "\n",
        "def get_drop_XY(frame):\n",
        "  newFrame = frame\n",
        "  newFrame[\"drop_X\"] = np.cos(frame['drop_lat'])* np.cos(frame['drop_lon'])\n",
        "  newFrame[\"drop_Y\"] = np.cos(frame['drop_lat'])* np.sin(frame['drop_lon'])\n",
        "  return newFrame\n",
        "\n",
        "def transform_hour(frame):\n",
        "  newFrame = frame\n",
        "  newFrame[\"pick_hour_sin\"] = np.sin(np.radians(3*frame['pickup_time_hour']))\n",
        "  newFrame[\"drop_hour_sin\"] = np.sin(np.radians(3*frame['drop_time_hour']))\n",
        "\n",
        "  newFrame[\"pick_hour_cos\"] = np.cos(np.radians(3*frame['pickup_time_hour']))\n",
        "  newFrame[\"drop_hour_cos\"] = np.cos(np.radians(3*frame['drop_time_hour']))\n",
        "  return newFrame\n",
        "\n",
        "def set_fare_duration(imputed_train_set):\n",
        "  df = imputed_train_set\n",
        "\n",
        "  df['total_fare'] = ((df['fare']-df['fare'].mean())/df['fare'].std() +\n",
        "                      (df['additional_fare']-df['additional_fare'].mean())/df['additional_fare'].std()+ \n",
        "                      (df['meter_waiting_fare']-df['meter_waiting_fare'].mean())/df['meter_waiting_fare'].std())\n",
        "\n",
        "  df['total_fare'] =  df['fare'] + df['additional_fare'] + df['meter_waiting_fare']\n",
        "  df['total_additional_fare'] = df['additional_fare'] + df['meter_waiting_fare']\n",
        "  df['total_waiting_time'] = df['meter_waiting'] + df['meter_waiting_till_pickup']\n",
        "  df['total_time'] = df['total_waiting_time'] + df['duration']\n",
        "\n",
        "  df['waiting_factor'] = ((df['meter_waiting']-df['meter_waiting'].mean())/df['meter_waiting'].std() +\n",
        "                      (df['meter_waiting_fare']-df['meter_waiting_fare'].mean())/df['meter_waiting_fare'].std()+ \n",
        "                      (df['meter_waiting_till_pickup']-df['meter_waiting_till_pickup'].mean())/df['meter_waiting_till_pickup'].std())\n",
        "\n",
        "  return df"
      ],
      "execution_count": null,
      "outputs": []
    },
    {
      "cell_type": "code",
      "metadata": {
        "id": "KUHR69oraNiG",
        "colab_type": "code",
        "colab": {
          "base_uri": "https://localhost:8080/",
          "height": 72
        },
        "outputId": "e0259e22-5ca1-420b-aa6e-c887c31bda1e"
      },
      "source": [
        "print(dataframe.label.value_counts())"
      ],
      "execution_count": null,
      "outputs": [
        {
          "output_type": "stream",
          "text": [
            "correct      15442\n",
            "incorrect     1526\n",
            "Name: label, dtype: int64\n"
          ],
          "name": "stdout"
        }
      ]
    },
    {
      "cell_type": "code",
      "metadata": {
        "id": "UDru7N6xX5Yk",
        "colab_type": "code",
        "colab": {}
      },
      "source": [
        ""
      ],
      "execution_count": null,
      "outputs": []
    },
    {
      "cell_type": "code",
      "metadata": {
        "id": "8TovlVXvX5WQ",
        "colab_type": "code",
        "colab": {
          "base_uri": "https://localhost:8080/",
          "height": 300
        },
        "outputId": "72ee3f16-a3ad-45d6-87a1-6500b7e1eecf"
      },
      "source": [
        "cleaned_train_set = preprocess_train_data(dataframe)\n",
        "labels = get_labels(dataframe)\n",
        "cleaned_train_set.head()\n"
      ],
      "execution_count": null,
      "outputs": [
        {
          "output_type": "stream",
          "text": [
            "/usr/local/lib/python3.6/dist-packages/sklearn/preprocessing/_label.py:235: DataConversionWarning: A column-vector y was passed when a 1d array was expected. Please change the shape of y to (n_samples, ), for example using ravel().\n",
            "  y = column_or_1d(y, warn=True)\n",
            "/usr/local/lib/python3.6/dist-packages/sklearn/preprocessing/_label.py:268: DataConversionWarning: A column-vector y was passed when a 1d array was expected. Please change the shape of y to (n_samples, ), for example using ravel().\n",
            "  y = column_or_1d(y, warn=True)\n"
          ],
          "name": "stderr"
        },
        {
          "output_type": "execute_result",
          "data": {
            "text/html": [
              "<div>\n",
              "<style scoped>\n",
              "    .dataframe tbody tr th:only-of-type {\n",
              "        vertical-align: middle;\n",
              "    }\n",
              "\n",
              "    .dataframe tbody tr th {\n",
              "        vertical-align: top;\n",
              "    }\n",
              "\n",
              "    .dataframe thead th {\n",
              "        text-align: right;\n",
              "    }\n",
              "</style>\n",
              "<table border=\"1\" class=\"dataframe\">\n",
              "  <thead>\n",
              "    <tr style=\"text-align: right;\">\n",
              "      <th></th>\n",
              "      <th>additional_fare</th>\n",
              "      <th>duration</th>\n",
              "      <th>meter_waiting</th>\n",
              "      <th>meter_waiting_fare</th>\n",
              "      <th>meter_waiting_till_pickup</th>\n",
              "      <th>pick_lat</th>\n",
              "      <th>pick_lon</th>\n",
              "      <th>drop_lat</th>\n",
              "      <th>drop_lon</th>\n",
              "      <th>fare</th>\n",
              "      <th>pickup_time_year</th>\n",
              "      <th>pickup_time_month</th>\n",
              "      <th>pickup_time_day</th>\n",
              "      <th>pickup_time_hour</th>\n",
              "      <th>pickup_time_minute</th>\n",
              "      <th>drop_time_year</th>\n",
              "      <th>drop_time_month</th>\n",
              "      <th>drop_time_day</th>\n",
              "      <th>drop_time_hour</th>\n",
              "      <th>drop_time_minute</th>\n",
              "      <th>day_of_week</th>\n",
              "      <th>duration_calculated</th>\n",
              "      <th>distance</th>\n",
              "      <th>distance_X</th>\n",
              "      <th>distance_Y</th>\n",
              "      <th>pick_X</th>\n",
              "      <th>pick_Y</th>\n",
              "      <th>drop_X</th>\n",
              "      <th>drop_Y</th>\n",
              "      <th>pick_hour_sin</th>\n",
              "      <th>drop_hour_sin</th>\n",
              "      <th>pick_hour_cos</th>\n",
              "      <th>drop_hour_cos</th>\n",
              "      <th>total_fare</th>\n",
              "      <th>total_additional_fare</th>\n",
              "      <th>total_waiting_time</th>\n",
              "      <th>total_time</th>\n",
              "      <th>waiting_factor</th>\n",
              "    </tr>\n",
              "  </thead>\n",
              "  <tbody>\n",
              "    <tr>\n",
              "      <th>0</th>\n",
              "      <td>10.5</td>\n",
              "      <td>834.0</td>\n",
              "      <td>56.0</td>\n",
              "      <td>0.0000</td>\n",
              "      <td>64.0</td>\n",
              "      <td>6.86252</td>\n",
              "      <td>79.8993</td>\n",
              "      <td>6.90330</td>\n",
              "      <td>79.8783</td>\n",
              "      <td>270.32</td>\n",
              "      <td>2019</td>\n",
              "      <td>11</td>\n",
              "      <td>1</td>\n",
              "      <td>0</td>\n",
              "      <td>20</td>\n",
              "      <td>2019</td>\n",
              "      <td>11</td>\n",
              "      <td>1</td>\n",
              "      <td>0</td>\n",
              "      <td>34</td>\n",
              "      <td>0.0</td>\n",
              "      <td>840</td>\n",
              "      <td>0.022663</td>\n",
              "      <td>-0.04078</td>\n",
              "      <td>0.0210</td>\n",
              "      <td>-0.175519</td>\n",
              "      <td>-0.818213</td>\n",
              "      <td>-0.187363</td>\n",
              "      <td>-0.791950</td>\n",
              "      <td>0.000000</td>\n",
              "      <td>0.000000</td>\n",
              "      <td>1.000000</td>\n",
              "      <td>1.000000</td>\n",
              "      <td>280.8200</td>\n",
              "      <td>10.5000</td>\n",
              "      <td>120.0</td>\n",
              "      <td>954.0</td>\n",
              "      <td>-0.249539</td>\n",
              "    </tr>\n",
              "    <tr>\n",
              "      <th>1</th>\n",
              "      <td>10.5</td>\n",
              "      <td>791.0</td>\n",
              "      <td>47.0</td>\n",
              "      <td>0.0000</td>\n",
              "      <td>134.0</td>\n",
              "      <td>6.88589</td>\n",
              "      <td>79.8984</td>\n",
              "      <td>6.91373</td>\n",
              "      <td>79.8923</td>\n",
              "      <td>197.85</td>\n",
              "      <td>2019</td>\n",
              "      <td>11</td>\n",
              "      <td>1</td>\n",
              "      <td>0</td>\n",
              "      <td>56</td>\n",
              "      <td>2019</td>\n",
              "      <td>11</td>\n",
              "      <td>1</td>\n",
              "      <td>1</td>\n",
              "      <td>9</td>\n",
              "      <td>0.0</td>\n",
              "      <td>780</td>\n",
              "      <td>0.006875</td>\n",
              "      <td>-0.02784</td>\n",
              "      <td>0.0061</td>\n",
              "      <td>-0.173513</td>\n",
              "      <td>-0.805325</td>\n",
              "      <td>-0.174935</td>\n",
              "      <td>-0.788535</td>\n",
              "      <td>0.000000</td>\n",
              "      <td>0.052336</td>\n",
              "      <td>1.000000</td>\n",
              "      <td>0.998630</td>\n",
              "      <td>208.3500</td>\n",
              "      <td>10.5000</td>\n",
              "      <td>181.0</td>\n",
              "      <td>972.0</td>\n",
              "      <td>-0.092330</td>\n",
              "    </tr>\n",
              "    <tr>\n",
              "      <th>2</th>\n",
              "      <td>10.5</td>\n",
              "      <td>1087.0</td>\n",
              "      <td>80.0</td>\n",
              "      <td>0.0000</td>\n",
              "      <td>61.0</td>\n",
              "      <td>6.90839</td>\n",
              "      <td>79.8651</td>\n",
              "      <td>6.93669</td>\n",
              "      <td>79.9146</td>\n",
              "      <td>301.64</td>\n",
              "      <td>2019</td>\n",
              "      <td>11</td>\n",
              "      <td>1</td>\n",
              "      <td>1</td>\n",
              "      <td>8</td>\n",
              "      <td>2019</td>\n",
              "      <td>11</td>\n",
              "      <td>1</td>\n",
              "      <td>1</td>\n",
              "      <td>26</td>\n",
              "      <td>0.0</td>\n",
              "      <td>1080</td>\n",
              "      <td>0.050301</td>\n",
              "      <td>-0.02830</td>\n",
              "      <td>-0.0495</td>\n",
              "      <td>-0.197078</td>\n",
              "      <td>-0.786528</td>\n",
              "      <td>-0.154631</td>\n",
              "      <td>-0.778754</td>\n",
              "      <td>0.052336</td>\n",
              "      <td>0.052336</td>\n",
              "      <td>0.998630</td>\n",
              "      <td>0.998630</td>\n",
              "      <td>312.1400</td>\n",
              "      <td>10.5000</td>\n",
              "      <td>141.0</td>\n",
              "      <td>1228.0</td>\n",
              "      <td>-0.253348</td>\n",
              "    </tr>\n",
              "    <tr>\n",
              "      <th>3</th>\n",
              "      <td>10.5</td>\n",
              "      <td>598.0</td>\n",
              "      <td>271.0</td>\n",
              "      <td>15.6638</td>\n",
              "      <td>68.0</td>\n",
              "      <td>6.92570</td>\n",
              "      <td>79.8895</td>\n",
              "      <td>6.92748</td>\n",
              "      <td>79.8971</td>\n",
              "      <td>82.30</td>\n",
              "      <td>2019</td>\n",
              "      <td>11</td>\n",
              "      <td>1</td>\n",
              "      <td>2</td>\n",
              "      <td>27</td>\n",
              "      <td>2019</td>\n",
              "      <td>11</td>\n",
              "      <td>1</td>\n",
              "      <td>2</td>\n",
              "      <td>37</td>\n",
              "      <td>0.0</td>\n",
              "      <td>600</td>\n",
              "      <td>0.007603</td>\n",
              "      <td>-0.00178</td>\n",
              "      <td>-0.0076</td>\n",
              "      <td>-0.175582</td>\n",
              "      <td>-0.781100</td>\n",
              "      <td>-0.169414</td>\n",
              "      <td>-0.781369</td>\n",
              "      <td>0.104528</td>\n",
              "      <td>0.104528</td>\n",
              "      <td>0.994522</td>\n",
              "      <td>0.994522</td>\n",
              "      <td>108.4638</td>\n",
              "      <td>26.1638</td>\n",
              "      <td>339.0</td>\n",
              "      <td>937.0</td>\n",
              "      <td>-0.180187</td>\n",
              "    </tr>\n",
              "    <tr>\n",
              "      <th>5</th>\n",
              "      <td>10.5</td>\n",
              "      <td>3407.0</td>\n",
              "      <td>182.0</td>\n",
              "      <td>0.0000</td>\n",
              "      <td>112.0</td>\n",
              "      <td>7.13402</td>\n",
              "      <td>79.8969</td>\n",
              "      <td>6.91865</td>\n",
              "      <td>79.8649</td>\n",
              "      <td>1065.02</td>\n",
              "      <td>2019</td>\n",
              "      <td>11</td>\n",
              "      <td>1</td>\n",
              "      <td>5</td>\n",
              "      <td>38</td>\n",
              "      <td>2019</td>\n",
              "      <td>11</td>\n",
              "      <td>1</td>\n",
              "      <td>6</td>\n",
              "      <td>35</td>\n",
              "      <td>0.0</td>\n",
              "      <td>3420</td>\n",
              "      <td>0.078384</td>\n",
              "      <td>0.21537</td>\n",
              "      <td>0.0320</td>\n",
              "      <td>-0.139842</td>\n",
              "      <td>-0.644356</td>\n",
              "      <td>-0.195765</td>\n",
              "      <td>-0.780623</td>\n",
              "      <td>0.258819</td>\n",
              "      <td>0.309017</td>\n",
              "      <td>0.965926</td>\n",
              "      <td>0.951057</td>\n",
              "      <td>1075.5200</td>\n",
              "      <td>10.5000</td>\n",
              "      <td>294.0</td>\n",
              "      <td>3701.0</td>\n",
              "      <td>-0.125349</td>\n",
              "    </tr>\n",
              "  </tbody>\n",
              "</table>\n",
              "</div>"
            ],
            "text/plain": [
              "   additional_fare  duration  ...  total_time  waiting_factor\n",
              "0             10.5     834.0  ...       954.0       -0.249539\n",
              "1             10.5     791.0  ...       972.0       -0.092330\n",
              "2             10.5    1087.0  ...      1228.0       -0.253348\n",
              "3             10.5     598.0  ...       937.0       -0.180187\n",
              "5             10.5    3407.0  ...      3701.0       -0.125349\n",
              "\n",
              "[5 rows x 38 columns]"
            ]
          },
          "metadata": {
            "tags": []
          },
          "execution_count": 46
        }
      ]
    },
    {
      "cell_type": "code",
      "metadata": {
        "id": "_uhfnPStqVX2",
        "colab_type": "code",
        "colab": {
          "base_uri": "https://localhost:8080/",
          "height": 226
        },
        "outputId": "cb97d74e-498a-44d1-ff38-4e32d18efc8c"
      },
      "source": [
        "from sklearn.impute import SimpleImputer\n",
        "\n",
        "cleaned_train_set.duration.fillna(cleaned_train_set.duration_calculated, inplace=True)\n",
        "cleaned_train_set.head()\n",
        "\n",
        "imp_mean = SimpleImputer(missing_values=np.nan, strategy='median')\n",
        "dframe = imp_mean.fit_transform(cleaned_train_set)\n",
        "k = cleaned_train_set.keys()\n",
        "imputed_train_set = cleaned_train_set\n",
        "imputed_train_set[k] = dframe\n",
        "imputed_train_set.head()"
      ],
      "execution_count": null,
      "outputs": [
        {
          "output_type": "execute_result",
          "data": {
            "text/html": [
              "<div>\n",
              "<style scoped>\n",
              "    .dataframe tbody tr th:only-of-type {\n",
              "        vertical-align: middle;\n",
              "    }\n",
              "\n",
              "    .dataframe tbody tr th {\n",
              "        vertical-align: top;\n",
              "    }\n",
              "\n",
              "    .dataframe thead th {\n",
              "        text-align: right;\n",
              "    }\n",
              "</style>\n",
              "<table border=\"1\" class=\"dataframe\">\n",
              "  <thead>\n",
              "    <tr style=\"text-align: right;\">\n",
              "      <th></th>\n",
              "      <th>additional_fare</th>\n",
              "      <th>duration</th>\n",
              "      <th>meter_waiting</th>\n",
              "      <th>meter_waiting_fare</th>\n",
              "      <th>meter_waiting_till_pickup</th>\n",
              "      <th>pick_lat</th>\n",
              "      <th>pick_lon</th>\n",
              "      <th>drop_lat</th>\n",
              "      <th>drop_lon</th>\n",
              "      <th>fare</th>\n",
              "      <th>pickup_time_year</th>\n",
              "      <th>pickup_time_month</th>\n",
              "      <th>pickup_time_day</th>\n",
              "      <th>pickup_time_hour</th>\n",
              "      <th>pickup_time_minute</th>\n",
              "      <th>drop_time_year</th>\n",
              "      <th>drop_time_month</th>\n",
              "      <th>drop_time_day</th>\n",
              "      <th>drop_time_hour</th>\n",
              "      <th>drop_time_minute</th>\n",
              "      <th>day_of_week</th>\n",
              "      <th>duration_calculated</th>\n",
              "      <th>distance</th>\n",
              "      <th>distance_X</th>\n",
              "      <th>distance_Y</th>\n",
              "      <th>pick_X</th>\n",
              "      <th>pick_Y</th>\n",
              "      <th>drop_X</th>\n",
              "      <th>drop_Y</th>\n",
              "      <th>pick_hour_sin</th>\n",
              "      <th>drop_hour_sin</th>\n",
              "      <th>pick_hour_cos</th>\n",
              "      <th>drop_hour_cos</th>\n",
              "      <th>total_fare</th>\n",
              "      <th>total_additional_fare</th>\n",
              "      <th>total_waiting_time</th>\n",
              "      <th>total_time</th>\n",
              "      <th>waiting_factor</th>\n",
              "    </tr>\n",
              "  </thead>\n",
              "  <tbody>\n",
              "    <tr>\n",
              "      <th>0</th>\n",
              "      <td>10.5</td>\n",
              "      <td>834.0</td>\n",
              "      <td>56.0</td>\n",
              "      <td>0.0000</td>\n",
              "      <td>64.0</td>\n",
              "      <td>6.86252</td>\n",
              "      <td>79.8993</td>\n",
              "      <td>6.90330</td>\n",
              "      <td>79.8783</td>\n",
              "      <td>270.32</td>\n",
              "      <td>2019.0</td>\n",
              "      <td>11.0</td>\n",
              "      <td>1.0</td>\n",
              "      <td>0.0</td>\n",
              "      <td>20.0</td>\n",
              "      <td>2019.0</td>\n",
              "      <td>11.0</td>\n",
              "      <td>1.0</td>\n",
              "      <td>0.0</td>\n",
              "      <td>34.0</td>\n",
              "      <td>0.0</td>\n",
              "      <td>840.0</td>\n",
              "      <td>0.022663</td>\n",
              "      <td>-0.04078</td>\n",
              "      <td>0.0210</td>\n",
              "      <td>-0.175519</td>\n",
              "      <td>-0.818213</td>\n",
              "      <td>-0.187363</td>\n",
              "      <td>-0.791950</td>\n",
              "      <td>0.000000</td>\n",
              "      <td>0.000000</td>\n",
              "      <td>1.000000</td>\n",
              "      <td>1.000000</td>\n",
              "      <td>280.8200</td>\n",
              "      <td>10.5000</td>\n",
              "      <td>120.0</td>\n",
              "      <td>954.0</td>\n",
              "      <td>-0.249539</td>\n",
              "    </tr>\n",
              "    <tr>\n",
              "      <th>1</th>\n",
              "      <td>10.5</td>\n",
              "      <td>791.0</td>\n",
              "      <td>47.0</td>\n",
              "      <td>0.0000</td>\n",
              "      <td>134.0</td>\n",
              "      <td>6.88589</td>\n",
              "      <td>79.8984</td>\n",
              "      <td>6.91373</td>\n",
              "      <td>79.8923</td>\n",
              "      <td>197.85</td>\n",
              "      <td>2019.0</td>\n",
              "      <td>11.0</td>\n",
              "      <td>1.0</td>\n",
              "      <td>0.0</td>\n",
              "      <td>56.0</td>\n",
              "      <td>2019.0</td>\n",
              "      <td>11.0</td>\n",
              "      <td>1.0</td>\n",
              "      <td>1.0</td>\n",
              "      <td>9.0</td>\n",
              "      <td>0.0</td>\n",
              "      <td>780.0</td>\n",
              "      <td>0.006875</td>\n",
              "      <td>-0.02784</td>\n",
              "      <td>0.0061</td>\n",
              "      <td>-0.173513</td>\n",
              "      <td>-0.805325</td>\n",
              "      <td>-0.174935</td>\n",
              "      <td>-0.788535</td>\n",
              "      <td>0.000000</td>\n",
              "      <td>0.052336</td>\n",
              "      <td>1.000000</td>\n",
              "      <td>0.998630</td>\n",
              "      <td>208.3500</td>\n",
              "      <td>10.5000</td>\n",
              "      <td>181.0</td>\n",
              "      <td>972.0</td>\n",
              "      <td>-0.092330</td>\n",
              "    </tr>\n",
              "    <tr>\n",
              "      <th>2</th>\n",
              "      <td>10.5</td>\n",
              "      <td>1087.0</td>\n",
              "      <td>80.0</td>\n",
              "      <td>0.0000</td>\n",
              "      <td>61.0</td>\n",
              "      <td>6.90839</td>\n",
              "      <td>79.8651</td>\n",
              "      <td>6.93669</td>\n",
              "      <td>79.9146</td>\n",
              "      <td>301.64</td>\n",
              "      <td>2019.0</td>\n",
              "      <td>11.0</td>\n",
              "      <td>1.0</td>\n",
              "      <td>1.0</td>\n",
              "      <td>8.0</td>\n",
              "      <td>2019.0</td>\n",
              "      <td>11.0</td>\n",
              "      <td>1.0</td>\n",
              "      <td>1.0</td>\n",
              "      <td>26.0</td>\n",
              "      <td>0.0</td>\n",
              "      <td>1080.0</td>\n",
              "      <td>0.050301</td>\n",
              "      <td>-0.02830</td>\n",
              "      <td>-0.0495</td>\n",
              "      <td>-0.197078</td>\n",
              "      <td>-0.786528</td>\n",
              "      <td>-0.154631</td>\n",
              "      <td>-0.778754</td>\n",
              "      <td>0.052336</td>\n",
              "      <td>0.052336</td>\n",
              "      <td>0.998630</td>\n",
              "      <td>0.998630</td>\n",
              "      <td>312.1400</td>\n",
              "      <td>10.5000</td>\n",
              "      <td>141.0</td>\n",
              "      <td>1228.0</td>\n",
              "      <td>-0.253348</td>\n",
              "    </tr>\n",
              "    <tr>\n",
              "      <th>3</th>\n",
              "      <td>10.5</td>\n",
              "      <td>598.0</td>\n",
              "      <td>271.0</td>\n",
              "      <td>15.6638</td>\n",
              "      <td>68.0</td>\n",
              "      <td>6.92570</td>\n",
              "      <td>79.8895</td>\n",
              "      <td>6.92748</td>\n",
              "      <td>79.8971</td>\n",
              "      <td>82.30</td>\n",
              "      <td>2019.0</td>\n",
              "      <td>11.0</td>\n",
              "      <td>1.0</td>\n",
              "      <td>2.0</td>\n",
              "      <td>27.0</td>\n",
              "      <td>2019.0</td>\n",
              "      <td>11.0</td>\n",
              "      <td>1.0</td>\n",
              "      <td>2.0</td>\n",
              "      <td>37.0</td>\n",
              "      <td>0.0</td>\n",
              "      <td>600.0</td>\n",
              "      <td>0.007603</td>\n",
              "      <td>-0.00178</td>\n",
              "      <td>-0.0076</td>\n",
              "      <td>-0.175582</td>\n",
              "      <td>-0.781100</td>\n",
              "      <td>-0.169414</td>\n",
              "      <td>-0.781369</td>\n",
              "      <td>0.104528</td>\n",
              "      <td>0.104528</td>\n",
              "      <td>0.994522</td>\n",
              "      <td>0.994522</td>\n",
              "      <td>108.4638</td>\n",
              "      <td>26.1638</td>\n",
              "      <td>339.0</td>\n",
              "      <td>937.0</td>\n",
              "      <td>-0.180187</td>\n",
              "    </tr>\n",
              "    <tr>\n",
              "      <th>5</th>\n",
              "      <td>10.5</td>\n",
              "      <td>3407.0</td>\n",
              "      <td>182.0</td>\n",
              "      <td>0.0000</td>\n",
              "      <td>112.0</td>\n",
              "      <td>7.13402</td>\n",
              "      <td>79.8969</td>\n",
              "      <td>6.91865</td>\n",
              "      <td>79.8649</td>\n",
              "      <td>1065.02</td>\n",
              "      <td>2019.0</td>\n",
              "      <td>11.0</td>\n",
              "      <td>1.0</td>\n",
              "      <td>5.0</td>\n",
              "      <td>38.0</td>\n",
              "      <td>2019.0</td>\n",
              "      <td>11.0</td>\n",
              "      <td>1.0</td>\n",
              "      <td>6.0</td>\n",
              "      <td>35.0</td>\n",
              "      <td>0.0</td>\n",
              "      <td>3420.0</td>\n",
              "      <td>0.078384</td>\n",
              "      <td>0.21537</td>\n",
              "      <td>0.0320</td>\n",
              "      <td>-0.139842</td>\n",
              "      <td>-0.644356</td>\n",
              "      <td>-0.195765</td>\n",
              "      <td>-0.780623</td>\n",
              "      <td>0.258819</td>\n",
              "      <td>0.309017</td>\n",
              "      <td>0.965926</td>\n",
              "      <td>0.951057</td>\n",
              "      <td>1075.5200</td>\n",
              "      <td>10.5000</td>\n",
              "      <td>294.0</td>\n",
              "      <td>3701.0</td>\n",
              "      <td>-0.125349</td>\n",
              "    </tr>\n",
              "  </tbody>\n",
              "</table>\n",
              "</div>"
            ],
            "text/plain": [
              "   additional_fare  duration  ...  total_time  waiting_factor\n",
              "0             10.5     834.0  ...       954.0       -0.249539\n",
              "1             10.5     791.0  ...       972.0       -0.092330\n",
              "2             10.5    1087.0  ...      1228.0       -0.253348\n",
              "3             10.5     598.0  ...       937.0       -0.180187\n",
              "5             10.5    3407.0  ...      3701.0       -0.125349\n",
              "\n",
              "[5 rows x 38 columns]"
            ]
          },
          "metadata": {
            "tags": []
          },
          "execution_count": 47
        }
      ]
    },
    {
      "cell_type": "code",
      "metadata": {
        "id": "iLi6Uq8QPfKj",
        "colab_type": "code",
        "colab": {}
      },
      "source": [
        "def set_fare_duration(imputed_train_set):\n",
        "  df = imputed_train_set\n",
        "\n",
        "  df['total_fare'] = ((df['fare']-df['fare'].mean())/df['fare'].std() +\n",
        "                      (df['additional_fare']-df['additional_fare'].mean())/df['additional_fare'].std()+ \n",
        "                      (df['meter_waiting_fare']-df['meter_waiting_fare'].mean())/df['meter_waiting_fare'].std())\n",
        "\n",
        "  df['total_fare'] =  df['fare'] + df['additional_fare'] + df['meter_waiting_fare']\n",
        "  df['total_additional_fare'] = df['additional_fare'] + df['meter_waiting_fare']\n",
        "  df['total_waiting_time'] = df['meter_waiting'] + df['meter_waiting_till_pickup']\n",
        "  df['total_time'] = df['total_waiting_time'] + df['duration']\n",
        "\n",
        "  df['waiting_factor'] = ((df['meter_waiting']-df['meter_waiting'].mean())/df['meter_waiting'].std() +\n",
        "                      (df['meter_waiting_fare']-df['meter_waiting_fare'].mean())/df['meter_waiting_fare'].std()+ \n",
        "                      (df['meter_waiting_till_pickup']-df['meter_waiting_till_pickup'].mean())/df['meter_waiting_till_pickup'].std())\n",
        "\n",
        "  return df"
      ],
      "execution_count": null,
      "outputs": []
    },
    {
      "cell_type": "code",
      "metadata": {
        "id": "rwQ76NVHikjc",
        "colab_type": "code",
        "colab": {}
      },
      "source": [
        "from sklearn.cluster import KMeans\n",
        "\n",
        "def classes_fare_duration(imputed_train_set):\n",
        "  tt = imputed_train_set\n",
        "  tt['duration_type'] = 0\n",
        "  tt['fare_type'] = 0\n",
        "\n",
        "  d0_index = tt[(tt['duration'] <= 500) ].index\n",
        "  tt.loc[d0_index,'duration_type']=0\n",
        "\n",
        "  d1_index = tt[(tt['duration'] > 500) & (tt['duration'] <= 1000) ].index\n",
        "  tt.loc[d1_index,'duration_type']=1\n",
        "\n",
        "  d2_index = tt[(tt['duration'] > 1000)].index\n",
        "  tt.loc[d2_index,'duration_type']=2\n",
        "\n",
        "  d0_index = tt[(tt['fare'] <= 100) ].index\n",
        "  tt.loc[d0_index,'fare_type']=0\n",
        "\n",
        "  d1_index = tt[(tt['fare'] > 100) & (tt['fare'] <= 800) ].index\n",
        "  tt.loc[d1_index,'fare_type']=1\n",
        "\n",
        "  d2_index = tt[(tt['fare'] > 1000)].index\n",
        "  tt.loc[d2_index,'fare_type']=2\n",
        "\n",
        "  imputed_train_set = tt"
      ],
      "execution_count": null,
      "outputs": []
    },
    {
      "cell_type": "code",
      "metadata": {
        "id": "SVUkR2RQlemX",
        "colab_type": "code",
        "colab": {
          "base_uri": "https://localhost:8080/",
          "height": 226
        },
        "outputId": "3abd7e5f-41c8-4e3b-a35d-2d0ea89db87a"
      },
      "source": [
        "imputed_train_set.head()"
      ],
      "execution_count": null,
      "outputs": [
        {
          "output_type": "execute_result",
          "data": {
            "text/html": [
              "<div>\n",
              "<style scoped>\n",
              "    .dataframe tbody tr th:only-of-type {\n",
              "        vertical-align: middle;\n",
              "    }\n",
              "\n",
              "    .dataframe tbody tr th {\n",
              "        vertical-align: top;\n",
              "    }\n",
              "\n",
              "    .dataframe thead th {\n",
              "        text-align: right;\n",
              "    }\n",
              "</style>\n",
              "<table border=\"1\" class=\"dataframe\">\n",
              "  <thead>\n",
              "    <tr style=\"text-align: right;\">\n",
              "      <th></th>\n",
              "      <th>additional_fare</th>\n",
              "      <th>duration</th>\n",
              "      <th>meter_waiting</th>\n",
              "      <th>meter_waiting_fare</th>\n",
              "      <th>meter_waiting_till_pickup</th>\n",
              "      <th>pick_lat</th>\n",
              "      <th>pick_lon</th>\n",
              "      <th>drop_lat</th>\n",
              "      <th>drop_lon</th>\n",
              "      <th>fare</th>\n",
              "      <th>pickup_time_year</th>\n",
              "      <th>pickup_time_month</th>\n",
              "      <th>pickup_time_day</th>\n",
              "      <th>pickup_time_hour</th>\n",
              "      <th>pickup_time_minute</th>\n",
              "      <th>drop_time_year</th>\n",
              "      <th>drop_time_month</th>\n",
              "      <th>drop_time_day</th>\n",
              "      <th>drop_time_hour</th>\n",
              "      <th>drop_time_minute</th>\n",
              "      <th>day_of_week</th>\n",
              "      <th>duration_calculated</th>\n",
              "      <th>distance</th>\n",
              "      <th>distance_X</th>\n",
              "      <th>distance_Y</th>\n",
              "      <th>pick_X</th>\n",
              "      <th>pick_Y</th>\n",
              "      <th>drop_X</th>\n",
              "      <th>drop_Y</th>\n",
              "      <th>pick_hour_sin</th>\n",
              "      <th>drop_hour_sin</th>\n",
              "      <th>pick_hour_cos</th>\n",
              "      <th>drop_hour_cos</th>\n",
              "      <th>total_fare</th>\n",
              "      <th>total_additional_fare</th>\n",
              "      <th>total_waiting_time</th>\n",
              "      <th>total_time</th>\n",
              "      <th>waiting_factor</th>\n",
              "    </tr>\n",
              "  </thead>\n",
              "  <tbody>\n",
              "    <tr>\n",
              "      <th>0</th>\n",
              "      <td>10.5</td>\n",
              "      <td>834.0</td>\n",
              "      <td>56.0</td>\n",
              "      <td>0.0000</td>\n",
              "      <td>64.0</td>\n",
              "      <td>6.86252</td>\n",
              "      <td>79.8993</td>\n",
              "      <td>6.90330</td>\n",
              "      <td>79.8783</td>\n",
              "      <td>270.32</td>\n",
              "      <td>2019.0</td>\n",
              "      <td>11.0</td>\n",
              "      <td>1.0</td>\n",
              "      <td>0.0</td>\n",
              "      <td>20.0</td>\n",
              "      <td>2019.0</td>\n",
              "      <td>11.0</td>\n",
              "      <td>1.0</td>\n",
              "      <td>0.0</td>\n",
              "      <td>34.0</td>\n",
              "      <td>0.0</td>\n",
              "      <td>840.0</td>\n",
              "      <td>0.022663</td>\n",
              "      <td>-0.04078</td>\n",
              "      <td>0.0210</td>\n",
              "      <td>-0.175519</td>\n",
              "      <td>-0.818213</td>\n",
              "      <td>-0.187363</td>\n",
              "      <td>-0.791950</td>\n",
              "      <td>0.000000</td>\n",
              "      <td>0.000000</td>\n",
              "      <td>1.000000</td>\n",
              "      <td>1.000000</td>\n",
              "      <td>280.8200</td>\n",
              "      <td>10.5000</td>\n",
              "      <td>120.0</td>\n",
              "      <td>954.0</td>\n",
              "      <td>-0.249539</td>\n",
              "    </tr>\n",
              "    <tr>\n",
              "      <th>1</th>\n",
              "      <td>10.5</td>\n",
              "      <td>791.0</td>\n",
              "      <td>47.0</td>\n",
              "      <td>0.0000</td>\n",
              "      <td>134.0</td>\n",
              "      <td>6.88589</td>\n",
              "      <td>79.8984</td>\n",
              "      <td>6.91373</td>\n",
              "      <td>79.8923</td>\n",
              "      <td>197.85</td>\n",
              "      <td>2019.0</td>\n",
              "      <td>11.0</td>\n",
              "      <td>1.0</td>\n",
              "      <td>0.0</td>\n",
              "      <td>56.0</td>\n",
              "      <td>2019.0</td>\n",
              "      <td>11.0</td>\n",
              "      <td>1.0</td>\n",
              "      <td>1.0</td>\n",
              "      <td>9.0</td>\n",
              "      <td>0.0</td>\n",
              "      <td>780.0</td>\n",
              "      <td>0.006875</td>\n",
              "      <td>-0.02784</td>\n",
              "      <td>0.0061</td>\n",
              "      <td>-0.173513</td>\n",
              "      <td>-0.805325</td>\n",
              "      <td>-0.174935</td>\n",
              "      <td>-0.788535</td>\n",
              "      <td>0.000000</td>\n",
              "      <td>0.052336</td>\n",
              "      <td>1.000000</td>\n",
              "      <td>0.998630</td>\n",
              "      <td>208.3500</td>\n",
              "      <td>10.5000</td>\n",
              "      <td>181.0</td>\n",
              "      <td>972.0</td>\n",
              "      <td>-0.092330</td>\n",
              "    </tr>\n",
              "    <tr>\n",
              "      <th>2</th>\n",
              "      <td>10.5</td>\n",
              "      <td>1087.0</td>\n",
              "      <td>80.0</td>\n",
              "      <td>0.0000</td>\n",
              "      <td>61.0</td>\n",
              "      <td>6.90839</td>\n",
              "      <td>79.8651</td>\n",
              "      <td>6.93669</td>\n",
              "      <td>79.9146</td>\n",
              "      <td>301.64</td>\n",
              "      <td>2019.0</td>\n",
              "      <td>11.0</td>\n",
              "      <td>1.0</td>\n",
              "      <td>1.0</td>\n",
              "      <td>8.0</td>\n",
              "      <td>2019.0</td>\n",
              "      <td>11.0</td>\n",
              "      <td>1.0</td>\n",
              "      <td>1.0</td>\n",
              "      <td>26.0</td>\n",
              "      <td>0.0</td>\n",
              "      <td>1080.0</td>\n",
              "      <td>0.050301</td>\n",
              "      <td>-0.02830</td>\n",
              "      <td>-0.0495</td>\n",
              "      <td>-0.197078</td>\n",
              "      <td>-0.786528</td>\n",
              "      <td>-0.154631</td>\n",
              "      <td>-0.778754</td>\n",
              "      <td>0.052336</td>\n",
              "      <td>0.052336</td>\n",
              "      <td>0.998630</td>\n",
              "      <td>0.998630</td>\n",
              "      <td>312.1400</td>\n",
              "      <td>10.5000</td>\n",
              "      <td>141.0</td>\n",
              "      <td>1228.0</td>\n",
              "      <td>-0.253348</td>\n",
              "    </tr>\n",
              "    <tr>\n",
              "      <th>3</th>\n",
              "      <td>10.5</td>\n",
              "      <td>598.0</td>\n",
              "      <td>271.0</td>\n",
              "      <td>15.6638</td>\n",
              "      <td>68.0</td>\n",
              "      <td>6.92570</td>\n",
              "      <td>79.8895</td>\n",
              "      <td>6.92748</td>\n",
              "      <td>79.8971</td>\n",
              "      <td>82.30</td>\n",
              "      <td>2019.0</td>\n",
              "      <td>11.0</td>\n",
              "      <td>1.0</td>\n",
              "      <td>2.0</td>\n",
              "      <td>27.0</td>\n",
              "      <td>2019.0</td>\n",
              "      <td>11.0</td>\n",
              "      <td>1.0</td>\n",
              "      <td>2.0</td>\n",
              "      <td>37.0</td>\n",
              "      <td>0.0</td>\n",
              "      <td>600.0</td>\n",
              "      <td>0.007603</td>\n",
              "      <td>-0.00178</td>\n",
              "      <td>-0.0076</td>\n",
              "      <td>-0.175582</td>\n",
              "      <td>-0.781100</td>\n",
              "      <td>-0.169414</td>\n",
              "      <td>-0.781369</td>\n",
              "      <td>0.104528</td>\n",
              "      <td>0.104528</td>\n",
              "      <td>0.994522</td>\n",
              "      <td>0.994522</td>\n",
              "      <td>108.4638</td>\n",
              "      <td>26.1638</td>\n",
              "      <td>339.0</td>\n",
              "      <td>937.0</td>\n",
              "      <td>-0.180187</td>\n",
              "    </tr>\n",
              "    <tr>\n",
              "      <th>5</th>\n",
              "      <td>10.5</td>\n",
              "      <td>3407.0</td>\n",
              "      <td>182.0</td>\n",
              "      <td>0.0000</td>\n",
              "      <td>112.0</td>\n",
              "      <td>7.13402</td>\n",
              "      <td>79.8969</td>\n",
              "      <td>6.91865</td>\n",
              "      <td>79.8649</td>\n",
              "      <td>1065.02</td>\n",
              "      <td>2019.0</td>\n",
              "      <td>11.0</td>\n",
              "      <td>1.0</td>\n",
              "      <td>5.0</td>\n",
              "      <td>38.0</td>\n",
              "      <td>2019.0</td>\n",
              "      <td>11.0</td>\n",
              "      <td>1.0</td>\n",
              "      <td>6.0</td>\n",
              "      <td>35.0</td>\n",
              "      <td>0.0</td>\n",
              "      <td>3420.0</td>\n",
              "      <td>0.078384</td>\n",
              "      <td>0.21537</td>\n",
              "      <td>0.0320</td>\n",
              "      <td>-0.139842</td>\n",
              "      <td>-0.644356</td>\n",
              "      <td>-0.195765</td>\n",
              "      <td>-0.780623</td>\n",
              "      <td>0.258819</td>\n",
              "      <td>0.309017</td>\n",
              "      <td>0.965926</td>\n",
              "      <td>0.951057</td>\n",
              "      <td>1075.5200</td>\n",
              "      <td>10.5000</td>\n",
              "      <td>294.0</td>\n",
              "      <td>3701.0</td>\n",
              "      <td>-0.125349</td>\n",
              "    </tr>\n",
              "  </tbody>\n",
              "</table>\n",
              "</div>"
            ],
            "text/plain": [
              "   additional_fare  duration  ...  total_time  waiting_factor\n",
              "0             10.5     834.0  ...       954.0       -0.249539\n",
              "1             10.5     791.0  ...       972.0       -0.092330\n",
              "2             10.5    1087.0  ...      1228.0       -0.253348\n",
              "3             10.5     598.0  ...       937.0       -0.180187\n",
              "5             10.5    3407.0  ...      3701.0       -0.125349\n",
              "\n",
              "[5 rows x 38 columns]"
            ]
          },
          "metadata": {
            "tags": []
          },
          "execution_count": 119
        }
      ]
    },
    {
      "cell_type": "code",
      "metadata": {
        "id": "4jd0tdno-ftT",
        "colab_type": "code",
        "colab": {}
      },
      "source": [
        "numeric_cols = ['meter_waiting','meter_waiting_fare','meter_waiting_till_pickup',\n",
        "               'additional_fare','duration','pick_lat','pick_lon','drop_lat','drop_lon',\n",
        "               'fare','pickup_time_day','pickup_time_hour','pickup_time_minute']\n",
        "\n",
        "numeric_cols = ['meter_waiting','meter_waiting_fare','meter_waiting_till_pickup',\n",
        "               'additional_fare','duration','fare','distance',\n",
        "                'distance_X', 'distance_Y']\n",
        "categorical_cols = ['pickup_time_hour',]\n",
        "\n"
      ],
      "execution_count": null,
      "outputs": []
    },
    {
      "cell_type": "code",
      "metadata": {
        "id": "MBtibq9gXvla",
        "colab_type": "code",
        "colab": {}
      },
      "source": [
        ""
      ],
      "execution_count": null,
      "outputs": []
    },
    {
      "cell_type": "code",
      "metadata": {
        "id": "fWpN_q3bXvqj",
        "colab_type": "code",
        "colab": {}
      },
      "source": [
        ""
      ],
      "execution_count": null,
      "outputs": []
    },
    {
      "cell_type": "code",
      "metadata": {
        "id": "2cTQzFOTXvpG",
        "colab_type": "code",
        "colab": {}
      },
      "source": [
        ""
      ],
      "execution_count": null,
      "outputs": []
    },
    {
      "cell_type": "code",
      "metadata": {
        "id": "QmqIt916-xHd",
        "colab_type": "code",
        "colab": {}
      },
      "source": [
        "X_train, X_eval, Y_train, Y_eval = train_test_split(\n",
        "    imputed_train_set,\n",
        "    labels,\n",
        "    test_size=0.20,\n",
        "    shuffle=True,\n",
        "    stratify=labels,\n",
        "    random_state=RANDOM_SEED\n",
        ")\n",
        "\n"
      ],
      "execution_count": null,
      "outputs": []
    },
    {
      "cell_type": "code",
      "metadata": {
        "id": "y6Jrsx7j_EcW",
        "colab_type": "code",
        "colab": {}
      },
      "source": [
        "numeric_preprocessing_steps = Pipeline([\n",
        "    ('minmax_scaler', MinMaxScaler())\n",
        "])\n",
        "\n",
        "categorical_transformer = Pipeline(steps=[\n",
        "    ('onehot', OrdinalEncoder())\n",
        "    ])\n",
        "\n",
        "\n",
        "preprocessor = ColumnTransformer(\n",
        "    transformers = [\n",
        "        (\"numeric\", numeric_preprocessing_steps, numeric_cols),\n",
        "        (\"categorical\", categorical_transformer, categorical_cols)\n",
        "    ],\n",
        "    remainder = \"drop\"\n",
        ")\n",
        "\n",
        "data_pipeline = Pipeline([\n",
        "    (\"preprocessor\", preprocessor)\n",
        "])\n"
      ],
      "execution_count": null,
      "outputs": []
    },
    {
      "cell_type": "code",
      "metadata": {
        "id": "OKkm4KpE_lVV",
        "colab_type": "code",
        "colab": {}
      },
      "source": [
        "data_pipeline.fit(X_train)\n",
        "d_train = data_pipeline.transform(X_train)\n",
        "d_eval = data_pipeline.transform(X_eval)"
      ],
      "execution_count": null,
      "outputs": []
    },
    {
      "cell_type": "code",
      "metadata": {
        "id": "b0v5DTk2_qFs",
        "colab_type": "code",
        "colab": {}
      },
      "source": [
        ""
      ],
      "execution_count": null,
      "outputs": []
    },
    {
      "cell_type": "code",
      "metadata": {
        "id": "_T_zbihj_rvM",
        "colab_type": "code",
        "colab": {
          "base_uri": "https://localhost:8080/",
          "height": 54
        },
        "outputId": "462d1f90-718f-4458-8ca8-4709eeebf322"
      },
      "source": [
        "print(d_train.shape, d_eval.shape)\n",
        "Y_train.shape"
      ],
      "execution_count": null,
      "outputs": [
        {
          "output_type": "stream",
          "text": [
            "(13740, 10) (3436, 10)\n"
          ],
          "name": "stdout"
        },
        {
          "output_type": "execute_result",
          "data": {
            "text/plain": [
              "(13740,)"
            ]
          },
          "metadata": {
            "tags": []
          },
          "execution_count": 22
        }
      ]
    },
    {
      "cell_type": "code",
      "metadata": {
        "id": "YF0SyMzo_uw8",
        "colab_type": "code",
        "colab": {
          "base_uri": "https://localhost:8080/",
          "height": 72
        },
        "outputId": "a133abb3-7ec4-49a2-a0cd-5bd2f61fbe26"
      },
      "source": [
        "d_train[0]"
      ],
      "execution_count": null,
      "outputs": [
        {
          "output_type": "execute_result",
          "data": {
            "text/plain": [
              "array([2.13821228e-04, 0.00000000e+00, 2.06676026e-03, 8.20631136e-04,\n",
              "       1.33297494e-03, 5.27573862e-03, 5.29539131e-07, 9.89144463e-01,\n",
              "       1.12277126e-02, 1.10000000e+01])"
            ]
          },
          "metadata": {
            "tags": []
          },
          "execution_count": 50
        }
      ]
    },
    {
      "cell_type": "code",
      "metadata": {
        "id": "2hOzKqs9SohQ",
        "colab_type": "code",
        "colab": {}
      },
      "source": [
        ""
      ],
      "execution_count": null,
      "outputs": []
    },
    {
      "cell_type": "code",
      "metadata": {
        "id": "SflTTNQuSoqQ",
        "colab_type": "code",
        "colab": {}
      },
      "source": [
        ""
      ],
      "execution_count": null,
      "outputs": []
    },
    {
      "cell_type": "code",
      "metadata": {
        "id": "1Q9kmLCh_4Bs",
        "colab_type": "code",
        "colab": {}
      },
      "source": [
        "from sklearn.utils.class_weight import compute_sample_weight\n",
        "sample_w = compute_sample_weight(class_weight={0:0.1, 1:0.90}, y=Y_train)"
      ],
      "execution_count": null,
      "outputs": []
    },
    {
      "cell_type": "code",
      "metadata": {
        "id": "cZQGwzGfiemE",
        "colab_type": "code",
        "colab": {}
      },
      "source": [
        "from sklearn.utils.class_weight import compute_sample_weight\n",
        "sample_w = compute_sample_weight(class_weight={0:10, 1:1}, y=Y_train)"
      ],
      "execution_count": null,
      "outputs": []
    },
    {
      "cell_type": "code",
      "metadata": {
        "id": "1tnCOXBj5xaV",
        "colab_type": "code",
        "colab": {
          "base_uri": "https://localhost:8080/",
          "height": 35
        },
        "outputId": "13a100dd-02a8-4c1f-b24f-e05aeb1506ea"
      },
      "source": [
        "sample_w"
      ],
      "execution_count": null,
      "outputs": [
        {
          "output_type": "execute_result",
          "data": {
            "text/plain": [
              "array([1., 1., 1., ..., 1., 1., 1.])"
            ]
          },
          "metadata": {
            "tags": []
          },
          "execution_count": 120
        }
      ]
    },
    {
      "cell_type": "code",
      "metadata": {
        "id": "76oLlFx5lM0O",
        "colab_type": "code",
        "colab": {
          "base_uri": "https://localhost:8080/",
          "height": 586
        },
        "outputId": "12120c4c-dbf0-41b3-865c-ede9056f55eb"
      },
      "source": [
        "from sklearn.ensemble import GradientBoostingClassifier\n",
        "from sklearn.metrics import f1_score\n",
        "\n",
        "gbclf = GradientBoostingClassifier(random_state=2, n_estimators = 1200, max_depth =8, \n",
        "                                   subsample = 1.0, verbose = 1)\n",
        "gbclf.fit(d_train, Y_train, sample_w)\n",
        "print(gbclf.score(d_eval, Y_eval))\n",
        "pr = gbclf.predict(d_eval)\n",
        "f1_score(Y_eval, pr, average='macro')"
      ],
      "execution_count": null,
      "outputs": [
        {
          "output_type": "stream",
          "text": [
            "      Iter       Train Loss   Remaining Time \n",
            "         1           1.2875            1.84m\n",
            "         2           1.2058            1.80m\n",
            "         3           1.1325            1.80m\n",
            "         4           1.0661            1.79m\n",
            "         5           1.0092            1.79m\n",
            "         6           0.9577            1.79m\n",
            "         7           0.9178            1.79m\n",
            "         8           0.8763            1.79m\n",
            "         9           0.8392            1.80m\n",
            "        10           0.8110            1.80m\n",
            "        20           0.5824            1.79m\n",
            "        30           0.4482            1.76m\n",
            "        40           0.3474            1.75m\n",
            "        50           0.2840            1.73m\n",
            "        60           0.2380            1.72m\n",
            "        70           0.2057            1.70m\n",
            "        80           0.1822            1.69m\n",
            "        90           0.1614            1.67m\n",
            "       100           0.1424            1.66m\n",
            "       200           0.0522            1.50m\n",
            "       300           0.0203            1.35m\n",
            "       400           0.0083            1.20m\n",
            "       500           0.0033            1.05m\n",
            "       600           0.0013           53.71s\n",
            "       700           0.0006           44.58s\n",
            "       800           0.0004           35.34s\n",
            "       900           0.0003           24.91s\n",
            "      1000           0.0003           14.97s\n",
            "0.9560989982321745\n"
          ],
          "name": "stdout"
        },
        {
          "output_type": "execute_result",
          "data": {
            "text/plain": [
              "0.8445708475905694"
            ]
          },
          "metadata": {
            "tags": []
          },
          "execution_count": 59
        }
      ]
    },
    {
      "cell_type": "code",
      "metadata": {
        "id": "xe6fugdL_9mT",
        "colab_type": "code",
        "colab": {
          "base_uri": "https://localhost:8080/",
          "height": 35
        },
        "outputId": "7e129aaf-4dbb-4689-8d4c-65ecb53c56bf"
      },
      "source": [
        "from sklearn.ensemble import GradientBoostingClassifier\n",
        "\n",
        "gbclf = GradientBoostingClassifier(random_state=0, n_estimators = 850, max_depth =8, subsample = 1.0, loss ='exponential')\n",
        "#gbclf.fit(d_train, Y_train, sample_w)\n",
        "gbclf.fit(d_train, Y_train,sample_w)\n",
        "gbclf.score(d_eval, Y_eval)"
      ],
      "execution_count": null,
      "outputs": [
        {
          "output_type": "execute_result",
          "data": {
            "text/plain": [
              "0.9560989982321745"
            ]
          },
          "metadata": {
            "tags": []
          },
          "execution_count": 28
        }
      ]
    },
    {
      "cell_type": "code",
      "metadata": {
        "id": "zvtUiukenSOZ",
        "colab_type": "code",
        "colab": {}
      },
      "source": [
        ""
      ],
      "execution_count": null,
      "outputs": []
    },
    {
      "cell_type": "code",
      "metadata": {
        "id": "nw2E_4YDnSVS",
        "colab_type": "code",
        "colab": {}
      },
      "source": [
        ""
      ],
      "execution_count": null,
      "outputs": []
    },
    {
      "cell_type": "code",
      "metadata": {
        "id": "puRrtURpnSaY",
        "colab_type": "code",
        "colab": {}
      },
      "source": [
        ""
      ],
      "execution_count": null,
      "outputs": []
    },
    {
      "cell_type": "code",
      "metadata": {
        "id": "kcQXiHvYnSf6",
        "colab_type": "code",
        "colab": {}
      },
      "source": [
        ""
      ],
      "execution_count": null,
      "outputs": []
    },
    {
      "cell_type": "code",
      "metadata": {
        "id": "47ZX5CfqnSna",
        "colab_type": "code",
        "colab": {}
      },
      "source": [
        ""
      ],
      "execution_count": null,
      "outputs": []
    },
    {
      "cell_type": "code",
      "metadata": {
        "id": "XSVTe68onSlR",
        "colab_type": "code",
        "colab": {}
      },
      "source": [
        ""
      ],
      "execution_count": null,
      "outputs": []
    },
    {
      "cell_type": "code",
      "metadata": {
        "id": "O6V6Buku4_Cg",
        "colab_type": "code",
        "colab": {}
      },
      "source": [
        ""
      ],
      "execution_count": null,
      "outputs": []
    },
    {
      "cell_type": "code",
      "metadata": {
        "id": "r3USS1n7TE_1",
        "colab_type": "code",
        "colab": {
          "base_uri": "https://localhost:8080/",
          "height": 752
        },
        "outputId": "7c8bfcf7-bda3-41b1-b8ff-3b0a84cce6df"
      },
      "source": [
        "data_pipeline.fit(imputed_train_set)\n",
        "d_all = data_pipeline.transform(imputed_train_set)\n",
        "y_all = labels\n",
        "print(d_all.shape, y_all.shape)\n",
        "\n",
        "from sklearn.utils.class_weight import compute_sample_weight\n",
        "sample_w = compute_sample_weight(class_weight={0:10, 1:1}, y=y_all)\n",
        "\n",
        "gbclf.fit(d_all, y_all,sample_w)"
      ],
      "execution_count": null,
      "outputs": [
        {
          "output_type": "stream",
          "text": [
            "(16968, 10) (16968,)\n",
            "      Iter       Train Loss   Remaining Time \n",
            "         1           1.2888            2.23m\n",
            "         2           1.2092            2.25m\n",
            "         3           1.1439            2.26m\n",
            "         4           1.0804            2.27m\n",
            "         5           1.0264            2.26m\n",
            "         6           0.9774            2.25m\n",
            "         7           0.9351            2.25m\n",
            "         8           0.8910            2.24m\n",
            "         9           0.8558            2.24m\n",
            "        10           0.8268            2.24m\n",
            "        20           0.6037            2.23m\n",
            "        30           0.4783            2.20m\n",
            "        40           0.3934            2.18m\n",
            "        50           0.3326            2.16m\n",
            "        60           0.2896            2.14m\n",
            "        70           0.2521            2.12m\n",
            "        80           0.2295            2.10m\n",
            "        90           0.2032            2.08m\n",
            "       100           0.1807            2.06m\n",
            "       200           0.0757            1.87m\n",
            "       300           0.0315            1.68m\n",
            "       400           0.0140            1.49m\n",
            "       500           0.0063            1.30m\n",
            "       600           0.0029            1.12m\n",
            "       700           0.0014           55.81s\n",
            "       800           0.0007           44.57s\n",
            "       900           0.0004           33.25s\n",
            "      1000           0.0003           21.81s\n"
          ],
          "name": "stdout"
        },
        {
          "output_type": "execute_result",
          "data": {
            "text/plain": [
              "GradientBoostingClassifier(ccp_alpha=0.0, criterion='friedman_mse', init=None,\n",
              "                           learning_rate=0.1, loss='deviance', max_depth=8,\n",
              "                           max_features=None, max_leaf_nodes=None,\n",
              "                           min_impurity_decrease=0.0, min_impurity_split=None,\n",
              "                           min_samples_leaf=1, min_samples_split=2,\n",
              "                           min_weight_fraction_leaf=0.0, n_estimators=1200,\n",
              "                           n_iter_no_change=None, presort='deprecated',\n",
              "                           random_state=2, subsample=1.0, tol=0.0001,\n",
              "                           validation_fraction=0.1, verbose=1,\n",
              "                           warm_start=False)"
            ]
          },
          "metadata": {
            "tags": []
          },
          "execution_count": 60
        }
      ]
    },
    {
      "cell_type": "code",
      "metadata": {
        "id": "W7tbXRtIS9Te",
        "colab_type": "code",
        "colab": {}
      },
      "source": [
        "cleaned_test_data = preprocess_train_data(test)\n",
        "\n",
        "test_set = data_pipeline.transform(cleaned_test_data)"
      ],
      "execution_count": null,
      "outputs": []
    },
    {
      "cell_type": "code",
      "metadata": {
        "id": "0TB6w3_RS9bj",
        "colab_type": "code",
        "colab": {
          "base_uri": "https://localhost:8080/",
          "height": 35
        },
        "outputId": "e881fa88-72e1-459c-ce32-f698bb4a5c1d"
      },
      "source": [
        "test_set.shape"
      ],
      "execution_count": null,
      "outputs": [
        {
          "output_type": "execute_result",
          "data": {
            "text/plain": [
              "(8576, 10)"
            ]
          },
          "metadata": {
            "tags": []
          },
          "execution_count": 62
        }
      ]
    },
    {
      "cell_type": "code",
      "metadata": {
        "id": "gFOunosbS9o-",
        "colab_type": "code",
        "colab": {
          "base_uri": "https://localhost:8080/",
          "height": 35
        },
        "outputId": "d6a9ecb0-9a0b-4245-ab9d-d782d452355b"
      },
      "source": [
        "preds = gbclf.predict(test_set)\n",
        "print(preds)"
      ],
      "execution_count": null,
      "outputs": [
        {
          "output_type": "stream",
          "text": [
            "[1 1 1 ... 1 1 1]\n"
          ],
          "name": "stdout"
        }
      ]
    },
    {
      "cell_type": "code",
      "metadata": {
        "id": "MFLGfZrdT7tN",
        "colab_type": "code",
        "colab": {
          "base_uri": "https://localhost:8080/",
          "height": 35
        },
        "outputId": "19b20ae0-0b78-4027-d0f2-92c2045e779b"
      },
      "source": [
        "preds.shape"
      ],
      "execution_count": null,
      "outputs": [
        {
          "output_type": "execute_result",
          "data": {
            "text/plain": [
              "(8576,)"
            ]
          },
          "metadata": {
            "tags": []
          },
          "execution_count": 64
        }
      ]
    },
    {
      "cell_type": "code",
      "metadata": {
        "id": "xZFn05nyS9mA",
        "colab_type": "code",
        "colab": {
          "base_uri": "https://localhost:8080/",
          "height": 206
        },
        "outputId": "668c973f-d9f2-4b73-ff3c-bdc4cd9e16c2"
      },
      "source": [
        "output = pd.DataFrame(test,columns=['tripid'])\n",
        "output['prediction'] = preds\n",
        "output.head()"
      ],
      "execution_count": null,
      "outputs": [
        {
          "output_type": "execute_result",
          "data": {
            "text/html": [
              "<div>\n",
              "<style scoped>\n",
              "    .dataframe tbody tr th:only-of-type {\n",
              "        vertical-align: middle;\n",
              "    }\n",
              "\n",
              "    .dataframe tbody tr th {\n",
              "        vertical-align: top;\n",
              "    }\n",
              "\n",
              "    .dataframe thead th {\n",
              "        text-align: right;\n",
              "    }\n",
              "</style>\n",
              "<table border=\"1\" class=\"dataframe\">\n",
              "  <thead>\n",
              "    <tr style=\"text-align: right;\">\n",
              "      <th></th>\n",
              "      <th>tripid</th>\n",
              "      <th>prediction</th>\n",
              "    </tr>\n",
              "  </thead>\n",
              "  <tbody>\n",
              "    <tr>\n",
              "      <th>0</th>\n",
              "      <td>213284604</td>\n",
              "      <td>1</td>\n",
              "    </tr>\n",
              "    <tr>\n",
              "      <th>1</th>\n",
              "      <td>213286352</td>\n",
              "      <td>1</td>\n",
              "    </tr>\n",
              "    <tr>\n",
              "      <th>2</th>\n",
              "      <td>213293973</td>\n",
              "      <td>1</td>\n",
              "    </tr>\n",
              "    <tr>\n",
              "      <th>3</th>\n",
              "      <td>213294622</td>\n",
              "      <td>1</td>\n",
              "    </tr>\n",
              "    <tr>\n",
              "      <th>4</th>\n",
              "      <td>213298687</td>\n",
              "      <td>1</td>\n",
              "    </tr>\n",
              "  </tbody>\n",
              "</table>\n",
              "</div>"
            ],
            "text/plain": [
              "      tripid  prediction\n",
              "0  213284604           1\n",
              "1  213286352           1\n",
              "2  213293973           1\n",
              "3  213294622           1\n",
              "4  213298687           1"
            ]
          },
          "metadata": {
            "tags": []
          },
          "execution_count": 65
        }
      ]
    },
    {
      "cell_type": "code",
      "metadata": {
        "id": "7VuFuEg2S9j9",
        "colab_type": "code",
        "colab": {}
      },
      "source": [
        "output.to_csv('/content/Ridefare_submission_19.csv',index=False)"
      ],
      "execution_count": null,
      "outputs": []
    },
    {
      "cell_type": "code",
      "metadata": {
        "id": "TRsHj6uRS9ia",
        "colab_type": "code",
        "colab": {}
      },
      "source": [
        ""
      ],
      "execution_count": null,
      "outputs": []
    },
    {
      "cell_type": "code",
      "metadata": {
        "id": "kqhEaHO1S9hT",
        "colab_type": "code",
        "colab": {}
      },
      "source": [
        ""
      ],
      "execution_count": null,
      "outputs": []
    },
    {
      "cell_type": "code",
      "metadata": {
        "id": "xNcwLagxS9ZP",
        "colab_type": "code",
        "colab": {}
      },
      "source": [
        ""
      ],
      "execution_count": null,
      "outputs": []
    },
    {
      "cell_type": "code",
      "metadata": {
        "id": "jjA5UqQkS9Xe",
        "colab_type": "code",
        "colab": {}
      },
      "source": [
        ""
      ],
      "execution_count": null,
      "outputs": []
    },
    {
      "cell_type": "code",
      "metadata": {
        "id": "_dyPdaDXPiGH",
        "colab_type": "code",
        "colab": {}
      },
      "source": [
        ""
      ],
      "execution_count": null,
      "outputs": []
    },
    {
      "cell_type": "code",
      "metadata": {
        "id": "kXNWZy5oPiEV",
        "colab_type": "code",
        "colab": {}
      },
      "source": [
        ""
      ],
      "execution_count": null,
      "outputs": []
    }
  ]
}