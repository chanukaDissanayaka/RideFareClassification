{
  "nbformat": 4,
  "nbformat_minor": 0,
  "metadata": {
    "colab": {
      "name": "Ridefare_submission_22.ipynb",
      "provenance": [],
      "collapsed_sections": [],
      "authorship_tag": "ABX9TyNA9R2e1IaJHa8IMaaKpvv0",
      "include_colab_link": true
    },
    "kernelspec": {
      "name": "python3",
      "display_name": "Python 3"
    }
  },
  "cells": [
    {
      "cell_type": "markdown",
      "metadata": {
        "id": "view-in-github",
        "colab_type": "text"
      },
      "source": [
        "<a href=\"https://colab.research.google.com/github/chanukaDissanayaka/RideFareClassification/blob/master/Ridefare_submission_22.ipynb\" target=\"_parent\"><img src=\"https://colab.research.google.com/assets/colab-badge.svg\" alt=\"Open In Colab\"/></a>"
      ]
    },
    {
      "cell_type": "code",
      "metadata": {
        "id": "JNd9bnpB9S9w",
        "colab_type": "code",
        "colab": {
          "base_uri": "https://localhost:8080/",
          "height": 35
        },
        "outputId": "bd6ed829-72ea-4825-b75c-04b82924590c"
      },
      "source": [
        "#imports\n",
        "\n",
        "import pandas as pd\n",
        "from keras.models import Sequential\n",
        "from keras.layers import Dense\n",
        "from keras.wrappers.scikit_learn import KerasClassifier\n",
        "from sklearn.model_selection import cross_val_score\n",
        "from sklearn.preprocessing import LabelEncoder\n",
        "from sklearn.model_selection import StratifiedKFold\n",
        "from sklearn.preprocessing import StandardScaler\n",
        "from sklearn.pipeline import Pipeline\n",
        "from sklearn.metrics import f1_score\n",
        "from sklearn.preprocessing import MinMaxScaler\n",
        "from sklearn.preprocessing import MaxAbsScaler\n",
        "from sklearn.compose import ColumnTransformer\n",
        "from sklearn.preprocessing import OrdinalEncoder\n",
        "from sklearn.preprocessing import StandardScaler, OneHotEncoder\n",
        "\n",
        "from datetime import datetime, timedelta\n",
        "from pandas import DataFrame\n",
        "\n",
        "from sklearn.pipeline import Pipeline\n",
        "\n",
        "from sklearn.model_selection import train_test_split\n",
        "from sklearn.impute import SimpleImputer\n",
        "from sklearn.compose import ColumnTransformer\n",
        "from sklearn.naive_bayes import GaussianNB\n",
        "from sklearn.metrics import accuracy_score\n",
        "\n",
        "from sklearn.ensemble import RandomForestClassifier\n",
        "\n",
        "import numpy as np\n",
        "\n",
        "RANDOM_SEED = 4"
      ],
      "execution_count": null,
      "outputs": [
        {
          "output_type": "stream",
          "text": [
            "Using TensorFlow backend.\n"
          ],
          "name": "stderr"
        }
      ]
    },
    {
      "cell_type": "code",
      "metadata": {
        "id": "IULzOEfFH6zh",
        "colab_type": "code",
        "colab": {
          "base_uri": "https://localhost:8080/",
          "height": 129
        },
        "outputId": "b740d1cb-1529-45c0-8368-41e1373f0daa"
      },
      "source": [
        "from google.colab import drive\n",
        "drive.mount('/content/gdrive')\n"
      ],
      "execution_count": null,
      "outputs": [
        {
          "output_type": "stream",
          "text": [
            "Go to this URL in a browser: https://accounts.google.com/o/oauth2/auth?client_id=947318989803-6bn6qk8qdgf4n4g3pfee6491hc0brc4i.apps.googleusercontent.com&redirect_uri=urn%3aietf%3awg%3aoauth%3a2.0%3aoob&response_type=code&scope=email%20https%3a%2f%2fwww.googleapis.com%2fauth%2fdocs.test%20https%3a%2f%2fwww.googleapis.com%2fauth%2fdrive%20https%3a%2f%2fwww.googleapis.com%2fauth%2fdrive.photos.readonly%20https%3a%2f%2fwww.googleapis.com%2fauth%2fpeopleapi.readonly\n",
            "\n",
            "Enter your authorization code:\n",
            "··········\n",
            "Mounted at /content/gdrive\n"
          ],
          "name": "stdout"
        }
      ]
    },
    {
      "cell_type": "code",
      "metadata": {
        "id": "mIIBYr6M9aVi",
        "colab_type": "code",
        "colab": {}
      },
      "source": [
        "#dataframe = pd.read_csv(\"/content/train.csv\")\n",
        "#test = pd.read_csv(\"/content/test.csv\")\n",
        "\n",
        "dataframe = pd.read_csv(\"/content/gdrive/My Drive/ML_RideFare/Data/train.csv\")\n",
        "test = pd.read_csv(\"/content/gdrive/My Drive/ML_RideFare/Data/test.csv\")\n",
        "\n",
        "dataframe.isna().sum(axis = 0)\n",
        "#dataframe = dataframe.fillna(method='ffill')\n",
        "dataframe = dataframe.dropna()"
      ],
      "execution_count": null,
      "outputs": []
    },
    {
      "cell_type": "code",
      "metadata": {
        "id": "v40LrekZ9joQ",
        "colab_type": "code",
        "colab": {}
      },
      "source": [
        "def preprocess_train_data(dataframe):\n",
        "  feature_set = dataframe.iloc[:,1:13]\n",
        "\n",
        "  features = feature_set\n",
        "\n",
        "  features['pickup_time'] = pd.to_datetime(features['pickup_time'], format=\"%m/%d/%Y %H:%M\")\n",
        "  features['drop_time'] = pd.to_datetime(features['drop_time'], format=\"%m/%d/%Y %H:%M\")\n",
        "\n",
        "  td = features\n",
        "\n",
        "  td['pickup_time_year'] = td['pickup_time'].dt.year\n",
        "  td['pickup_time_month'] = td['pickup_time'].dt.month\n",
        "  td['pickup_time_day'] = td['pickup_time'].dt.day\n",
        "  td['pickup_time_hour'] = td['pickup_time'].dt.hour\n",
        "  td['pickup_time_minute'] = td['pickup_time'].dt.minute\n",
        "\n",
        "  td['drop_time_year'] = td['drop_time'].dt.year\n",
        "  td['drop_time_month'] = td['drop_time'].dt.month\n",
        "  td['drop_time_day'] = td['drop_time'].dt.day\n",
        "  td['drop_time_hour'] = td['drop_time'].dt.hour\n",
        "  td['drop_time_minute'] = td['drop_time'].dt.minute\n",
        "\n",
        "  td['day_of_week'] = td['pickup_time'].dt.day_name()\n",
        "  td['day_of_week'] = OrdinalEncoder().fit_transform(td[['day_of_week']])\n",
        "\n",
        "  td['duration_calculated'] = td['drop_time'] - td['pickup_time']\n",
        "  td['duration_calculated'] = td['duration_calculated'].dt.total_seconds().astype(int)\n",
        "\n",
        "  td = td.drop('pickup_time',1)\n",
        "  td = td.drop('drop_time',1)\n",
        "\n",
        "  td = get_trip_distance_eucld(td)\n",
        "  td = get_X_distance(td)\n",
        "  td = get_Y_distance(td)\n",
        "  td = get_pick_XY(td)\n",
        "  td = get_drop_XY(td)\n",
        "  td = transform_hour(td)\n",
        "  td = set_fare_duration(td)\n",
        "  td = set_driving_duration(td)\n",
        "  td = get_exact_fare(td)\n",
        "  \n",
        "\n",
        "  return td\n",
        "\n",
        "def get_labels(dataframe):\n",
        "  label_set = dataframe.iloc[:, 13:14]\n",
        "  #rev_label_set = label_set\n",
        "  rev_label_set = label_set.replace({'correct':'incorrect', 'incorrect':'correct'})\n",
        "\n",
        "  encoder = LabelEncoder()\n",
        "  encoder.fit(rev_label_set)\n",
        "  labels = encoder.transform(rev_label_set)\n",
        "  return labels\n",
        "\n",
        "def set_time_of_the_day(cleaned_train_set):\n",
        "  cleaned_train_set.head()\n",
        "  newFrame = cleaned_train_set\n",
        "  tt = newFrame\n",
        "\n",
        "  d0_index = newFrame[(newFrame['pickup_time_hour']>=0) & (newFrame['pickup_time_hour'] < 6 )].index\n",
        "  tt.loc[d0_index,'time_of_day']=0\n",
        "\n",
        "  d1_index = newFrame[(newFrame['pickup_time_hour']>=6) & (newFrame['pickup_time_hour'] < 12 )].index\n",
        "  tt.loc[d1_index,'time_of_day']=1\n",
        "\n",
        "  d2_index = newFrame[(newFrame['pickup_time_hour']>=12) & (newFrame['pickup_time_hour'] < 18 )].index\n",
        "  tt.loc[d2_index,'time_of_day']=2\n",
        "\n",
        "  d3_index = newFrame[(newFrame['pickup_time_hour']>=18) & (newFrame['pickup_time_hour'] < 24 )].index\n",
        "  tt.loc[d3_index,'time_of_day']=3\n",
        "\n",
        "  return tt\n",
        "\n",
        "def haversine_distance(lat1, lon1, lat2, lon2):\n",
        "  r = 6371\n",
        "  phi1 = np.radians(lat1)\n",
        "  phi2 = np.radians(lat2)\n",
        "  d_phi = np.radians(lat2-lat1)\n",
        "  d_lambda = np.radians(lon2-lon1)\n",
        "\n",
        "  a = np.sin(d_phi /2)**2 + np.cos(phi1) * np.cos(phi2) * np.sin(d_lambda/2)**2\n",
        "  res = r*(2* np.arctan2(np.sqrt(a), np.sqrt(1-a)))\n",
        "\n",
        "  return np.round(res,2)\n",
        "  return res\n",
        "\n",
        "def get_trip_distance(frame):\n",
        "  newFrame = frame\n",
        "  newFrame[\"distance\"] = haversine_distance(frame['pick_lat'],frame['drop_lat'],frame['pick_lon'],frame['drop_lon'])\n",
        "  return newFrame\n",
        "\n",
        "def get_trip_distance_eucld(frame):\n",
        "  newFrame = frame\n",
        "  newFrame[\"distance\"] = (((frame['pick_lat']-frame['drop_lat'])**2)+((frame['pick_lon']-frame['drop_lon'])**2)**0.5)\n",
        "  return newFrame\n",
        "\n",
        "def get_X_distance(frame):\n",
        "  newFrame = frame\n",
        "  newFrame[\"distance_X\"] = ((frame['pick_lat']-frame['drop_lat']))\n",
        "  return newFrame\n",
        "\n",
        "def get_Y_distance(frame):\n",
        "  newFrame = frame\n",
        "  newFrame[\"distance_Y\"] = ((frame['pick_lon']-frame['drop_lon']))\n",
        "  return newFrame\n",
        "\n",
        "def get_pick_XY(frame):\n",
        "  newFrame = frame\n",
        "  newFrame[\"pick_X\"] = np.cos(frame['pick_lat'])* np.cos(frame['pick_lon'])\n",
        "  newFrame[\"pick_Y\"] = np.cos(frame['pick_lat'])* np.sin(frame['pick_lon'])\n",
        "  return newFrame\n",
        "\n",
        "def get_drop_XY(frame):\n",
        "  newFrame = frame\n",
        "  newFrame[\"drop_X\"] = np.cos(frame['drop_lat'])* np.cos(frame['drop_lon'])\n",
        "  newFrame[\"drop_Y\"] = np.cos(frame['drop_lat'])* np.sin(frame['drop_lon'])\n",
        "  return newFrame\n",
        "\n",
        "def transform_hour(frame):\n",
        "  newFrame = frame\n",
        "  newFrame[\"pick_hour_sin\"] = np.sin(np.radians(3*frame['pickup_time_hour']))\n",
        "  newFrame[\"drop_hour_sin\"] = np.sin(np.radians(3*frame['drop_time_hour']))\n",
        "\n",
        "  newFrame[\"pick_hour_cos\"] = np.cos(np.radians(3*frame['pickup_time_hour']))\n",
        "  newFrame[\"drop_hour_cos\"] = np.cos(np.radians(3*frame['drop_time_hour']))\n",
        "  return newFrame\n",
        "\n",
        "def set_fare_duration(imputed_train_set):\n",
        "  df = imputed_train_set\n",
        "\n",
        "  df['total_fare'] = ((df['fare']-df['fare'].mean())/df['fare'].std() +\n",
        "                      (df['additional_fare']-df['additional_fare'].mean())/df['additional_fare'].std()+ \n",
        "                      (df['meter_waiting_fare']-df['meter_waiting_fare'].mean())/df['meter_waiting_fare'].std())\n",
        "\n",
        "  df['total_fare'] =  df['fare'] + df['additional_fare'] + df['meter_waiting_fare']\n",
        "  df['total_additional_fare'] = df['additional_fare'] + df['meter_waiting_fare']\n",
        "  df['total_waiting_time'] = df['meter_waiting'] + df['meter_waiting_till_pickup']\n",
        "  df['total_time'] = df['total_waiting_time'] + df['duration']\n",
        "\n",
        "  df['waiting_factor'] = ((df['meter_waiting']-df['meter_waiting'].mean())/df['meter_waiting'].std() +\n",
        "                      (df['meter_waiting_fare']-df['meter_waiting_fare'].mean())/df['meter_waiting_fare'].std()+ \n",
        "                      (df['meter_waiting_till_pickup']-df['meter_waiting_till_pickup'].mean())/df['meter_waiting_till_pickup'].std())\n",
        "\n",
        "  return df\n",
        "\n",
        "def set_driving_duration(train_set):\n",
        "  df = train_set\n",
        "\n",
        "  df['driving_duration'] = df['duration'] - df['meter_waiting']\n",
        "  return df\n",
        "\n",
        "def get_exact_fare(train_set):\n",
        "  df = train_set\n",
        "  df['exact_fare'] = df['fare'] - df['additional_fare']- df['meter_waiting_fare']\n",
        "  return df"
      ],
      "execution_count": null,
      "outputs": []
    },
    {
      "cell_type": "code",
      "metadata": {
        "id": "KUHR69oraNiG",
        "colab_type": "code",
        "colab": {
          "base_uri": "https://localhost:8080/",
          "height": 72
        },
        "outputId": "0cc8df1c-7771-4854-e37f-22bc10f3eb4d"
      },
      "source": [
        "print(dataframe.label.value_counts())"
      ],
      "execution_count": null,
      "outputs": [
        {
          "output_type": "stream",
          "text": [
            "correct      15442\n",
            "incorrect     1526\n",
            "Name: label, dtype: int64\n"
          ],
          "name": "stdout"
        }
      ]
    },
    {
      "cell_type": "code",
      "metadata": {
        "id": "UDru7N6xX5Yk",
        "colab_type": "code",
        "colab": {}
      },
      "source": [
        ""
      ],
      "execution_count": null,
      "outputs": []
    },
    {
      "cell_type": "code",
      "metadata": {
        "id": "8TovlVXvX5WQ",
        "colab_type": "code",
        "colab": {
          "base_uri": "https://localhost:8080/",
          "height": 300
        },
        "outputId": "2c4ea969-98a0-4e12-89d2-055aeea4b21b"
      },
      "source": [
        "cleaned_train_set = preprocess_train_data(dataframe)\n",
        "labels = get_labels(dataframe)\n",
        "cleaned_train_set.head()\n"
      ],
      "execution_count": null,
      "outputs": [
        {
          "output_type": "stream",
          "text": [
            "/usr/local/lib/python3.6/dist-packages/sklearn/preprocessing/_label.py:235: DataConversionWarning: A column-vector y was passed when a 1d array was expected. Please change the shape of y to (n_samples, ), for example using ravel().\n",
            "  y = column_or_1d(y, warn=True)\n",
            "/usr/local/lib/python3.6/dist-packages/sklearn/preprocessing/_label.py:268: DataConversionWarning: A column-vector y was passed when a 1d array was expected. Please change the shape of y to (n_samples, ), for example using ravel().\n",
            "  y = column_or_1d(y, warn=True)\n"
          ],
          "name": "stderr"
        },
        {
          "output_type": "execute_result",
          "data": {
            "text/html": [
              "<div>\n",
              "<style scoped>\n",
              "    .dataframe tbody tr th:only-of-type {\n",
              "        vertical-align: middle;\n",
              "    }\n",
              "\n",
              "    .dataframe tbody tr th {\n",
              "        vertical-align: top;\n",
              "    }\n",
              "\n",
              "    .dataframe thead th {\n",
              "        text-align: right;\n",
              "    }\n",
              "</style>\n",
              "<table border=\"1\" class=\"dataframe\">\n",
              "  <thead>\n",
              "    <tr style=\"text-align: right;\">\n",
              "      <th></th>\n",
              "      <th>additional_fare</th>\n",
              "      <th>duration</th>\n",
              "      <th>meter_waiting</th>\n",
              "      <th>meter_waiting_fare</th>\n",
              "      <th>meter_waiting_till_pickup</th>\n",
              "      <th>pick_lat</th>\n",
              "      <th>pick_lon</th>\n",
              "      <th>drop_lat</th>\n",
              "      <th>drop_lon</th>\n",
              "      <th>fare</th>\n",
              "      <th>pickup_time_year</th>\n",
              "      <th>pickup_time_month</th>\n",
              "      <th>pickup_time_day</th>\n",
              "      <th>pickup_time_hour</th>\n",
              "      <th>pickup_time_minute</th>\n",
              "      <th>drop_time_year</th>\n",
              "      <th>drop_time_month</th>\n",
              "      <th>drop_time_day</th>\n",
              "      <th>drop_time_hour</th>\n",
              "      <th>drop_time_minute</th>\n",
              "      <th>day_of_week</th>\n",
              "      <th>duration_calculated</th>\n",
              "      <th>distance</th>\n",
              "      <th>distance_X</th>\n",
              "      <th>distance_Y</th>\n",
              "      <th>pick_X</th>\n",
              "      <th>pick_Y</th>\n",
              "      <th>drop_X</th>\n",
              "      <th>drop_Y</th>\n",
              "      <th>pick_hour_sin</th>\n",
              "      <th>drop_hour_sin</th>\n",
              "      <th>pick_hour_cos</th>\n",
              "      <th>drop_hour_cos</th>\n",
              "      <th>total_fare</th>\n",
              "      <th>total_additional_fare</th>\n",
              "      <th>total_waiting_time</th>\n",
              "      <th>total_time</th>\n",
              "      <th>waiting_factor</th>\n",
              "      <th>driving_duration</th>\n",
              "      <th>exact_fare</th>\n",
              "    </tr>\n",
              "  </thead>\n",
              "  <tbody>\n",
              "    <tr>\n",
              "      <th>0</th>\n",
              "      <td>10.5</td>\n",
              "      <td>834.0</td>\n",
              "      <td>56.0</td>\n",
              "      <td>0.0000</td>\n",
              "      <td>64.0</td>\n",
              "      <td>6.86252</td>\n",
              "      <td>79.8993</td>\n",
              "      <td>6.90330</td>\n",
              "      <td>79.8783</td>\n",
              "      <td>270.32</td>\n",
              "      <td>2019</td>\n",
              "      <td>11</td>\n",
              "      <td>1</td>\n",
              "      <td>0</td>\n",
              "      <td>20</td>\n",
              "      <td>2019</td>\n",
              "      <td>11</td>\n",
              "      <td>1</td>\n",
              "      <td>0</td>\n",
              "      <td>34</td>\n",
              "      <td>0.0</td>\n",
              "      <td>840</td>\n",
              "      <td>0.022663</td>\n",
              "      <td>-0.04078</td>\n",
              "      <td>0.0210</td>\n",
              "      <td>-0.175519</td>\n",
              "      <td>-0.818213</td>\n",
              "      <td>-0.187363</td>\n",
              "      <td>-0.791950</td>\n",
              "      <td>0.000000</td>\n",
              "      <td>0.000000</td>\n",
              "      <td>1.000000</td>\n",
              "      <td>1.000000</td>\n",
              "      <td>280.8200</td>\n",
              "      <td>10.5000</td>\n",
              "      <td>120.0</td>\n",
              "      <td>954.0</td>\n",
              "      <td>-0.249539</td>\n",
              "      <td>778.0</td>\n",
              "      <td>259.8200</td>\n",
              "    </tr>\n",
              "    <tr>\n",
              "      <th>1</th>\n",
              "      <td>10.5</td>\n",
              "      <td>791.0</td>\n",
              "      <td>47.0</td>\n",
              "      <td>0.0000</td>\n",
              "      <td>134.0</td>\n",
              "      <td>6.88589</td>\n",
              "      <td>79.8984</td>\n",
              "      <td>6.91373</td>\n",
              "      <td>79.8923</td>\n",
              "      <td>197.85</td>\n",
              "      <td>2019</td>\n",
              "      <td>11</td>\n",
              "      <td>1</td>\n",
              "      <td>0</td>\n",
              "      <td>56</td>\n",
              "      <td>2019</td>\n",
              "      <td>11</td>\n",
              "      <td>1</td>\n",
              "      <td>1</td>\n",
              "      <td>9</td>\n",
              "      <td>0.0</td>\n",
              "      <td>780</td>\n",
              "      <td>0.006875</td>\n",
              "      <td>-0.02784</td>\n",
              "      <td>0.0061</td>\n",
              "      <td>-0.173513</td>\n",
              "      <td>-0.805325</td>\n",
              "      <td>-0.174935</td>\n",
              "      <td>-0.788535</td>\n",
              "      <td>0.000000</td>\n",
              "      <td>0.052336</td>\n",
              "      <td>1.000000</td>\n",
              "      <td>0.998630</td>\n",
              "      <td>208.3500</td>\n",
              "      <td>10.5000</td>\n",
              "      <td>181.0</td>\n",
              "      <td>972.0</td>\n",
              "      <td>-0.092330</td>\n",
              "      <td>744.0</td>\n",
              "      <td>187.3500</td>\n",
              "    </tr>\n",
              "    <tr>\n",
              "      <th>2</th>\n",
              "      <td>10.5</td>\n",
              "      <td>1087.0</td>\n",
              "      <td>80.0</td>\n",
              "      <td>0.0000</td>\n",
              "      <td>61.0</td>\n",
              "      <td>6.90839</td>\n",
              "      <td>79.8651</td>\n",
              "      <td>6.93669</td>\n",
              "      <td>79.9146</td>\n",
              "      <td>301.64</td>\n",
              "      <td>2019</td>\n",
              "      <td>11</td>\n",
              "      <td>1</td>\n",
              "      <td>1</td>\n",
              "      <td>8</td>\n",
              "      <td>2019</td>\n",
              "      <td>11</td>\n",
              "      <td>1</td>\n",
              "      <td>1</td>\n",
              "      <td>26</td>\n",
              "      <td>0.0</td>\n",
              "      <td>1080</td>\n",
              "      <td>0.050301</td>\n",
              "      <td>-0.02830</td>\n",
              "      <td>-0.0495</td>\n",
              "      <td>-0.197078</td>\n",
              "      <td>-0.786528</td>\n",
              "      <td>-0.154631</td>\n",
              "      <td>-0.778754</td>\n",
              "      <td>0.052336</td>\n",
              "      <td>0.052336</td>\n",
              "      <td>0.998630</td>\n",
              "      <td>0.998630</td>\n",
              "      <td>312.1400</td>\n",
              "      <td>10.5000</td>\n",
              "      <td>141.0</td>\n",
              "      <td>1228.0</td>\n",
              "      <td>-0.253348</td>\n",
              "      <td>1007.0</td>\n",
              "      <td>291.1400</td>\n",
              "    </tr>\n",
              "    <tr>\n",
              "      <th>3</th>\n",
              "      <td>10.5</td>\n",
              "      <td>598.0</td>\n",
              "      <td>271.0</td>\n",
              "      <td>15.6638</td>\n",
              "      <td>68.0</td>\n",
              "      <td>6.92570</td>\n",
              "      <td>79.8895</td>\n",
              "      <td>6.92748</td>\n",
              "      <td>79.8971</td>\n",
              "      <td>82.30</td>\n",
              "      <td>2019</td>\n",
              "      <td>11</td>\n",
              "      <td>1</td>\n",
              "      <td>2</td>\n",
              "      <td>27</td>\n",
              "      <td>2019</td>\n",
              "      <td>11</td>\n",
              "      <td>1</td>\n",
              "      <td>2</td>\n",
              "      <td>37</td>\n",
              "      <td>0.0</td>\n",
              "      <td>600</td>\n",
              "      <td>0.007603</td>\n",
              "      <td>-0.00178</td>\n",
              "      <td>-0.0076</td>\n",
              "      <td>-0.175582</td>\n",
              "      <td>-0.781100</td>\n",
              "      <td>-0.169414</td>\n",
              "      <td>-0.781369</td>\n",
              "      <td>0.104528</td>\n",
              "      <td>0.104528</td>\n",
              "      <td>0.994522</td>\n",
              "      <td>0.994522</td>\n",
              "      <td>108.4638</td>\n",
              "      <td>26.1638</td>\n",
              "      <td>339.0</td>\n",
              "      <td>937.0</td>\n",
              "      <td>-0.180187</td>\n",
              "      <td>327.0</td>\n",
              "      <td>56.1362</td>\n",
              "    </tr>\n",
              "    <tr>\n",
              "      <th>5</th>\n",
              "      <td>10.5</td>\n",
              "      <td>3407.0</td>\n",
              "      <td>182.0</td>\n",
              "      <td>0.0000</td>\n",
              "      <td>112.0</td>\n",
              "      <td>7.13402</td>\n",
              "      <td>79.8969</td>\n",
              "      <td>6.91865</td>\n",
              "      <td>79.8649</td>\n",
              "      <td>1065.02</td>\n",
              "      <td>2019</td>\n",
              "      <td>11</td>\n",
              "      <td>1</td>\n",
              "      <td>5</td>\n",
              "      <td>38</td>\n",
              "      <td>2019</td>\n",
              "      <td>11</td>\n",
              "      <td>1</td>\n",
              "      <td>6</td>\n",
              "      <td>35</td>\n",
              "      <td>0.0</td>\n",
              "      <td>3420</td>\n",
              "      <td>0.078384</td>\n",
              "      <td>0.21537</td>\n",
              "      <td>0.0320</td>\n",
              "      <td>-0.139842</td>\n",
              "      <td>-0.644356</td>\n",
              "      <td>-0.195765</td>\n",
              "      <td>-0.780623</td>\n",
              "      <td>0.258819</td>\n",
              "      <td>0.309017</td>\n",
              "      <td>0.965926</td>\n",
              "      <td>0.951057</td>\n",
              "      <td>1075.5200</td>\n",
              "      <td>10.5000</td>\n",
              "      <td>294.0</td>\n",
              "      <td>3701.0</td>\n",
              "      <td>-0.125349</td>\n",
              "      <td>3225.0</td>\n",
              "      <td>1054.5200</td>\n",
              "    </tr>\n",
              "  </tbody>\n",
              "</table>\n",
              "</div>"
            ],
            "text/plain": [
              "   additional_fare  duration  ...  driving_duration  exact_fare\n",
              "0             10.5     834.0  ...             778.0    259.8200\n",
              "1             10.5     791.0  ...             744.0    187.3500\n",
              "2             10.5    1087.0  ...            1007.0    291.1400\n",
              "3             10.5     598.0  ...             327.0     56.1362\n",
              "5             10.5    3407.0  ...            3225.0   1054.5200\n",
              "\n",
              "[5 rows x 40 columns]"
            ]
          },
          "metadata": {
            "tags": []
          },
          "execution_count": 12
        }
      ]
    },
    {
      "cell_type": "code",
      "metadata": {
        "id": "_uhfnPStqVX2",
        "colab_type": "code",
        "colab": {
          "base_uri": "https://localhost:8080/",
          "height": 226
        },
        "outputId": "bb4861c1-a7c5-47cd-882e-5559090c4df4"
      },
      "source": [
        "from sklearn.impute import SimpleImputer\n",
        "\n",
        "cleaned_train_set.duration.fillna(cleaned_train_set.duration_calculated, inplace=True)\n",
        "cleaned_train_set.head()\n",
        "\n",
        "imp_mean = SimpleImputer(missing_values=np.nan, strategy='median')\n",
        "dframe = imp_mean.fit_transform(cleaned_train_set)\n",
        "k = cleaned_train_set.keys()\n",
        "imputed_train_set = cleaned_train_set\n",
        "imputed_train_set[k] = dframe\n",
        "imputed_train_set.head()"
      ],
      "execution_count": null,
      "outputs": [
        {
          "output_type": "execute_result",
          "data": {
            "text/html": [
              "<div>\n",
              "<style scoped>\n",
              "    .dataframe tbody tr th:only-of-type {\n",
              "        vertical-align: middle;\n",
              "    }\n",
              "\n",
              "    .dataframe tbody tr th {\n",
              "        vertical-align: top;\n",
              "    }\n",
              "\n",
              "    .dataframe thead th {\n",
              "        text-align: right;\n",
              "    }\n",
              "</style>\n",
              "<table border=\"1\" class=\"dataframe\">\n",
              "  <thead>\n",
              "    <tr style=\"text-align: right;\">\n",
              "      <th></th>\n",
              "      <th>additional_fare</th>\n",
              "      <th>duration</th>\n",
              "      <th>meter_waiting</th>\n",
              "      <th>meter_waiting_fare</th>\n",
              "      <th>meter_waiting_till_pickup</th>\n",
              "      <th>pick_lat</th>\n",
              "      <th>pick_lon</th>\n",
              "      <th>drop_lat</th>\n",
              "      <th>drop_lon</th>\n",
              "      <th>fare</th>\n",
              "      <th>pickup_time_year</th>\n",
              "      <th>pickup_time_month</th>\n",
              "      <th>pickup_time_day</th>\n",
              "      <th>pickup_time_hour</th>\n",
              "      <th>pickup_time_minute</th>\n",
              "      <th>drop_time_year</th>\n",
              "      <th>drop_time_month</th>\n",
              "      <th>drop_time_day</th>\n",
              "      <th>drop_time_hour</th>\n",
              "      <th>drop_time_minute</th>\n",
              "      <th>day_of_week</th>\n",
              "      <th>duration_calculated</th>\n",
              "      <th>distance</th>\n",
              "      <th>distance_X</th>\n",
              "      <th>distance_Y</th>\n",
              "      <th>pick_X</th>\n",
              "      <th>pick_Y</th>\n",
              "      <th>drop_X</th>\n",
              "      <th>drop_Y</th>\n",
              "      <th>pick_hour_sin</th>\n",
              "      <th>drop_hour_sin</th>\n",
              "      <th>pick_hour_cos</th>\n",
              "      <th>drop_hour_cos</th>\n",
              "      <th>total_fare</th>\n",
              "      <th>total_additional_fare</th>\n",
              "      <th>total_waiting_time</th>\n",
              "      <th>total_time</th>\n",
              "      <th>waiting_factor</th>\n",
              "      <th>driving_duration</th>\n",
              "      <th>exact_fare</th>\n",
              "    </tr>\n",
              "  </thead>\n",
              "  <tbody>\n",
              "    <tr>\n",
              "      <th>0</th>\n",
              "      <td>10.5</td>\n",
              "      <td>834.0</td>\n",
              "      <td>56.0</td>\n",
              "      <td>0.0000</td>\n",
              "      <td>64.0</td>\n",
              "      <td>6.86252</td>\n",
              "      <td>79.8993</td>\n",
              "      <td>6.90330</td>\n",
              "      <td>79.8783</td>\n",
              "      <td>270.32</td>\n",
              "      <td>2019.0</td>\n",
              "      <td>11.0</td>\n",
              "      <td>1.0</td>\n",
              "      <td>0.0</td>\n",
              "      <td>20.0</td>\n",
              "      <td>2019.0</td>\n",
              "      <td>11.0</td>\n",
              "      <td>1.0</td>\n",
              "      <td>0.0</td>\n",
              "      <td>34.0</td>\n",
              "      <td>0.0</td>\n",
              "      <td>840.0</td>\n",
              "      <td>0.022663</td>\n",
              "      <td>-0.04078</td>\n",
              "      <td>0.0210</td>\n",
              "      <td>-0.175519</td>\n",
              "      <td>-0.818213</td>\n",
              "      <td>-0.187363</td>\n",
              "      <td>-0.791950</td>\n",
              "      <td>0.000000</td>\n",
              "      <td>0.000000</td>\n",
              "      <td>1.000000</td>\n",
              "      <td>1.000000</td>\n",
              "      <td>280.8200</td>\n",
              "      <td>10.5000</td>\n",
              "      <td>120.0</td>\n",
              "      <td>954.0</td>\n",
              "      <td>-0.249539</td>\n",
              "      <td>778.0</td>\n",
              "      <td>259.8200</td>\n",
              "    </tr>\n",
              "    <tr>\n",
              "      <th>1</th>\n",
              "      <td>10.5</td>\n",
              "      <td>791.0</td>\n",
              "      <td>47.0</td>\n",
              "      <td>0.0000</td>\n",
              "      <td>134.0</td>\n",
              "      <td>6.88589</td>\n",
              "      <td>79.8984</td>\n",
              "      <td>6.91373</td>\n",
              "      <td>79.8923</td>\n",
              "      <td>197.85</td>\n",
              "      <td>2019.0</td>\n",
              "      <td>11.0</td>\n",
              "      <td>1.0</td>\n",
              "      <td>0.0</td>\n",
              "      <td>56.0</td>\n",
              "      <td>2019.0</td>\n",
              "      <td>11.0</td>\n",
              "      <td>1.0</td>\n",
              "      <td>1.0</td>\n",
              "      <td>9.0</td>\n",
              "      <td>0.0</td>\n",
              "      <td>780.0</td>\n",
              "      <td>0.006875</td>\n",
              "      <td>-0.02784</td>\n",
              "      <td>0.0061</td>\n",
              "      <td>-0.173513</td>\n",
              "      <td>-0.805325</td>\n",
              "      <td>-0.174935</td>\n",
              "      <td>-0.788535</td>\n",
              "      <td>0.000000</td>\n",
              "      <td>0.052336</td>\n",
              "      <td>1.000000</td>\n",
              "      <td>0.998630</td>\n",
              "      <td>208.3500</td>\n",
              "      <td>10.5000</td>\n",
              "      <td>181.0</td>\n",
              "      <td>972.0</td>\n",
              "      <td>-0.092330</td>\n",
              "      <td>744.0</td>\n",
              "      <td>187.3500</td>\n",
              "    </tr>\n",
              "    <tr>\n",
              "      <th>2</th>\n",
              "      <td>10.5</td>\n",
              "      <td>1087.0</td>\n",
              "      <td>80.0</td>\n",
              "      <td>0.0000</td>\n",
              "      <td>61.0</td>\n",
              "      <td>6.90839</td>\n",
              "      <td>79.8651</td>\n",
              "      <td>6.93669</td>\n",
              "      <td>79.9146</td>\n",
              "      <td>301.64</td>\n",
              "      <td>2019.0</td>\n",
              "      <td>11.0</td>\n",
              "      <td>1.0</td>\n",
              "      <td>1.0</td>\n",
              "      <td>8.0</td>\n",
              "      <td>2019.0</td>\n",
              "      <td>11.0</td>\n",
              "      <td>1.0</td>\n",
              "      <td>1.0</td>\n",
              "      <td>26.0</td>\n",
              "      <td>0.0</td>\n",
              "      <td>1080.0</td>\n",
              "      <td>0.050301</td>\n",
              "      <td>-0.02830</td>\n",
              "      <td>-0.0495</td>\n",
              "      <td>-0.197078</td>\n",
              "      <td>-0.786528</td>\n",
              "      <td>-0.154631</td>\n",
              "      <td>-0.778754</td>\n",
              "      <td>0.052336</td>\n",
              "      <td>0.052336</td>\n",
              "      <td>0.998630</td>\n",
              "      <td>0.998630</td>\n",
              "      <td>312.1400</td>\n",
              "      <td>10.5000</td>\n",
              "      <td>141.0</td>\n",
              "      <td>1228.0</td>\n",
              "      <td>-0.253348</td>\n",
              "      <td>1007.0</td>\n",
              "      <td>291.1400</td>\n",
              "    </tr>\n",
              "    <tr>\n",
              "      <th>3</th>\n",
              "      <td>10.5</td>\n",
              "      <td>598.0</td>\n",
              "      <td>271.0</td>\n",
              "      <td>15.6638</td>\n",
              "      <td>68.0</td>\n",
              "      <td>6.92570</td>\n",
              "      <td>79.8895</td>\n",
              "      <td>6.92748</td>\n",
              "      <td>79.8971</td>\n",
              "      <td>82.30</td>\n",
              "      <td>2019.0</td>\n",
              "      <td>11.0</td>\n",
              "      <td>1.0</td>\n",
              "      <td>2.0</td>\n",
              "      <td>27.0</td>\n",
              "      <td>2019.0</td>\n",
              "      <td>11.0</td>\n",
              "      <td>1.0</td>\n",
              "      <td>2.0</td>\n",
              "      <td>37.0</td>\n",
              "      <td>0.0</td>\n",
              "      <td>600.0</td>\n",
              "      <td>0.007603</td>\n",
              "      <td>-0.00178</td>\n",
              "      <td>-0.0076</td>\n",
              "      <td>-0.175582</td>\n",
              "      <td>-0.781100</td>\n",
              "      <td>-0.169414</td>\n",
              "      <td>-0.781369</td>\n",
              "      <td>0.104528</td>\n",
              "      <td>0.104528</td>\n",
              "      <td>0.994522</td>\n",
              "      <td>0.994522</td>\n",
              "      <td>108.4638</td>\n",
              "      <td>26.1638</td>\n",
              "      <td>339.0</td>\n",
              "      <td>937.0</td>\n",
              "      <td>-0.180187</td>\n",
              "      <td>327.0</td>\n",
              "      <td>56.1362</td>\n",
              "    </tr>\n",
              "    <tr>\n",
              "      <th>5</th>\n",
              "      <td>10.5</td>\n",
              "      <td>3407.0</td>\n",
              "      <td>182.0</td>\n",
              "      <td>0.0000</td>\n",
              "      <td>112.0</td>\n",
              "      <td>7.13402</td>\n",
              "      <td>79.8969</td>\n",
              "      <td>6.91865</td>\n",
              "      <td>79.8649</td>\n",
              "      <td>1065.02</td>\n",
              "      <td>2019.0</td>\n",
              "      <td>11.0</td>\n",
              "      <td>1.0</td>\n",
              "      <td>5.0</td>\n",
              "      <td>38.0</td>\n",
              "      <td>2019.0</td>\n",
              "      <td>11.0</td>\n",
              "      <td>1.0</td>\n",
              "      <td>6.0</td>\n",
              "      <td>35.0</td>\n",
              "      <td>0.0</td>\n",
              "      <td>3420.0</td>\n",
              "      <td>0.078384</td>\n",
              "      <td>0.21537</td>\n",
              "      <td>0.0320</td>\n",
              "      <td>-0.139842</td>\n",
              "      <td>-0.644356</td>\n",
              "      <td>-0.195765</td>\n",
              "      <td>-0.780623</td>\n",
              "      <td>0.258819</td>\n",
              "      <td>0.309017</td>\n",
              "      <td>0.965926</td>\n",
              "      <td>0.951057</td>\n",
              "      <td>1075.5200</td>\n",
              "      <td>10.5000</td>\n",
              "      <td>294.0</td>\n",
              "      <td>3701.0</td>\n",
              "      <td>-0.125349</td>\n",
              "      <td>3225.0</td>\n",
              "      <td>1054.5200</td>\n",
              "    </tr>\n",
              "  </tbody>\n",
              "</table>\n",
              "</div>"
            ],
            "text/plain": [
              "   additional_fare  duration  ...  driving_duration  exact_fare\n",
              "0             10.5     834.0  ...             778.0    259.8200\n",
              "1             10.5     791.0  ...             744.0    187.3500\n",
              "2             10.5    1087.0  ...            1007.0    291.1400\n",
              "3             10.5     598.0  ...             327.0     56.1362\n",
              "5             10.5    3407.0  ...            3225.0   1054.5200\n",
              "\n",
              "[5 rows x 40 columns]"
            ]
          },
          "metadata": {
            "tags": []
          },
          "execution_count": 13
        }
      ]
    },
    {
      "cell_type": "code",
      "metadata": {
        "id": "RkZjG_sYKE9p",
        "colab_type": "code",
        "colab": {}
      },
      "source": [
        ""
      ],
      "execution_count": null,
      "outputs": []
    },
    {
      "cell_type": "code",
      "metadata": {
        "id": "SVUkR2RQlemX",
        "colab_type": "code",
        "colab": {
          "base_uri": "https://localhost:8080/",
          "height": 226
        },
        "outputId": "6823ef17-ed51-4f67-c82d-2ea74c717640"
      },
      "source": [
        "imputed_train_set.head()"
      ],
      "execution_count": null,
      "outputs": [
        {
          "output_type": "execute_result",
          "data": {
            "text/html": [
              "<div>\n",
              "<style scoped>\n",
              "    .dataframe tbody tr th:only-of-type {\n",
              "        vertical-align: middle;\n",
              "    }\n",
              "\n",
              "    .dataframe tbody tr th {\n",
              "        vertical-align: top;\n",
              "    }\n",
              "\n",
              "    .dataframe thead th {\n",
              "        text-align: right;\n",
              "    }\n",
              "</style>\n",
              "<table border=\"1\" class=\"dataframe\">\n",
              "  <thead>\n",
              "    <tr style=\"text-align: right;\">\n",
              "      <th></th>\n",
              "      <th>additional_fare</th>\n",
              "      <th>duration</th>\n",
              "      <th>meter_waiting</th>\n",
              "      <th>meter_waiting_fare</th>\n",
              "      <th>meter_waiting_till_pickup</th>\n",
              "      <th>pick_lat</th>\n",
              "      <th>pick_lon</th>\n",
              "      <th>drop_lat</th>\n",
              "      <th>drop_lon</th>\n",
              "      <th>fare</th>\n",
              "      <th>pickup_time_year</th>\n",
              "      <th>pickup_time_month</th>\n",
              "      <th>pickup_time_day</th>\n",
              "      <th>pickup_time_hour</th>\n",
              "      <th>pickup_time_minute</th>\n",
              "      <th>drop_time_year</th>\n",
              "      <th>drop_time_month</th>\n",
              "      <th>drop_time_day</th>\n",
              "      <th>drop_time_hour</th>\n",
              "      <th>drop_time_minute</th>\n",
              "      <th>day_of_week</th>\n",
              "      <th>duration_calculated</th>\n",
              "      <th>distance</th>\n",
              "      <th>distance_X</th>\n",
              "      <th>distance_Y</th>\n",
              "      <th>pick_X</th>\n",
              "      <th>pick_Y</th>\n",
              "      <th>drop_X</th>\n",
              "      <th>drop_Y</th>\n",
              "      <th>pick_hour_sin</th>\n",
              "      <th>drop_hour_sin</th>\n",
              "      <th>pick_hour_cos</th>\n",
              "      <th>drop_hour_cos</th>\n",
              "      <th>total_fare</th>\n",
              "      <th>total_additional_fare</th>\n",
              "      <th>total_waiting_time</th>\n",
              "      <th>total_time</th>\n",
              "      <th>waiting_factor</th>\n",
              "      <th>driving_duration</th>\n",
              "      <th>exact_fare</th>\n",
              "    </tr>\n",
              "  </thead>\n",
              "  <tbody>\n",
              "    <tr>\n",
              "      <th>0</th>\n",
              "      <td>10.5</td>\n",
              "      <td>834.0</td>\n",
              "      <td>56.0</td>\n",
              "      <td>0.0000</td>\n",
              "      <td>64.0</td>\n",
              "      <td>6.86252</td>\n",
              "      <td>79.8993</td>\n",
              "      <td>6.90330</td>\n",
              "      <td>79.8783</td>\n",
              "      <td>270.32</td>\n",
              "      <td>2019.0</td>\n",
              "      <td>11.0</td>\n",
              "      <td>1.0</td>\n",
              "      <td>0.0</td>\n",
              "      <td>20.0</td>\n",
              "      <td>2019.0</td>\n",
              "      <td>11.0</td>\n",
              "      <td>1.0</td>\n",
              "      <td>0.0</td>\n",
              "      <td>34.0</td>\n",
              "      <td>0.0</td>\n",
              "      <td>840.0</td>\n",
              "      <td>0.022663</td>\n",
              "      <td>-0.04078</td>\n",
              "      <td>0.0210</td>\n",
              "      <td>-0.175519</td>\n",
              "      <td>-0.818213</td>\n",
              "      <td>-0.187363</td>\n",
              "      <td>-0.791950</td>\n",
              "      <td>0.000000</td>\n",
              "      <td>0.000000</td>\n",
              "      <td>1.000000</td>\n",
              "      <td>1.000000</td>\n",
              "      <td>280.8200</td>\n",
              "      <td>10.5000</td>\n",
              "      <td>120.0</td>\n",
              "      <td>954.0</td>\n",
              "      <td>-0.249539</td>\n",
              "      <td>778.0</td>\n",
              "      <td>259.8200</td>\n",
              "    </tr>\n",
              "    <tr>\n",
              "      <th>1</th>\n",
              "      <td>10.5</td>\n",
              "      <td>791.0</td>\n",
              "      <td>47.0</td>\n",
              "      <td>0.0000</td>\n",
              "      <td>134.0</td>\n",
              "      <td>6.88589</td>\n",
              "      <td>79.8984</td>\n",
              "      <td>6.91373</td>\n",
              "      <td>79.8923</td>\n",
              "      <td>197.85</td>\n",
              "      <td>2019.0</td>\n",
              "      <td>11.0</td>\n",
              "      <td>1.0</td>\n",
              "      <td>0.0</td>\n",
              "      <td>56.0</td>\n",
              "      <td>2019.0</td>\n",
              "      <td>11.0</td>\n",
              "      <td>1.0</td>\n",
              "      <td>1.0</td>\n",
              "      <td>9.0</td>\n",
              "      <td>0.0</td>\n",
              "      <td>780.0</td>\n",
              "      <td>0.006875</td>\n",
              "      <td>-0.02784</td>\n",
              "      <td>0.0061</td>\n",
              "      <td>-0.173513</td>\n",
              "      <td>-0.805325</td>\n",
              "      <td>-0.174935</td>\n",
              "      <td>-0.788535</td>\n",
              "      <td>0.000000</td>\n",
              "      <td>0.052336</td>\n",
              "      <td>1.000000</td>\n",
              "      <td>0.998630</td>\n",
              "      <td>208.3500</td>\n",
              "      <td>10.5000</td>\n",
              "      <td>181.0</td>\n",
              "      <td>972.0</td>\n",
              "      <td>-0.092330</td>\n",
              "      <td>744.0</td>\n",
              "      <td>187.3500</td>\n",
              "    </tr>\n",
              "    <tr>\n",
              "      <th>2</th>\n",
              "      <td>10.5</td>\n",
              "      <td>1087.0</td>\n",
              "      <td>80.0</td>\n",
              "      <td>0.0000</td>\n",
              "      <td>61.0</td>\n",
              "      <td>6.90839</td>\n",
              "      <td>79.8651</td>\n",
              "      <td>6.93669</td>\n",
              "      <td>79.9146</td>\n",
              "      <td>301.64</td>\n",
              "      <td>2019.0</td>\n",
              "      <td>11.0</td>\n",
              "      <td>1.0</td>\n",
              "      <td>1.0</td>\n",
              "      <td>8.0</td>\n",
              "      <td>2019.0</td>\n",
              "      <td>11.0</td>\n",
              "      <td>1.0</td>\n",
              "      <td>1.0</td>\n",
              "      <td>26.0</td>\n",
              "      <td>0.0</td>\n",
              "      <td>1080.0</td>\n",
              "      <td>0.050301</td>\n",
              "      <td>-0.02830</td>\n",
              "      <td>-0.0495</td>\n",
              "      <td>-0.197078</td>\n",
              "      <td>-0.786528</td>\n",
              "      <td>-0.154631</td>\n",
              "      <td>-0.778754</td>\n",
              "      <td>0.052336</td>\n",
              "      <td>0.052336</td>\n",
              "      <td>0.998630</td>\n",
              "      <td>0.998630</td>\n",
              "      <td>312.1400</td>\n",
              "      <td>10.5000</td>\n",
              "      <td>141.0</td>\n",
              "      <td>1228.0</td>\n",
              "      <td>-0.253348</td>\n",
              "      <td>1007.0</td>\n",
              "      <td>291.1400</td>\n",
              "    </tr>\n",
              "    <tr>\n",
              "      <th>3</th>\n",
              "      <td>10.5</td>\n",
              "      <td>598.0</td>\n",
              "      <td>271.0</td>\n",
              "      <td>15.6638</td>\n",
              "      <td>68.0</td>\n",
              "      <td>6.92570</td>\n",
              "      <td>79.8895</td>\n",
              "      <td>6.92748</td>\n",
              "      <td>79.8971</td>\n",
              "      <td>82.30</td>\n",
              "      <td>2019.0</td>\n",
              "      <td>11.0</td>\n",
              "      <td>1.0</td>\n",
              "      <td>2.0</td>\n",
              "      <td>27.0</td>\n",
              "      <td>2019.0</td>\n",
              "      <td>11.0</td>\n",
              "      <td>1.0</td>\n",
              "      <td>2.0</td>\n",
              "      <td>37.0</td>\n",
              "      <td>0.0</td>\n",
              "      <td>600.0</td>\n",
              "      <td>0.007603</td>\n",
              "      <td>-0.00178</td>\n",
              "      <td>-0.0076</td>\n",
              "      <td>-0.175582</td>\n",
              "      <td>-0.781100</td>\n",
              "      <td>-0.169414</td>\n",
              "      <td>-0.781369</td>\n",
              "      <td>0.104528</td>\n",
              "      <td>0.104528</td>\n",
              "      <td>0.994522</td>\n",
              "      <td>0.994522</td>\n",
              "      <td>108.4638</td>\n",
              "      <td>26.1638</td>\n",
              "      <td>339.0</td>\n",
              "      <td>937.0</td>\n",
              "      <td>-0.180187</td>\n",
              "      <td>327.0</td>\n",
              "      <td>56.1362</td>\n",
              "    </tr>\n",
              "    <tr>\n",
              "      <th>5</th>\n",
              "      <td>10.5</td>\n",
              "      <td>3407.0</td>\n",
              "      <td>182.0</td>\n",
              "      <td>0.0000</td>\n",
              "      <td>112.0</td>\n",
              "      <td>7.13402</td>\n",
              "      <td>79.8969</td>\n",
              "      <td>6.91865</td>\n",
              "      <td>79.8649</td>\n",
              "      <td>1065.02</td>\n",
              "      <td>2019.0</td>\n",
              "      <td>11.0</td>\n",
              "      <td>1.0</td>\n",
              "      <td>5.0</td>\n",
              "      <td>38.0</td>\n",
              "      <td>2019.0</td>\n",
              "      <td>11.0</td>\n",
              "      <td>1.0</td>\n",
              "      <td>6.0</td>\n",
              "      <td>35.0</td>\n",
              "      <td>0.0</td>\n",
              "      <td>3420.0</td>\n",
              "      <td>0.078384</td>\n",
              "      <td>0.21537</td>\n",
              "      <td>0.0320</td>\n",
              "      <td>-0.139842</td>\n",
              "      <td>-0.644356</td>\n",
              "      <td>-0.195765</td>\n",
              "      <td>-0.780623</td>\n",
              "      <td>0.258819</td>\n",
              "      <td>0.309017</td>\n",
              "      <td>0.965926</td>\n",
              "      <td>0.951057</td>\n",
              "      <td>1075.5200</td>\n",
              "      <td>10.5000</td>\n",
              "      <td>294.0</td>\n",
              "      <td>3701.0</td>\n",
              "      <td>-0.125349</td>\n",
              "      <td>3225.0</td>\n",
              "      <td>1054.5200</td>\n",
              "    </tr>\n",
              "  </tbody>\n",
              "</table>\n",
              "</div>"
            ],
            "text/plain": [
              "   additional_fare  duration  ...  driving_duration  exact_fare\n",
              "0             10.5     834.0  ...             778.0    259.8200\n",
              "1             10.5     791.0  ...             744.0    187.3500\n",
              "2             10.5    1087.0  ...            1007.0    291.1400\n",
              "3             10.5     598.0  ...             327.0     56.1362\n",
              "5             10.5    3407.0  ...            3225.0   1054.5200\n",
              "\n",
              "[5 rows x 40 columns]"
            ]
          },
          "metadata": {
            "tags": []
          },
          "execution_count": 22
        }
      ]
    },
    {
      "cell_type": "code",
      "metadata": {
        "id": "4jd0tdno-ftT",
        "colab_type": "code",
        "colab": {}
      },
      "source": [
        "numeric_cols = ['meter_waiting','meter_waiting_fare','meter_waiting_till_pickup',\n",
        "               'additional_fare','duration','pick_lat','pick_lon','drop_lat','drop_lon',\n",
        "               'fare','pickup_time_day','pickup_time_hour','pickup_time_minute']\n",
        "\n",
        "numeric_cols = ['meter_waiting','meter_waiting_fare','meter_waiting_till_pickup',\n",
        "               'additional_fare','driving_duration','exact_fare','distance',\n",
        "                'distance_X', 'distance_Y']\n",
        "categorical_cols = ['pickup_time_hour',]\n",
        "\n"
      ],
      "execution_count": null,
      "outputs": []
    },
    {
      "cell_type": "code",
      "metadata": {
        "id": "MBtibq9gXvla",
        "colab_type": "code",
        "colab": {}
      },
      "source": [
        ""
      ],
      "execution_count": null,
      "outputs": []
    },
    {
      "cell_type": "code",
      "metadata": {
        "id": "fWpN_q3bXvqj",
        "colab_type": "code",
        "colab": {}
      },
      "source": [
        ""
      ],
      "execution_count": null,
      "outputs": []
    },
    {
      "cell_type": "code",
      "metadata": {
        "id": "2cTQzFOTXvpG",
        "colab_type": "code",
        "colab": {}
      },
      "source": [
        ""
      ],
      "execution_count": null,
      "outputs": []
    },
    {
      "cell_type": "code",
      "metadata": {
        "id": "QmqIt916-xHd",
        "colab_type": "code",
        "colab": {}
      },
      "source": [
        "X_train, X_eval, Y_train, Y_eval = train_test_split(\n",
        "    imputed_train_set,\n",
        "    labels,\n",
        "    test_size=0.20,\n",
        "    shuffle=True,\n",
        "    stratify=labels,\n",
        "    random_state=RANDOM_SEED\n",
        ")\n",
        "\n"
      ],
      "execution_count": null,
      "outputs": []
    },
    {
      "cell_type": "code",
      "metadata": {
        "id": "y6Jrsx7j_EcW",
        "colab_type": "code",
        "colab": {}
      },
      "source": [
        "numeric_preprocessing_steps = Pipeline([\n",
        "    ('minmax_scaler', MinMaxScaler())\n",
        "])\n",
        "\n",
        "categorical_transformer = Pipeline(steps=[\n",
        "    ('onehot', OrdinalEncoder())\n",
        "    ])\n",
        "\n",
        "\n",
        "preprocessor = ColumnTransformer(\n",
        "    transformers = [\n",
        "        (\"numeric\", numeric_preprocessing_steps, numeric_cols),\n",
        "        (\"categorical\", categorical_transformer, categorical_cols)\n",
        "    ],\n",
        "    remainder = \"drop\"\n",
        ")\n",
        "\n",
        "data_pipeline = Pipeline([\n",
        "    (\"preprocessor\", preprocessor)\n",
        "])\n"
      ],
      "execution_count": null,
      "outputs": []
    },
    {
      "cell_type": "code",
      "metadata": {
        "id": "OKkm4KpE_lVV",
        "colab_type": "code",
        "colab": {}
      },
      "source": [
        "data_pipeline.fit(X_train)\n",
        "d_train = data_pipeline.transform(X_train)\n",
        "d_eval = data_pipeline.transform(X_eval)"
      ],
      "execution_count": null,
      "outputs": []
    },
    {
      "cell_type": "code",
      "metadata": {
        "id": "b0v5DTk2_qFs",
        "colab_type": "code",
        "colab": {}
      },
      "source": [
        ""
      ],
      "execution_count": null,
      "outputs": []
    },
    {
      "cell_type": "code",
      "metadata": {
        "id": "_T_zbihj_rvM",
        "colab_type": "code",
        "colab": {
          "base_uri": "https://localhost:8080/",
          "height": 54
        },
        "outputId": "6fe1d637-8531-4188-e0b2-bda7708cd03b"
      },
      "source": [
        "print(d_train.shape, d_eval.shape)\n",
        "Y_train.shape"
      ],
      "execution_count": null,
      "outputs": [
        {
          "output_type": "stream",
          "text": [
            "(13574, 10) (3394, 10)\n"
          ],
          "name": "stdout"
        },
        {
          "output_type": "execute_result",
          "data": {
            "text/plain": [
              "(13574,)"
            ]
          },
          "metadata": {
            "tags": []
          },
          "execution_count": 91
        }
      ]
    },
    {
      "cell_type": "code",
      "metadata": {
        "id": "YF0SyMzo_uw8",
        "colab_type": "code",
        "colab": {
          "base_uri": "https://localhost:8080/",
          "height": 72
        },
        "outputId": "5f9f01d7-4f9a-46fa-c911-71c880a9980a"
      },
      "source": [
        "d_train[0]"
      ],
      "execution_count": null,
      "outputs": [
        {
          "output_type": "execute_result",
          "data": {
            "text/plain": [
              "array([2.13821228e-04, 0.00000000e+00, 2.06676026e-03, 8.20631136e-04,\n",
              "       8.65985824e-01, 1.23431544e-02, 5.29539131e-07, 9.89144463e-01,\n",
              "       1.12277126e-02, 1.10000000e+01])"
            ]
          },
          "metadata": {
            "tags": []
          },
          "execution_count": 92
        }
      ]
    },
    {
      "cell_type": "code",
      "metadata": {
        "id": "2hOzKqs9SohQ",
        "colab_type": "code",
        "colab": {}
      },
      "source": [
        ""
      ],
      "execution_count": null,
      "outputs": []
    },
    {
      "cell_type": "code",
      "metadata": {
        "id": "SflTTNQuSoqQ",
        "colab_type": "code",
        "colab": {}
      },
      "source": [
        ""
      ],
      "execution_count": null,
      "outputs": []
    },
    {
      "cell_type": "code",
      "metadata": {
        "id": "cZQGwzGfiemE",
        "colab_type": "code",
        "colab": {}
      },
      "source": [
        "from sklearn.utils.class_weight import compute_sample_weight\n",
        "sample_w = compute_sample_weight(class_weight={0:10, 1:1}, y=Y_train)"
      ],
      "execution_count": null,
      "outputs": []
    },
    {
      "cell_type": "code",
      "metadata": {
        "id": "1tnCOXBj5xaV",
        "colab_type": "code",
        "colab": {
          "base_uri": "https://localhost:8080/",
          "height": 35
        },
        "outputId": "13a100dd-02a8-4c1f-b24f-e05aeb1506ea"
      },
      "source": [
        "sample_w"
      ],
      "execution_count": null,
      "outputs": [
        {
          "output_type": "execute_result",
          "data": {
            "text/plain": [
              "array([1., 1., 1., ..., 1., 1., 1.])"
            ]
          },
          "metadata": {
            "tags": []
          },
          "execution_count": 120
        }
      ]
    },
    {
      "cell_type": "code",
      "metadata": {
        "id": "52T2RwNXKqh5",
        "colab_type": "code",
        "colab": {
          "base_uri": "https://localhost:8080/",
          "height": 550
        },
        "outputId": "4c8116cf-93c6-460e-a2f8-958e9a699f7c"
      },
      "source": [
        "from sklearn.ensemble import GradientBoostingClassifier\n",
        "from sklearn.metrics import f1_score\n",
        "\n",
        "gbclf = GradientBoostingClassifier(random_state=2, n_estimators = 800, max_depth =10, \n",
        "                                   subsample = 1.0, verbose = 1)\n",
        "gbclf.fit(d_train, Y_train, sample_w)\n",
        "print(gbclf.score(d_eval, Y_eval))\n",
        "pr = gbclf.predict(d_eval)\n",
        "f1_score(Y_eval, pr, average='macro')"
      ],
      "execution_count": null,
      "outputs": [
        {
          "output_type": "stream",
          "text": [
            "      Iter       Train Loss   Remaining Time \n",
            "         1           1.2635            1.50m\n",
            "         2           1.1665            1.53m\n",
            "         3           1.0830            1.53m\n",
            "         4           1.0156            1.53m\n",
            "         5           0.9519            1.53m\n",
            "         6           0.8962            1.53m\n",
            "         7           0.8503            1.53m\n",
            "         8           0.8022            1.54m\n",
            "         9           0.7610            1.54m\n",
            "        10           0.7277            1.54m\n",
            "        20           0.4556            1.54m\n",
            "        30           0.3070            1.51m\n",
            "        40           0.2128            1.49m\n",
            "        50           0.1581            1.46m\n",
            "        60           0.1197            1.45m\n",
            "        70           0.0940            1.43m\n",
            "        80           0.0750            1.41m\n",
            "        90           0.0605            1.39m\n",
            "       100           0.0506            1.37m\n",
            "       200           0.0081            1.17m\n",
            "       300           0.0014           57.76s\n",
            "       400           0.0004           45.23s\n",
            "       500           0.0003           29.95s\n",
            "       600           0.0003           16.69s\n",
            "       700           0.0003            7.18s\n",
            "       800           0.0003            0.00s\n",
            "0.9560989982321745\n"
          ],
          "name": "stdout"
        },
        {
          "output_type": "execute_result",
          "data": {
            "text/plain": [
              "0.8472653820842033"
            ]
          },
          "metadata": {
            "tags": []
          },
          "execution_count": 94
        }
      ]
    },
    {
      "cell_type": "code",
      "metadata": {
        "id": "xe6fugdL_9mT",
        "colab_type": "code",
        "colab": {
          "base_uri": "https://localhost:8080/",
          "height": 35
        },
        "outputId": "7e129aaf-4dbb-4689-8d4c-65ecb53c56bf"
      },
      "source": [
        "from sklearn.ensemble import GradientBoostingClassifier\n",
        "\n",
        "gbclf = GradientBoostingClassifier(random_state=0, n_estimators = 850, max_depth =8, subsample = 1.0, loss ='exponential')\n",
        "#gbclf.fit(d_train, Y_train, sample_w)\n",
        "gbclf.fit(d_train, Y_train,sample_w)\n",
        "gbclf.score(d_eval, Y_eval)"
      ],
      "execution_count": null,
      "outputs": [
        {
          "output_type": "execute_result",
          "data": {
            "text/plain": [
              "0.9560989982321745"
            ]
          },
          "metadata": {
            "tags": []
          },
          "execution_count": 28
        }
      ]
    },
    {
      "cell_type": "code",
      "metadata": {
        "id": "7UChsw84xbX0",
        "colab_type": "code",
        "colab": {}
      },
      "source": [
        "gbclf"
      ],
      "execution_count": null,
      "outputs": []
    },
    {
      "cell_type": "code",
      "metadata": {
        "id": "zvtUiukenSOZ",
        "colab_type": "code",
        "colab": {}
      },
      "source": [
        ""
      ],
      "execution_count": null,
      "outputs": []
    },
    {
      "cell_type": "code",
      "metadata": {
        "id": "nw2E_4YDnSVS",
        "colab_type": "code",
        "colab": {}
      },
      "source": [
        ""
      ],
      "execution_count": null,
      "outputs": []
    },
    {
      "cell_type": "code",
      "metadata": {
        "id": "puRrtURpnSaY",
        "colab_type": "code",
        "colab": {}
      },
      "source": [
        ""
      ],
      "execution_count": null,
      "outputs": []
    },
    {
      "cell_type": "code",
      "metadata": {
        "id": "kcQXiHvYnSf6",
        "colab_type": "code",
        "colab": {}
      },
      "source": [
        ""
      ],
      "execution_count": null,
      "outputs": []
    },
    {
      "cell_type": "code",
      "metadata": {
        "id": "47ZX5CfqnSna",
        "colab_type": "code",
        "colab": {}
      },
      "source": [
        ""
      ],
      "execution_count": null,
      "outputs": []
    },
    {
      "cell_type": "code",
      "metadata": {
        "id": "XSVTe68onSlR",
        "colab_type": "code",
        "colab": {}
      },
      "source": [
        ""
      ],
      "execution_count": null,
      "outputs": []
    },
    {
      "cell_type": "code",
      "metadata": {
        "id": "O6V6Buku4_Cg",
        "colab_type": "code",
        "colab": {}
      },
      "source": [
        ""
      ],
      "execution_count": null,
      "outputs": []
    },
    {
      "cell_type": "code",
      "metadata": {
        "id": "r3USS1n7TE_1",
        "colab_type": "code",
        "colab": {
          "base_uri": "https://localhost:8080/",
          "height": 752
        },
        "outputId": "eb4eb79d-17fd-4e6a-b706-3dc5b8d78d62"
      },
      "source": [
        "data_pipeline.fit(imputed_train_set)\n",
        "d_all = data_pipeline.transform(imputed_train_set)\n",
        "y_all = labels\n",
        "print(d_all.shape, y_all.shape)\n",
        "\n",
        "from sklearn.utils.class_weight import compute_sample_weight\n",
        "sample_w = compute_sample_weight(class_weight={0:10, 1:1}, y=y_all)\n",
        "\n",
        "gbclf = GradientBoostingClassifier(random_state=2, n_estimators = 1500, max_depth =8, \n",
        "                                   subsample = 1.0, verbose = 1)\n",
        "\n",
        "gbclf.fit(d_all, y_all,sample_w)"
      ],
      "execution_count": null,
      "outputs": [
        {
          "output_type": "stream",
          "text": [
            "(16968, 6) (16968,)\n",
            "      Iter       Train Loss   Remaining Time \n",
            "         1           1.2863            1.63m\n",
            "         2           1.1994            1.64m\n",
            "         3           1.1302            1.67m\n",
            "         4           1.0683            1.66m\n",
            "         5           1.0187            1.66m\n",
            "         6           0.9709            1.66m\n",
            "         7           0.9314            1.69m\n",
            "         8           0.8932            1.69m\n",
            "         9           0.8592            1.69m\n",
            "        10           0.8277            1.69m\n",
            "        20           0.6120            1.66m\n",
            "        30           0.5085            1.64m\n",
            "        40           0.4371            1.63m\n",
            "        50           0.3832            1.61m\n",
            "        60           0.3412            1.60m\n",
            "        70           0.3051            1.58m\n",
            "        80           0.2821            1.57m\n",
            "        90           0.2574            1.56m\n",
            "       100           0.2322            1.55m\n",
            "       200           0.1187            1.43m\n",
            "       300           0.0613            1.31m\n",
            "       400           0.0348            1.20m\n",
            "       500           0.0201            1.09m\n",
            "       600           0.0114           59.04s\n",
            "       700           0.0062           52.39s\n",
            "       800           0.0037           45.80s\n",
            "       900           0.0022           39.19s\n",
            "      1000           0.0013           32.60s\n"
          ],
          "name": "stdout"
        },
        {
          "output_type": "execute_result",
          "data": {
            "text/plain": [
              "GradientBoostingClassifier(ccp_alpha=0.0, criterion='friedman_mse', init=None,\n",
              "                           learning_rate=0.1, loss='deviance', max_depth=8,\n",
              "                           max_features=None, max_leaf_nodes=None,\n",
              "                           min_impurity_decrease=0.0, min_impurity_split=None,\n",
              "                           min_samples_leaf=1, min_samples_split=2,\n",
              "                           min_weight_fraction_leaf=0.0, n_estimators=1500,\n",
              "                           n_iter_no_change=None, presort='deprecated',\n",
              "                           random_state=2, subsample=1.0, tol=0.0001,\n",
              "                           validation_fraction=0.1, verbose=1,\n",
              "                           warm_start=False)"
            ]
          },
          "metadata": {
            "tags": []
          },
          "execution_count": 78
        }
      ]
    },
    {
      "cell_type": "code",
      "metadata": {
        "id": "W7tbXRtIS9Te",
        "colab_type": "code",
        "colab": {
          "base_uri": "https://localhost:8080/",
          "height": 382
        },
        "outputId": "9aa34e8b-ff09-4b96-b4a3-be0b7799ebb6"
      },
      "source": [
        "cleaned_test_data = preprocess_train_data(test)\n",
        "\n",
        "test_set = data_pipeline.transform(cleaned_test_data)"
      ],
      "execution_count": null,
      "outputs": [
        {
          "output_type": "error",
          "ename": "ValueError",
          "evalue": "ignored",
          "traceback": [
            "\u001b[0;31m---------------------------------------------------------------------------\u001b[0m",
            "\u001b[0;31mValueError\u001b[0m                                Traceback (most recent call last)",
            "\u001b[0;32m<ipython-input-79-3335ccfa182c>\u001b[0m in \u001b[0;36m<module>\u001b[0;34m()\u001b[0m\n\u001b[1;32m      1\u001b[0m \u001b[0mcleaned_test_data\u001b[0m \u001b[0;34m=\u001b[0m \u001b[0mpreprocess_train_data\u001b[0m\u001b[0;34m(\u001b[0m\u001b[0mtest\u001b[0m\u001b[0;34m)\u001b[0m\u001b[0;34m\u001b[0m\u001b[0;34m\u001b[0m\u001b[0m\n\u001b[1;32m      2\u001b[0m \u001b[0;34m\u001b[0m\u001b[0m\n\u001b[0;32m----> 3\u001b[0;31m \u001b[0mtest_set\u001b[0m \u001b[0;34m=\u001b[0m \u001b[0mdata_pipeline\u001b[0m\u001b[0;34m.\u001b[0m\u001b[0mtransform\u001b[0m\u001b[0;34m(\u001b[0m\u001b[0mcleaned_test_data\u001b[0m\u001b[0;34m)\u001b[0m\u001b[0;34m\u001b[0m\u001b[0;34m\u001b[0m\u001b[0m\n\u001b[0m",
            "\u001b[0;32m/usr/local/lib/python3.6/dist-packages/sklearn/pipeline.py\u001b[0m in \u001b[0;36m_transform\u001b[0;34m(self, X)\u001b[0m\n\u001b[1;32m    555\u001b[0m         \u001b[0mXt\u001b[0m \u001b[0;34m=\u001b[0m \u001b[0mX\u001b[0m\u001b[0;34m\u001b[0m\u001b[0;34m\u001b[0m\u001b[0m\n\u001b[1;32m    556\u001b[0m         \u001b[0;32mfor\u001b[0m \u001b[0m_\u001b[0m\u001b[0;34m,\u001b[0m \u001b[0m_\u001b[0m\u001b[0;34m,\u001b[0m \u001b[0mtransform\u001b[0m \u001b[0;32min\u001b[0m \u001b[0mself\u001b[0m\u001b[0;34m.\u001b[0m\u001b[0m_iter\u001b[0m\u001b[0;34m(\u001b[0m\u001b[0;34m)\u001b[0m\u001b[0;34m:\u001b[0m\u001b[0;34m\u001b[0m\u001b[0;34m\u001b[0m\u001b[0m\n\u001b[0;32m--> 557\u001b[0;31m             \u001b[0mXt\u001b[0m \u001b[0;34m=\u001b[0m \u001b[0mtransform\u001b[0m\u001b[0;34m.\u001b[0m\u001b[0mtransform\u001b[0m\u001b[0;34m(\u001b[0m\u001b[0mXt\u001b[0m\u001b[0;34m)\u001b[0m\u001b[0;34m\u001b[0m\u001b[0;34m\u001b[0m\u001b[0m\n\u001b[0m\u001b[1;32m    558\u001b[0m         \u001b[0;32mreturn\u001b[0m \u001b[0mXt\u001b[0m\u001b[0;34m\u001b[0m\u001b[0;34m\u001b[0m\u001b[0m\n\u001b[1;32m    559\u001b[0m \u001b[0;34m\u001b[0m\u001b[0m\n",
            "\u001b[0;32m/usr/local/lib/python3.6/dist-packages/sklearn/compose/_column_transformer.py\u001b[0m in \u001b[0;36mtransform\u001b[0;34m(self, X)\u001b[0m\n\u001b[1;32m    569\u001b[0m                              \u001b[0;34m'transformer. Transformer n_features is {0} '\u001b[0m\u001b[0;34m\u001b[0m\u001b[0;34m\u001b[0m\u001b[0m\n\u001b[1;32m    570\u001b[0m                              \u001b[0;34m'and input n_features is {1}.'\u001b[0m\u001b[0;34m\u001b[0m\u001b[0;34m\u001b[0m\u001b[0m\n\u001b[0;32m--> 571\u001b[0;31m                              .format(self._n_features, X.shape[1]))\n\u001b[0m\u001b[1;32m    572\u001b[0m \u001b[0;34m\u001b[0m\u001b[0m\n\u001b[1;32m    573\u001b[0m         \u001b[0;31m# No column reordering allowed for named cols combined with remainder\u001b[0m\u001b[0;34m\u001b[0m\u001b[0;34m\u001b[0m\u001b[0;34m\u001b[0m\u001b[0m\n",
            "\u001b[0;31mValueError\u001b[0m: Number of features of the input must be equal to or greater than that of the fitted transformer. Transformer n_features is 41 and input n_features is 40."
          ]
        }
      ]
    },
    {
      "cell_type": "code",
      "metadata": {
        "id": "0TB6w3_RS9bj",
        "colab_type": "code",
        "colab": {}
      },
      "source": [
        "test_set.shape"
      ],
      "execution_count": null,
      "outputs": []
    },
    {
      "cell_type": "code",
      "metadata": {
        "id": "gFOunosbS9o-",
        "colab_type": "code",
        "colab": {}
      },
      "source": [
        "preds = gbclf.predict(test_set)\n",
        "print(preds)"
      ],
      "execution_count": null,
      "outputs": []
    },
    {
      "cell_type": "code",
      "metadata": {
        "id": "MFLGfZrdT7tN",
        "colab_type": "code",
        "colab": {}
      },
      "source": [
        "preds.shape"
      ],
      "execution_count": null,
      "outputs": []
    },
    {
      "cell_type": "code",
      "metadata": {
        "id": "xZFn05nyS9mA",
        "colab_type": "code",
        "colab": {}
      },
      "source": [
        "output = pd.DataFrame(test,columns=['tripid'])\n",
        "output['prediction'] = preds\n",
        "output.head()"
      ],
      "execution_count": null,
      "outputs": []
    },
    {
      "cell_type": "code",
      "metadata": {
        "id": "7VuFuEg2S9j9",
        "colab_type": "code",
        "colab": {}
      },
      "source": [
        "output.to_csv('/content/Ridefare_submission_22.csv',index=False)"
      ],
      "execution_count": null,
      "outputs": []
    },
    {
      "cell_type": "code",
      "metadata": {
        "id": "TRsHj6uRS9ia",
        "colab_type": "code",
        "colab": {}
      },
      "source": [
        ""
      ],
      "execution_count": null,
      "outputs": []
    },
    {
      "cell_type": "code",
      "metadata": {
        "id": "jjA5UqQkS9Xe",
        "colab_type": "code",
        "colab": {}
      },
      "source": [
        ""
      ],
      "execution_count": null,
      "outputs": []
    },
    {
      "cell_type": "code",
      "metadata": {
        "id": "_dyPdaDXPiGH",
        "colab_type": "code",
        "colab": {}
      },
      "source": [
        ""
      ],
      "execution_count": null,
      "outputs": []
    },
    {
      "cell_type": "code",
      "metadata": {
        "id": "kXNWZy5oPiEV",
        "colab_type": "code",
        "colab": {}
      },
      "source": [
        ""
      ],
      "execution_count": null,
      "outputs": []
    }
  ]
}